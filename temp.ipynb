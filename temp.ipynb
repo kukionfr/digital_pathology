{
 "cells": [
  {
   "cell_type": "code",
   "execution_count": 2,
   "outputs": [
    {
     "name": "stdout",
     "output_type": "stream",
     "text": [
      "Welcome, Kyu Sang Han!\n",
      "\n"
     ]
    },
    {
     "ename": "ValueError",
     "evalue": "File download failed during sync",
     "output_type": "error",
     "traceback": [
      "\u001B[1;31m---------------------------------------------------------------------------\u001B[0m",
      "\u001B[1;31mSynapseMd5MismatchError\u001B[0m                   Traceback (most recent call last)",
      "\u001B[1;32mc:\\users\\kyuha\\pycharmprojects\\digital_pathology\\digital_pathology\\lib\\site-packages\\synapseutils\\sync.py\u001B[0m in \u001B[0;36m_sync_file\u001B[1;34m(self, entity_id, parent_folder_sync, path, ifcollision, followLink, progress)\u001B[0m\n\u001B[0;32m    254\u001B[0m \u001B[1;33m\u001B[0m\u001B[0m\n\u001B[1;32m--> 255\u001B[1;33m                 entity = self._syn.get(\n\u001B[0m\u001B[0;32m    256\u001B[0m                     \u001B[0mentity_id\u001B[0m\u001B[1;33m,\u001B[0m\u001B[1;33m\u001B[0m\u001B[1;33m\u001B[0m\u001B[0m\n",
      "\u001B[1;32mc:\\users\\kyuha\\pycharmprojects\\digital_pathology\\digital_pathology\\lib\\site-packages\\synapseclient\\client.py\u001B[0m in \u001B[0;36mget\u001B[1;34m(self, entity, **kwargs)\u001B[0m\n\u001B[0;32m    712\u001B[0m \u001B[1;33m\u001B[0m\u001B[0m\n\u001B[1;32m--> 713\u001B[1;33m         \u001B[1;32mreturn\u001B[0m \u001B[0mself\u001B[0m\u001B[1;33m.\u001B[0m\u001B[0m_getWithEntityBundle\u001B[0m\u001B[1;33m(\u001B[0m\u001B[0mentityBundle\u001B[0m\u001B[1;33m=\u001B[0m\u001B[0mbundle\u001B[0m\u001B[1;33m,\u001B[0m \u001B[0mentity\u001B[0m\u001B[1;33m=\u001B[0m\u001B[0mentity\u001B[0m\u001B[1;33m,\u001B[0m \u001B[1;33m**\u001B[0m\u001B[0mkwargs\u001B[0m\u001B[1;33m)\u001B[0m\u001B[1;33m\u001B[0m\u001B[1;33m\u001B[0m\u001B[0m\n\u001B[0m\u001B[0;32m    714\u001B[0m \u001B[1;33m\u001B[0m\u001B[0m\n",
      "\u001B[1;32mc:\\users\\kyuha\\pycharmprojects\\digital_pathology\\digital_pathology\\lib\\site-packages\\synapseclient\\client.py\u001B[0m in \u001B[0;36m_getWithEntityBundle\u001B[1;34m(self, entityBundle, entity, **kwargs)\u001B[0m\n\u001B[0;32m    828\u001B[0m                 \u001B[1;32mif\u001B[0m \u001B[0mfile_handle\u001B[0m\u001B[1;33m:\u001B[0m\u001B[1;33m\u001B[0m\u001B[1;33m\u001B[0m\u001B[0m\n\u001B[1;32m--> 829\u001B[1;33m                     \u001B[0mself\u001B[0m\u001B[1;33m.\u001B[0m\u001B[0m_download_file_entity\u001B[0m\u001B[1;33m(\u001B[0m\u001B[0mdownloadLocation\u001B[0m\u001B[1;33m,\u001B[0m \u001B[0mentity\u001B[0m\u001B[1;33m,\u001B[0m \u001B[0mifcollision\u001B[0m\u001B[1;33m,\u001B[0m \u001B[0msubmission\u001B[0m\u001B[1;33m)\u001B[0m\u001B[1;33m\u001B[0m\u001B[1;33m\u001B[0m\u001B[0m\n\u001B[0m\u001B[0;32m    830\u001B[0m                 \u001B[1;32melse\u001B[0m\u001B[1;33m:\u001B[0m  \u001B[1;31m# no filehandle means that we do not have DOWNLOAD permission\u001B[0m\u001B[1;33m\u001B[0m\u001B[1;33m\u001B[0m\u001B[0m\n",
      "\u001B[1;32mc:\\users\\kyuha\\pycharmprojects\\digital_pathology\\digital_pathology\\lib\\site-packages\\synapseclient\\client.py\u001B[0m in \u001B[0;36m_download_file_entity\u001B[1;34m(self, downloadLocation, entity, ifcollision, submission)\u001B[0m\n\u001B[0;32m    890\u001B[0m             \u001B[1;31m# _downloadFileHandle may also return None to indicate that the download failed\u001B[0m\u001B[1;33m\u001B[0m\u001B[1;33m\u001B[0m\u001B[1;33m\u001B[0m\u001B[0m\n\u001B[1;32m--> 891\u001B[1;33m             \u001B[0mdownloadPath\u001B[0m \u001B[1;33m=\u001B[0m \u001B[0mself\u001B[0m\u001B[1;33m.\u001B[0m\u001B[0m_downloadFileHandle\u001B[0m\u001B[1;33m(\u001B[0m\u001B[0mentity\u001B[0m\u001B[1;33m.\u001B[0m\u001B[0mdataFileHandleId\u001B[0m\u001B[1;33m,\u001B[0m \u001B[0mobjectId\u001B[0m\u001B[1;33m,\u001B[0m \u001B[0mobjectType\u001B[0m\u001B[1;33m,\u001B[0m \u001B[0mdownloadPath\u001B[0m\u001B[1;33m)\u001B[0m\u001B[1;33m\u001B[0m\u001B[1;33m\u001B[0m\u001B[0m\n\u001B[0m\u001B[0;32m    892\u001B[0m \u001B[1;33m\u001B[0m\u001B[0m\n",
      "\u001B[1;32mc:\\users\\kyuha\\pycharmprojects\\digital_pathology\\digital_pathology\\lib\\site-packages\\synapseclient\\client.py\u001B[0m in \u001B[0;36m_downloadFileHandle\u001B[1;34m(self, fileHandleId, objectId, objectType, destination, retries)\u001B[0m\n\u001B[0;32m   1842\u001B[0m                 \u001B[1;32melse\u001B[0m\u001B[1;33m:\u001B[0m\u001B[1;33m\u001B[0m\u001B[1;33m\u001B[0m\u001B[0m\n\u001B[1;32m-> 1843\u001B[1;33m                     downloaded_path = self._download_from_URL(fileResult['preSignedURL'],\n\u001B[0m\u001B[0;32m   1844\u001B[0m                                                               \u001B[0mdestination\u001B[0m\u001B[1;33m,\u001B[0m\u001B[1;33m\u001B[0m\u001B[1;33m\u001B[0m\u001B[0m\n",
      "\u001B[1;32mc:\\users\\kyuha\\pycharmprojects\\digital_pathology\\digital_pathology\\lib\\site-packages\\synapseclient\\client.py\u001B[0m in \u001B[0;36m_download_from_URL\u001B[1;34m(self, url, destination, fileHandleId, expected_md5)\u001B[0m\n\u001B[0;32m   2051\u001B[0m                 \u001B[0mos\u001B[0m\u001B[1;33m.\u001B[0m\u001B[0mremove\u001B[0m\u001B[1;33m(\u001B[0m\u001B[0mdestination\u001B[0m\u001B[1;33m)\u001B[0m\u001B[1;33m\u001B[0m\u001B[1;33m\u001B[0m\u001B[0m\n\u001B[1;32m-> 2052\u001B[1;33m             raise SynapseMd5MismatchError(\n\u001B[0m\u001B[0;32m   2053\u001B[0m                 \u001B[1;34m\"Downloaded file {filename}'s md5 {md5} does not match expected MD5 of\"\u001B[0m\u001B[1;33m\u001B[0m\u001B[1;33m\u001B[0m\u001B[0m\n",
      "\u001B[1;31mSynapseMd5MismatchError\u001B[0m: Downloaded file c:\\users\\kyuha\\.synapsecache\\898\\18674898\\sample_mapping_table_desc.txt's md5 9c34f775fb2b2ad098d26762f440c320 does not match expected MD5 of 077f23ee8910f16a86bc43794415edbf",
      "\nThe above exception was the direct cause of the following exception:\n",
      "\u001B[1;31mValueError\u001B[0m                                Traceback (most recent call last)",
      "\u001B[1;32m<ipython-input-2-ce3953819ae9>\u001B[0m in \u001B[0;36m<module>\u001B[1;34m\u001B[0m\n\u001B[0;32m      4\u001B[0m \u001B[0msyn\u001B[0m \u001B[1;33m=\u001B[0m \u001B[0msynapseclient\u001B[0m\u001B[1;33m.\u001B[0m\u001B[0mSynapse\u001B[0m\u001B[1;33m(\u001B[0m\u001B[1;33m)\u001B[0m\u001B[1;33m\u001B[0m\u001B[1;33m\u001B[0m\u001B[0m\n\u001B[0;32m      5\u001B[0m \u001B[0msyn\u001B[0m\u001B[1;33m.\u001B[0m\u001B[0mlogin\u001B[0m\u001B[1;33m(\u001B[0m\u001B[1;34m'chamisulhuresh'\u001B[0m\u001B[1;33m,\u001B[0m\u001B[1;34m'hks950106'\u001B[0m\u001B[1;33m)\u001B[0m\u001B[1;33m\u001B[0m\u001B[1;33m\u001B[0m\u001B[0m\n\u001B[1;32m----> 6\u001B[1;33m \u001B[0mfiles\u001B[0m \u001B[1;33m=\u001B[0m \u001B[0msynapseutils\u001B[0m\u001B[1;33m.\u001B[0m\u001B[0msyncFromSynapse\u001B[0m\u001B[1;33m(\u001B[0m\u001B[0msyn\u001B[0m\u001B[1;33m,\u001B[0m \u001B[1;34m'syn9697791'\u001B[0m\u001B[1;33m)\u001B[0m\u001B[1;33m\u001B[0m\u001B[1;33m\u001B[0m\u001B[0m\n\u001B[0m\u001B[0;32m      7\u001B[0m \u001B[1;33m\u001B[0m\u001B[0m\n\u001B[0;32m      8\u001B[0m \u001B[1;33m\u001B[0m\u001B[0m\n",
      "\u001B[1;32mc:\\users\\kyuha\\pycharmprojects\\digital_pathology\\digital_pathology\\lib\\site-packages\\synapseutils\\sync.py\u001B[0m in \u001B[0;36msyncFromSynapse\u001B[1;34m(syn, entity, path, ifcollision, allFiles, followLink)\u001B[0m\n\u001B[0;32m     94\u001B[0m     \u001B[1;32mwith\u001B[0m \u001B[0m_sync_executor\u001B[0m\u001B[1;33m(\u001B[0m\u001B[0msyn\u001B[0m\u001B[1;33m)\u001B[0m \u001B[1;32mas\u001B[0m \u001B[0mexecutor\u001B[0m\u001B[1;33m:\u001B[0m\u001B[1;33m\u001B[0m\u001B[1;33m\u001B[0m\u001B[0m\n\u001B[0;32m     95\u001B[0m         \u001B[0msync_from_synapse\u001B[0m \u001B[1;33m=\u001B[0m \u001B[0m_SyncDownloader\u001B[0m\u001B[1;33m(\u001B[0m\u001B[0msyn\u001B[0m\u001B[1;33m,\u001B[0m \u001B[0mexecutor\u001B[0m\u001B[1;33m)\u001B[0m\u001B[1;33m\u001B[0m\u001B[1;33m\u001B[0m\u001B[0m\n\u001B[1;32m---> 96\u001B[1;33m         \u001B[0mfiles\u001B[0m \u001B[1;33m=\u001B[0m \u001B[0msync_from_synapse\u001B[0m\u001B[1;33m.\u001B[0m\u001B[0msync\u001B[0m\u001B[1;33m(\u001B[0m\u001B[0mentity\u001B[0m\u001B[1;33m,\u001B[0m \u001B[0mpath\u001B[0m\u001B[1;33m,\u001B[0m \u001B[0mifcollision\u001B[0m\u001B[1;33m,\u001B[0m \u001B[0mfollowLink\u001B[0m\u001B[1;33m)\u001B[0m\u001B[1;33m\u001B[0m\u001B[1;33m\u001B[0m\u001B[0m\n\u001B[0m\u001B[0;32m     97\u001B[0m \u001B[1;33m\u001B[0m\u001B[0m\n\u001B[0;32m     98\u001B[0m     \u001B[1;31m# the allFiles parameter used to be passed in as part of the recursive implementation of this function\u001B[0m\u001B[1;33m\u001B[0m\u001B[1;33m\u001B[0m\u001B[1;33m\u001B[0m\u001B[0m\n",
      "\u001B[1;32mc:\\users\\kyuha\\pycharmprojects\\digital_pathology\\digital_pathology\\lib\\site-packages\\synapseutils\\sync.py\u001B[0m in \u001B[0;36msync\u001B[1;34m(self, entity, path, ifcollision, followLink)\u001B[0m\n\u001B[0;32m    226\u001B[0m \u001B[1;33m\u001B[0m\u001B[0m\n\u001B[0;32m    227\u001B[0m         \u001B[1;32mif\u001B[0m \u001B[0mis_container\u001B[0m\u001B[1;33m(\u001B[0m\u001B[0mentity\u001B[0m\u001B[1;33m)\u001B[0m\u001B[1;33m:\u001B[0m\u001B[1;33m\u001B[0m\u001B[1;33m\u001B[0m\u001B[0m\n\u001B[1;32m--> 228\u001B[1;33m             \u001B[0mroot_folder_sync\u001B[0m \u001B[1;33m=\u001B[0m \u001B[0mself\u001B[0m\u001B[1;33m.\u001B[0m\u001B[0m_sync_root\u001B[0m\u001B[1;33m(\u001B[0m\u001B[0mentity\u001B[0m\u001B[1;33m,\u001B[0m \u001B[0mpath\u001B[0m\u001B[1;33m,\u001B[0m \u001B[0mifcollision\u001B[0m\u001B[1;33m,\u001B[0m \u001B[0mfollowLink\u001B[0m\u001B[1;33m,\u001B[0m \u001B[0mprogress\u001B[0m\u001B[1;33m)\u001B[0m\u001B[1;33m\u001B[0m\u001B[1;33m\u001B[0m\u001B[0m\n\u001B[0m\u001B[0;32m    229\u001B[0m \u001B[1;33m\u001B[0m\u001B[0m\n\u001B[0;32m    230\u001B[0m             \u001B[1;31m# once the whole folder hierarchy has been traversed this entrant thread waits for\u001B[0m\u001B[1;33m\u001B[0m\u001B[1;33m\u001B[0m\u001B[1;33m\u001B[0m\u001B[0m\n",
      "\u001B[1;32mc:\\users\\kyuha\\pycharmprojects\\digital_pathology\\digital_pathology\\lib\\site-packages\\synapseutils\\sync.py\u001B[0m in \u001B[0;36m_sync_root\u001B[1;34m(self, root, root_path, ifcollision, followLink, progress)\u001B[0m\n\u001B[0;32m    303\u001B[0m                 \u001B[0mexception\u001B[0m \u001B[1;33m=\u001B[0m \u001B[0mroot_folder_sync\u001B[0m\u001B[1;33m.\u001B[0m\u001B[0mget_exception\u001B[0m\u001B[1;33m(\u001B[0m\u001B[1;33m)\u001B[0m\u001B[1;33m\u001B[0m\u001B[1;33m\u001B[0m\u001B[0m\n\u001B[0;32m    304\u001B[0m                 \u001B[1;32mif\u001B[0m \u001B[0mexception\u001B[0m\u001B[1;33m:\u001B[0m\u001B[1;33m\u001B[0m\u001B[1;33m\u001B[0m\u001B[0m\n\u001B[1;32m--> 305\u001B[1;33m                     \u001B[1;32mraise\u001B[0m \u001B[0mValueError\u001B[0m\u001B[1;33m(\u001B[0m\u001B[1;34m\"File download failed during sync\"\u001B[0m\u001B[1;33m)\u001B[0m \u001B[1;32mfrom\u001B[0m \u001B[0mexception\u001B[0m\u001B[1;33m\u001B[0m\u001B[1;33m\u001B[0m\u001B[0m\n\u001B[0m\u001B[0;32m    306\u001B[0m \u001B[1;33m\u001B[0m\u001B[0m\n\u001B[0;32m    307\u001B[0m             \u001B[0mfolder\u001B[0m\u001B[1;33m,\u001B[0m \u001B[0mparent_path\u001B[0m\u001B[1;33m,\u001B[0m \u001B[0mparent_folder_sync\u001B[0m \u001B[1;33m=\u001B[0m \u001B[0mfolder_stack\u001B[0m\u001B[1;33m.\u001B[0m\u001B[0mpop\u001B[0m\u001B[1;33m(\u001B[0m\u001B[1;33m)\u001B[0m\u001B[1;33m\u001B[0m\u001B[1;33m\u001B[0m\u001B[0m\n",
      "\u001B[1;31mValueError\u001B[0m: File download failed during sync"
     ]
    }
   ],
   "source": [
    "import synapseclient\n",
    "import synapseutils\n",
    "\n",
    "syn = synapseclient.Synapse()\n",
    "syn.login('chamisulhuresh','hks950106')\n",
    "files = synapseutils.syncFromSynapse(syn, 'syn9697791')\n"
   ],
   "metadata": {
    "collapsed": false,
    "pycharm": {
     "name": "#%%\n"
    }
   }
  },
  {
   "cell_type": "code",
   "execution_count": null,
   "outputs": [],
   "source": [
    "len(files)"
   ],
   "metadata": {
    "collapsed": false,
    "pycharm": {
     "name": "#%%\n"
    }
   }
  },
  {
   "cell_type": "code",
   "execution_count": null,
   "outputs": [],
   "source": [
    "for f in files:\n",
    "    print(f.path)"
   ],
   "metadata": {
    "collapsed": false,
    "pycharm": {
     "name": "#%%\n"
    }
   }
  }
 ],
 "metadata": {
  "kernelspec": {
   "display_name": "Python 3",
   "language": "python",
   "name": "python3"
  },
  "language_info": {
   "codemirror_mode": {
    "name": "ipython",
    "version": 2
   },
   "file_extension": ".py",
   "mimetype": "text/x-python",
   "name": "python",
   "nbconvert_exporter": "python",
   "pygments_lexer": "ipython2",
   "version": "2.7.6"
  }
 },
 "nbformat": 4,
 "nbformat_minor": 0
}