{
 "cells": [
  {
   "cell_type": "code",
   "execution_count": 7,
   "metadata": {
    "collapsed": true
   },
   "outputs": [
    {
     "data": {
      "text/plain": "{'bf19_b2_01',\n 'bf45_b4_01',\n 'bf52_b4_01',\n 'bf56_b4_01',\n 'bf57_b4_01',\n 'bf58_b4_01',\n 'bf60_b4_01',\n 'bf60_b4_02',\n 'bf62_b3_01',\n 'bf62_b3_03',\n 'bf68_b3_02',\n 'bf68_b3_03',\n 'bf69_b3_01',\n 'bf76_b4_01',\n 'bm59_b4_01',\n 'bm60_b4_01',\n 'bm61_b4_01',\n 'bm77_b4_01',\n 'wf16_b2_01',\n 'wf20_b2_02',\n 'wf21_b4_01',\n 'wf25_b4_01',\n 'wf28_b4_01',\n 'wf29_b3_01',\n 'wf29_b4_01',\n 'wf30_b3_01',\n 'wf33_b3_01',\n 'wf35_b3_01',\n 'wf36_b3_01',\n 'wf37_b3_01',\n 'wf38_b3_01',\n 'wf38_b3_02',\n 'wf38_b3_03',\n 'wf40_b3_01',\n 'wf40_b3_02',\n 'wf41_b4_01',\n 'wf42_b4_01',\n 'wf45_b4_01',\n 'wf51_b4_01',\n 'wf54_b4_01',\n 'wf61_b4_01',\n 'wf63_b4_01',\n 'wf64_b3_01',\n 'wf64_b4_01',\n 'wf65_b4_01',\n 'wf69_b3_01',\n 'wf73_b3_01',\n 'wf74_b3_01',\n 'wf80_b3_01',\n 'wf82_b3_01',\n 'wf85_b3_01',\n 'wf86_b3_02',\n 'wf87_b3_01',\n 'wf87_b3_03',\n 'wf92_b3_01',\n 'wm14_b2_01',\n 'wm14_b2_02',\n 'wm17_b2_01',\n 'wm20_b2_02',\n 'wm21_b2_01',\n 'wm25_b4_01',\n 'wm27_b4_01',\n 'wm28_b4_01',\n 'wm30_b4_01',\n 'wm31_b4_01',\n 'wm36_b4_01',\n 'wm38_b4_01',\n 'wm39_b4_01',\n 'wm41_b4_01',\n 'wm41_b4_02',\n 'wm45_b4_01',\n 'wm48_b4_01',\n 'wm49_b4_01',\n 'wm52_b4_01',\n 'wm53_b4_01',\n 'wm55_b4_02',\n 'wm57_b4_01',\n 'wm60_b4_01',\n 'wm60_b4_02',\n 'wm60_b4_03',\n 'wm63_b4_01',\n 'wm66_b4_01',\n 'wm70_b4_01',\n 'wm70_b4_02',\n 'wm71_b4_01',\n 'wm84_b4_01'}"
     },
     "execution_count": 7,
     "metadata": {},
     "output_type": "execute_result"
    }
   ],
   "source": [
    "import os\n",
    "\n",
    "svs = r'\\\\kukissd\\Kyu_Sync\\Research\\Active\\Aging_organized\\svs\\svs_back'\n",
    "xml = r'\\\\kukissd\\Kyu_Sync\\Research\\Active\\Aging_organized\\svs\\binary_annotation'\n",
    "\n",
    "svsl = set([os.path.splitext(_)[0] for _ in os.listdir(svs) if _.endswith('.svs')])\n",
    "xmll = set([os.path.splitext(_)[0] for _ in os.listdir(xml) if _.endswith('.xml')])\n",
    "\n",
    "inter = svsl.intersection(xmll)\n",
    "inter"
   ]
  },
  {
   "cell_type": "code",
   "execution_count": 9,
   "outputs": [
    {
     "data": {
      "text/plain": "({'bf60_b4_03', 'wm27_b4_02', 'wm55_b4_01'}, {'bm14_b2_01'})"
     },
     "execution_count": 9,
     "metadata": {},
     "output_type": "execute_result"
    }
   ],
   "source": [
    "svsl - inter,xmll - inter"
   ],
   "metadata": {
    "collapsed": false,
    "pycharm": {
     "name": "#%%\n"
    }
   }
  }
 ],
 "metadata": {
  "kernelspec": {
   "display_name": "Python 3",
   "language": "python",
   "name": "python3"
  },
  "language_info": {
   "codemirror_mode": {
    "name": "ipython",
    "version": 2
   },
   "file_extension": ".py",
   "mimetype": "text/x-python",
   "name": "python",
   "nbconvert_exporter": "python",
   "pygments_lexer": "ipython2",
   "version": "2.7.6"
  }
 },
 "nbformat": 4,
 "nbformat_minor": 0
}