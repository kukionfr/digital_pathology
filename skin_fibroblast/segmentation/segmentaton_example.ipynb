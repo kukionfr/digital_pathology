{
 "cells": [
  {
   "cell_type": "code",
   "execution_count": 3,
   "outputs": [],
   "source": [
    "from PIL import Image\n",
    "Image.MAX_IMAGE_PIXELS = None # remove the limit for image size\n",
    "import os\n",
    "import numpy as np\n",
    "from time import time\n",
    "from matplotlib import pyplot as plt\n",
    "from rgb2hed_v1 import separate_stains\n",
    "import scipy\n",
    "from skimage.measure import label,regionprops\n",
    "from skimage.morphology import remove_small_objects"
   ],
   "metadata": {
    "collapsed": false,
    "pycharm": {
     "name": "#%%\n"
    }
   }
  },
  {
   "cell_type": "code",
   "execution_count": 5,
   "outputs": [
    {
     "data": {
      "text/plain": "(['bf19_b2_01.tif',\n  'bf45_b4_01.tif',\n  'bf52_b4_01.tif',\n  'bf56_b4_01.tif',\n  'bf57_b4_01.tif',\n  'bf58_b4_01.tif',\n  'bf60_b4_01.tif',\n  'bf60_b4_02.tif',\n  'bf60_b4_03.tif',\n  'bf62_b3_01.tif',\n  'bf62_b3_03.tif',\n  'bf68_b3_02.tif',\n  'bf68_b3_03.tif',\n  'bf69_b3_01.tif',\n  'bf76_b4_01.tif',\n  'bm59_b4_01.tif',\n  'bm60_b4_01.tif',\n  'bm61_b4_01.tif',\n  'bm77_b4_01.tif',\n  'wf16_b2_01.tif',\n  'wf20_b2_02.tif',\n  'wf21_b4_01.tif',\n  'wf25_b4_01.tif',\n  'wf28_b4_01.tif',\n  'wf29_b3_01.tif',\n  'wf29_b4_01.tif',\n  'wf30_b3_01.tif',\n  'wf33_b3_01.tif',\n  'wf35_b3_01.tif',\n  'wf36_b3_01.tif',\n  'wf37_b3_01.tif',\n  'wf38_b3_01.tif',\n  'wf38_b3_02.tif',\n  'wf38_b3_03.tif',\n  'wf40_b3_01.tif',\n  'wf40_b3_02.tif',\n  'wf41_b4_01.tif',\n  'wf42_b4_01.tif',\n  'wf45_b4_01.tif',\n  'wf51_b4_01.tif',\n  'wf54_b4_01.tif',\n  'wf61_b4_01.tif',\n  'wf63_b4_01.tif',\n  'wf64_b3_01.tif',\n  'wf64_b4_01.tif',\n  'wf65_b4_01.tif',\n  'wf69_b3_01.tif',\n  'wf73_b3_01.tif',\n  'wf74_b3_01.tif',\n  'wf80_b3_01.tif',\n  'wf82_b3_01.tif',\n  'wf85_b3_01.tif',\n  'wf86_b3_02.tif',\n  'wf87_b3_01.tif',\n  'wf87_b3_03.tif',\n  'wf92_b3_01.tif',\n  'wm14_b2_01.tif',\n  'wm14_b2_02.tif',\n  'wm17_b2_01.tif',\n  'wm20_b2_02.tif',\n  'wm21_b2_01.tif',\n  'wm25_b4_01.tif',\n  'wm27_b4_01.tif',\n  'wm27_b4_02.tif',\n  'wm28_b4_01.tif',\n  'wm30_b4_01.tif',\n  'wm31_b4_01.tif',\n  'wm36_b4_01.tif',\n  'wm38_b4_01.tif',\n  'wm39_b4_01.tif',\n  'wm41_b4_01.tif',\n  'wm41_b4_02.tif',\n  'wm45_b4_01.tif',\n  'wm48_b4_01.tif',\n  'wm49_b4_01.tif',\n  'wm52_b4_01.tif',\n  'wm53_b4_01.tif',\n  'wm55_b4_01.tif',\n  'wm55_b4_02.tif',\n  'wm57_b4_01.tif',\n  'wm60_b4_01.tif',\n  'wm60_b4_02.tif',\n  'wm60_b4_03.tif',\n  'wm63_b4_01.tif',\n  'wm66_b4_01.tif',\n  'wm70_b4_01.tif',\n  'wm70_b4_02.tif',\n  'wm71_b4_01.tif',\n  'wm84_b4_01.tif'],\n ['\\\\\\\\motherserverdw\\\\Kyu_Sync\\\\Research\\\\Active\\\\Aging_organized\\\\svs\\\\svs_back_2um\\\\bf19_b2_01.tif',\n  '\\\\\\\\motherserverdw\\\\Kyu_Sync\\\\Research\\\\Active\\\\Aging_organized\\\\svs\\\\svs_back_2um\\\\bf45_b4_01.tif',\n  '\\\\\\\\motherserverdw\\\\Kyu_Sync\\\\Research\\\\Active\\\\Aging_organized\\\\svs\\\\svs_back_2um\\\\bf52_b4_01.tif',\n  '\\\\\\\\motherserverdw\\\\Kyu_Sync\\\\Research\\\\Active\\\\Aging_organized\\\\svs\\\\svs_back_2um\\\\bf56_b4_01.tif',\n  '\\\\\\\\motherserverdw\\\\Kyu_Sync\\\\Research\\\\Active\\\\Aging_organized\\\\svs\\\\svs_back_2um\\\\bf57_b4_01.tif',\n  '\\\\\\\\motherserverdw\\\\Kyu_Sync\\\\Research\\\\Active\\\\Aging_organized\\\\svs\\\\svs_back_2um\\\\bf58_b4_01.tif',\n  '\\\\\\\\motherserverdw\\\\Kyu_Sync\\\\Research\\\\Active\\\\Aging_organized\\\\svs\\\\svs_back_2um\\\\bf60_b4_01.tif',\n  '\\\\\\\\motherserverdw\\\\Kyu_Sync\\\\Research\\\\Active\\\\Aging_organized\\\\svs\\\\svs_back_2um\\\\bf60_b4_02.tif',\n  '\\\\\\\\motherserverdw\\\\Kyu_Sync\\\\Research\\\\Active\\\\Aging_organized\\\\svs\\\\svs_back_2um\\\\bf60_b4_03.tif',\n  '\\\\\\\\motherserverdw\\\\Kyu_Sync\\\\Research\\\\Active\\\\Aging_organized\\\\svs\\\\svs_back_2um\\\\bf62_b3_01.tif',\n  '\\\\\\\\motherserverdw\\\\Kyu_Sync\\\\Research\\\\Active\\\\Aging_organized\\\\svs\\\\svs_back_2um\\\\bf62_b3_03.tif',\n  '\\\\\\\\motherserverdw\\\\Kyu_Sync\\\\Research\\\\Active\\\\Aging_organized\\\\svs\\\\svs_back_2um\\\\bf68_b3_02.tif',\n  '\\\\\\\\motherserverdw\\\\Kyu_Sync\\\\Research\\\\Active\\\\Aging_organized\\\\svs\\\\svs_back_2um\\\\bf68_b3_03.tif',\n  '\\\\\\\\motherserverdw\\\\Kyu_Sync\\\\Research\\\\Active\\\\Aging_organized\\\\svs\\\\svs_back_2um\\\\bf69_b3_01.tif',\n  '\\\\\\\\motherserverdw\\\\Kyu_Sync\\\\Research\\\\Active\\\\Aging_organized\\\\svs\\\\svs_back_2um\\\\bf76_b4_01.tif',\n  '\\\\\\\\motherserverdw\\\\Kyu_Sync\\\\Research\\\\Active\\\\Aging_organized\\\\svs\\\\svs_back_2um\\\\bm59_b4_01.tif',\n  '\\\\\\\\motherserverdw\\\\Kyu_Sync\\\\Research\\\\Active\\\\Aging_organized\\\\svs\\\\svs_back_2um\\\\bm60_b4_01.tif',\n  '\\\\\\\\motherserverdw\\\\Kyu_Sync\\\\Research\\\\Active\\\\Aging_organized\\\\svs\\\\svs_back_2um\\\\bm61_b4_01.tif',\n  '\\\\\\\\motherserverdw\\\\Kyu_Sync\\\\Research\\\\Active\\\\Aging_organized\\\\svs\\\\svs_back_2um\\\\bm77_b4_01.tif',\n  '\\\\\\\\motherserverdw\\\\Kyu_Sync\\\\Research\\\\Active\\\\Aging_organized\\\\svs\\\\svs_back_2um\\\\wf16_b2_01.tif',\n  '\\\\\\\\motherserverdw\\\\Kyu_Sync\\\\Research\\\\Active\\\\Aging_organized\\\\svs\\\\svs_back_2um\\\\wf20_b2_02.tif',\n  '\\\\\\\\motherserverdw\\\\Kyu_Sync\\\\Research\\\\Active\\\\Aging_organized\\\\svs\\\\svs_back_2um\\\\wf21_b4_01.tif',\n  '\\\\\\\\motherserverdw\\\\Kyu_Sync\\\\Research\\\\Active\\\\Aging_organized\\\\svs\\\\svs_back_2um\\\\wf25_b4_01.tif',\n  '\\\\\\\\motherserverdw\\\\Kyu_Sync\\\\Research\\\\Active\\\\Aging_organized\\\\svs\\\\svs_back_2um\\\\wf28_b4_01.tif',\n  '\\\\\\\\motherserverdw\\\\Kyu_Sync\\\\Research\\\\Active\\\\Aging_organized\\\\svs\\\\svs_back_2um\\\\wf29_b3_01.tif',\n  '\\\\\\\\motherserverdw\\\\Kyu_Sync\\\\Research\\\\Active\\\\Aging_organized\\\\svs\\\\svs_back_2um\\\\wf29_b4_01.tif',\n  '\\\\\\\\motherserverdw\\\\Kyu_Sync\\\\Research\\\\Active\\\\Aging_organized\\\\svs\\\\svs_back_2um\\\\wf30_b3_01.tif',\n  '\\\\\\\\motherserverdw\\\\Kyu_Sync\\\\Research\\\\Active\\\\Aging_organized\\\\svs\\\\svs_back_2um\\\\wf33_b3_01.tif',\n  '\\\\\\\\motherserverdw\\\\Kyu_Sync\\\\Research\\\\Active\\\\Aging_organized\\\\svs\\\\svs_back_2um\\\\wf35_b3_01.tif',\n  '\\\\\\\\motherserverdw\\\\Kyu_Sync\\\\Research\\\\Active\\\\Aging_organized\\\\svs\\\\svs_back_2um\\\\wf36_b3_01.tif',\n  '\\\\\\\\motherserverdw\\\\Kyu_Sync\\\\Research\\\\Active\\\\Aging_organized\\\\svs\\\\svs_back_2um\\\\wf37_b3_01.tif',\n  '\\\\\\\\motherserverdw\\\\Kyu_Sync\\\\Research\\\\Active\\\\Aging_organized\\\\svs\\\\svs_back_2um\\\\wf38_b3_01.tif',\n  '\\\\\\\\motherserverdw\\\\Kyu_Sync\\\\Research\\\\Active\\\\Aging_organized\\\\svs\\\\svs_back_2um\\\\wf38_b3_02.tif',\n  '\\\\\\\\motherserverdw\\\\Kyu_Sync\\\\Research\\\\Active\\\\Aging_organized\\\\svs\\\\svs_back_2um\\\\wf38_b3_03.tif',\n  '\\\\\\\\motherserverdw\\\\Kyu_Sync\\\\Research\\\\Active\\\\Aging_organized\\\\svs\\\\svs_back_2um\\\\wf40_b3_01.tif',\n  '\\\\\\\\motherserverdw\\\\Kyu_Sync\\\\Research\\\\Active\\\\Aging_organized\\\\svs\\\\svs_back_2um\\\\wf40_b3_02.tif',\n  '\\\\\\\\motherserverdw\\\\Kyu_Sync\\\\Research\\\\Active\\\\Aging_organized\\\\svs\\\\svs_back_2um\\\\wf41_b4_01.tif',\n  '\\\\\\\\motherserverdw\\\\Kyu_Sync\\\\Research\\\\Active\\\\Aging_organized\\\\svs\\\\svs_back_2um\\\\wf42_b4_01.tif',\n  '\\\\\\\\motherserverdw\\\\Kyu_Sync\\\\Research\\\\Active\\\\Aging_organized\\\\svs\\\\svs_back_2um\\\\wf45_b4_01.tif',\n  '\\\\\\\\motherserverdw\\\\Kyu_Sync\\\\Research\\\\Active\\\\Aging_organized\\\\svs\\\\svs_back_2um\\\\wf51_b4_01.tif',\n  '\\\\\\\\motherserverdw\\\\Kyu_Sync\\\\Research\\\\Active\\\\Aging_organized\\\\svs\\\\svs_back_2um\\\\wf54_b4_01.tif',\n  '\\\\\\\\motherserverdw\\\\Kyu_Sync\\\\Research\\\\Active\\\\Aging_organized\\\\svs\\\\svs_back_2um\\\\wf61_b4_01.tif',\n  '\\\\\\\\motherserverdw\\\\Kyu_Sync\\\\Research\\\\Active\\\\Aging_organized\\\\svs\\\\svs_back_2um\\\\wf63_b4_01.tif',\n  '\\\\\\\\motherserverdw\\\\Kyu_Sync\\\\Research\\\\Active\\\\Aging_organized\\\\svs\\\\svs_back_2um\\\\wf64_b3_01.tif',\n  '\\\\\\\\motherserverdw\\\\Kyu_Sync\\\\Research\\\\Active\\\\Aging_organized\\\\svs\\\\svs_back_2um\\\\wf64_b4_01.tif',\n  '\\\\\\\\motherserverdw\\\\Kyu_Sync\\\\Research\\\\Active\\\\Aging_organized\\\\svs\\\\svs_back_2um\\\\wf65_b4_01.tif',\n  '\\\\\\\\motherserverdw\\\\Kyu_Sync\\\\Research\\\\Active\\\\Aging_organized\\\\svs\\\\svs_back_2um\\\\wf69_b3_01.tif',\n  '\\\\\\\\motherserverdw\\\\Kyu_Sync\\\\Research\\\\Active\\\\Aging_organized\\\\svs\\\\svs_back_2um\\\\wf73_b3_01.tif',\n  '\\\\\\\\motherserverdw\\\\Kyu_Sync\\\\Research\\\\Active\\\\Aging_organized\\\\svs\\\\svs_back_2um\\\\wf74_b3_01.tif',\n  '\\\\\\\\motherserverdw\\\\Kyu_Sync\\\\Research\\\\Active\\\\Aging_organized\\\\svs\\\\svs_back_2um\\\\wf80_b3_01.tif',\n  '\\\\\\\\motherserverdw\\\\Kyu_Sync\\\\Research\\\\Active\\\\Aging_organized\\\\svs\\\\svs_back_2um\\\\wf82_b3_01.tif',\n  '\\\\\\\\motherserverdw\\\\Kyu_Sync\\\\Research\\\\Active\\\\Aging_organized\\\\svs\\\\svs_back_2um\\\\wf85_b3_01.tif',\n  '\\\\\\\\motherserverdw\\\\Kyu_Sync\\\\Research\\\\Active\\\\Aging_organized\\\\svs\\\\svs_back_2um\\\\wf86_b3_02.tif',\n  '\\\\\\\\motherserverdw\\\\Kyu_Sync\\\\Research\\\\Active\\\\Aging_organized\\\\svs\\\\svs_back_2um\\\\wf87_b3_01.tif',\n  '\\\\\\\\motherserverdw\\\\Kyu_Sync\\\\Research\\\\Active\\\\Aging_organized\\\\svs\\\\svs_back_2um\\\\wf87_b3_03.tif',\n  '\\\\\\\\motherserverdw\\\\Kyu_Sync\\\\Research\\\\Active\\\\Aging_organized\\\\svs\\\\svs_back_2um\\\\wf92_b3_01.tif',\n  '\\\\\\\\motherserverdw\\\\Kyu_Sync\\\\Research\\\\Active\\\\Aging_organized\\\\svs\\\\svs_back_2um\\\\wm14_b2_01.tif',\n  '\\\\\\\\motherserverdw\\\\Kyu_Sync\\\\Research\\\\Active\\\\Aging_organized\\\\svs\\\\svs_back_2um\\\\wm14_b2_02.tif',\n  '\\\\\\\\motherserverdw\\\\Kyu_Sync\\\\Research\\\\Active\\\\Aging_organized\\\\svs\\\\svs_back_2um\\\\wm17_b2_01.tif',\n  '\\\\\\\\motherserverdw\\\\Kyu_Sync\\\\Research\\\\Active\\\\Aging_organized\\\\svs\\\\svs_back_2um\\\\wm20_b2_02.tif',\n  '\\\\\\\\motherserverdw\\\\Kyu_Sync\\\\Research\\\\Active\\\\Aging_organized\\\\svs\\\\svs_back_2um\\\\wm21_b2_01.tif',\n  '\\\\\\\\motherserverdw\\\\Kyu_Sync\\\\Research\\\\Active\\\\Aging_organized\\\\svs\\\\svs_back_2um\\\\wm25_b4_01.tif',\n  '\\\\\\\\motherserverdw\\\\Kyu_Sync\\\\Research\\\\Active\\\\Aging_organized\\\\svs\\\\svs_back_2um\\\\wm27_b4_01.tif',\n  '\\\\\\\\motherserverdw\\\\Kyu_Sync\\\\Research\\\\Active\\\\Aging_organized\\\\svs\\\\svs_back_2um\\\\wm27_b4_02.tif',\n  '\\\\\\\\motherserverdw\\\\Kyu_Sync\\\\Research\\\\Active\\\\Aging_organized\\\\svs\\\\svs_back_2um\\\\wm28_b4_01.tif',\n  '\\\\\\\\motherserverdw\\\\Kyu_Sync\\\\Research\\\\Active\\\\Aging_organized\\\\svs\\\\svs_back_2um\\\\wm30_b4_01.tif',\n  '\\\\\\\\motherserverdw\\\\Kyu_Sync\\\\Research\\\\Active\\\\Aging_organized\\\\svs\\\\svs_back_2um\\\\wm31_b4_01.tif',\n  '\\\\\\\\motherserverdw\\\\Kyu_Sync\\\\Research\\\\Active\\\\Aging_organized\\\\svs\\\\svs_back_2um\\\\wm36_b4_01.tif',\n  '\\\\\\\\motherserverdw\\\\Kyu_Sync\\\\Research\\\\Active\\\\Aging_organized\\\\svs\\\\svs_back_2um\\\\wm38_b4_01.tif',\n  '\\\\\\\\motherserverdw\\\\Kyu_Sync\\\\Research\\\\Active\\\\Aging_organized\\\\svs\\\\svs_back_2um\\\\wm39_b4_01.tif',\n  '\\\\\\\\motherserverdw\\\\Kyu_Sync\\\\Research\\\\Active\\\\Aging_organized\\\\svs\\\\svs_back_2um\\\\wm41_b4_01.tif',\n  '\\\\\\\\motherserverdw\\\\Kyu_Sync\\\\Research\\\\Active\\\\Aging_organized\\\\svs\\\\svs_back_2um\\\\wm41_b4_02.tif',\n  '\\\\\\\\motherserverdw\\\\Kyu_Sync\\\\Research\\\\Active\\\\Aging_organized\\\\svs\\\\svs_back_2um\\\\wm45_b4_01.tif',\n  '\\\\\\\\motherserverdw\\\\Kyu_Sync\\\\Research\\\\Active\\\\Aging_organized\\\\svs\\\\svs_back_2um\\\\wm48_b4_01.tif',\n  '\\\\\\\\motherserverdw\\\\Kyu_Sync\\\\Research\\\\Active\\\\Aging_organized\\\\svs\\\\svs_back_2um\\\\wm49_b4_01.tif',\n  '\\\\\\\\motherserverdw\\\\Kyu_Sync\\\\Research\\\\Active\\\\Aging_organized\\\\svs\\\\svs_back_2um\\\\wm52_b4_01.tif',\n  '\\\\\\\\motherserverdw\\\\Kyu_Sync\\\\Research\\\\Active\\\\Aging_organized\\\\svs\\\\svs_back_2um\\\\wm53_b4_01.tif',\n  '\\\\\\\\motherserverdw\\\\Kyu_Sync\\\\Research\\\\Active\\\\Aging_organized\\\\svs\\\\svs_back_2um\\\\wm55_b4_01.tif',\n  '\\\\\\\\motherserverdw\\\\Kyu_Sync\\\\Research\\\\Active\\\\Aging_organized\\\\svs\\\\svs_back_2um\\\\wm55_b4_02.tif',\n  '\\\\\\\\motherserverdw\\\\Kyu_Sync\\\\Research\\\\Active\\\\Aging_organized\\\\svs\\\\svs_back_2um\\\\wm57_b4_01.tif',\n  '\\\\\\\\motherserverdw\\\\Kyu_Sync\\\\Research\\\\Active\\\\Aging_organized\\\\svs\\\\svs_back_2um\\\\wm60_b4_01.tif',\n  '\\\\\\\\motherserverdw\\\\Kyu_Sync\\\\Research\\\\Active\\\\Aging_organized\\\\svs\\\\svs_back_2um\\\\wm60_b4_02.tif',\n  '\\\\\\\\motherserverdw\\\\Kyu_Sync\\\\Research\\\\Active\\\\Aging_organized\\\\svs\\\\svs_back_2um\\\\wm60_b4_03.tif',\n  '\\\\\\\\motherserverdw\\\\Kyu_Sync\\\\Research\\\\Active\\\\Aging_organized\\\\svs\\\\svs_back_2um\\\\wm63_b4_01.tif',\n  '\\\\\\\\motherserverdw\\\\Kyu_Sync\\\\Research\\\\Active\\\\Aging_organized\\\\svs\\\\svs_back_2um\\\\wm66_b4_01.tif',\n  '\\\\\\\\motherserverdw\\\\Kyu_Sync\\\\Research\\\\Active\\\\Aging_organized\\\\svs\\\\svs_back_2um\\\\wm70_b4_01.tif',\n  '\\\\\\\\motherserverdw\\\\Kyu_Sync\\\\Research\\\\Active\\\\Aging_organized\\\\svs\\\\svs_back_2um\\\\wm70_b4_02.tif',\n  '\\\\\\\\motherserverdw\\\\Kyu_Sync\\\\Research\\\\Active\\\\Aging_organized\\\\svs\\\\svs_back_2um\\\\wm71_b4_01.tif',\n  '\\\\\\\\motherserverdw\\\\Kyu_Sync\\\\Research\\\\Active\\\\Aging_organized\\\\svs\\\\svs_back_2um\\\\wm84_b4_01.tif'])"
     },
     "execution_count": 5,
     "metadata": {},
     "output_type": "execute_result"
    }
   ],
   "source": [
    "imsrc = r'\\\\motherserverdw\\Kyu_Sync\\Research\\Active\\Aging_organized\\svs\\svs_back_2um'\n",
    "imlist = [_ for _ in os.listdir(imsrc) if _.endswith('.tif')]\n",
    "impths = [os.path.join(imsrc,_) for _ in os.listdir(imsrc) if _.endswith('.tif')]\n",
    "imlist,impths"
   ],
   "metadata": {
    "collapsed": false,
    "pycharm": {
     "name": "#%%\n"
    }
   }
  },
  {
   "cell_type": "code",
   "execution_count": 7,
   "outputs": [
    {
     "data": {
      "text/plain": "(11185, 18929, 3)"
     },
     "execution_count": 7,
     "metadata": {},
     "output_type": "execute_result"
    }
   ],
   "source": [
    "im_obj = Image.open(impths[0])\n",
    "im_arr = np.array(im_obj)\n",
    "im_arr.shape"
   ],
   "metadata": {
    "collapsed": false,
    "pycharm": {
     "name": "#%%\n"
    }
   }
  },
  {
   "cell_type": "code",
   "execution_count": 9,
   "outputs": [
    {
     "data": {
      "text/plain": "((11185, 18929), (11185, 18929, 3))"
     },
     "execution_count": 9,
     "metadata": {},
     "output_type": "execute_result"
    }
   ],
   "source": [
    "masksrc = r'\\\\motherserverdw\\Kyu_Sync\\Research\\Active\\Aging_organized\\svs\\svs_back_2um\\classification_for_DL_skin_v6_control'\n",
    "maskpth = os.path.join(masksrc,imlist[0])\n",
    "mask_obj = Image.open(maskpth)\n",
    "mask_arr = np.array(mask_obj)\n",
    "mask_arr.shape,im_arr.shape"
   ],
   "metadata": {
    "collapsed": false,
    "pycharm": {
     "name": "#%%\n"
    }
   }
  },
  {
   "cell_type": "code",
   "execution_count": null,
   "outputs": [],
   "source": [
    "plt.imshow(mask_arr)"
   ],
   "metadata": {
    "collapsed": false,
    "pycharm": {
     "name": "#%%\n"
    }
   }
  },
  {
   "cell_type": "code",
   "execution_count": null,
   "outputs": [],
   "source": [
    "np.unique(mask_arr)"
   ],
   "metadata": {
    "collapsed": false,
    "pycharm": {
     "name": "#%%\n"
    }
   }
  },
  {
   "cell_type": "markdown",
   "source": [
    "1. corneum + root\n",
    "2. basal + follicle\n",
    "3. muscle\n",
    "4. oil\n",
    "5. sweat\n",
    "6. nerve\n",
    "7. blood\n",
    "8. collagen\n",
    "9. fat\n",
    "10. white"
   ],
   "metadata": {
    "collapsed": false
   }
  },
  {
   "cell_type": "code",
   "execution_count": null,
   "outputs": [],
   "source": [
    "sweat_mask = mask_arr==5\n",
    "plt.imshow(sweat_mask)"
   ],
   "metadata": {
    "collapsed": false,
    "pycharm": {
     "name": "#%%\n"
    }
   }
  },
  {
   "cell_type": "code",
   "execution_count": null,
   "outputs": [],
   "source": [
    "sweat_area = np.sum(sweat_mask)\n",
    "sweat_area # N pixels classified as sweat gland"
   ],
   "metadata": {
    "collapsed": false,
    "pycharm": {
     "name": "#%%\n"
    }
   }
  },
  {
   "cell_type": "code",
   "execution_count": null,
   "outputs": [],
   "source": [
    "# im_arr[sweat_mask==False]=0\n",
    "# plt.imshow(im_arr)"
   ],
   "metadata": {
    "collapsed": false,
    "pycharm": {
     "name": "#%%\n"
    }
   }
  },
  {
   "cell_type": "code",
   "execution_count": null,
   "outputs": [],
   "source": [
    "s = time()\n",
    "region = im_arr\n",
    "rgb_from_hed = np.array([[0.650, 0.704, 0.286],\n",
    "                                 [0.072, 0.990, 0.105],\n",
    "                                 [0.0, 0.0, 0.0]])\n",
    "rgb_from_hed[2, :] = np.cross(rgb_from_hed[0, :], rgb_from_hed[1, :])\n",
    "hed_from_rgb = scipy.linalg.inv(rgb_from_hed)\n",
    "Hema = separate_stains(region, hed_from_rgb)[:, :, 0]\n",
    "e = time()\n",
    "print('elasped time: {:.3f}'.format(e-s))"
   ],
   "metadata": {
    "collapsed": false,
    "pycharm": {
     "name": "#%%\n"
    }
   }
  },
  {
   "cell_type": "code",
   "execution_count": null,
   "outputs": [],
   "source": [
    "fig, ax = plt.subplots(figsize=(18,10))\n",
    "ax.imshow(Hema)"
   ],
   "metadata": {
    "collapsed": false,
    "pycharm": {
     "name": "#%%\n"
    }
   }
  },
  {
   "cell_type": "code",
   "execution_count": null,
   "outputs": [],
   "source": [
    "plt.hist(Hema.ravel(),1000,[0,1])\n",
    "plt.ylim([0,100000])\n",
    "plt.xlim([0.02,0.2])\n",
    "plt.show()"
   ],
   "metadata": {
    "collapsed": false,
    "pycharm": {
     "name": "#%%\n"
    }
   }
  },
  {
   "cell_type": "code",
   "execution_count": null,
   "outputs": [],
   "source": [
    "threshold = 0.3\n",
    "Hema[Hema < threshold] = 0\n",
    "Hema[Hema > threshold] = 1\n",
    "labeled_bw = label(Hema)\n",
    "len(np.unique(labeled_bw))"
   ],
   "metadata": {
    "collapsed": false,
    "pycharm": {
     "name": "#%%\n"
    }
   }
  },
  {
   "cell_type": "code",
   "execution_count": null,
   "outputs": [],
   "source": [
    "remove_small_objects(labeled_bw, min_size=2, connectivity=1, in_place=True)\n",
    "len(np.unique(labeled_bw))"
   ],
   "metadata": {
    "collapsed": false,
    "pycharm": {
     "name": "#%%\n"
    }
   }
  },
  {
   "cell_type": "code",
   "execution_count": null,
   "outputs": [],
   "source": [
    "bw = (labeled_bw > 1) * 255\n",
    "plt.figure(figsize=(12, 12))\n",
    "plt.imshow(bw, cmap='gray')"
   ],
   "metadata": {
    "collapsed": false,
    "pycharm": {
     "name": "#%%\n"
    }
   }
  },
  {
   "cell_type": "code",
   "execution_count": null,
   "outputs": [],
   "source": [
    "labeled_bw[~sweat_mask] = 0\n",
    "len(np.unique(labeled_bw))"
   ],
   "metadata": {
    "collapsed": false,
    "pycharm": {
     "name": "#%%\n"
    }
   }
  },
  {
   "cell_type": "code",
   "execution_count": null,
   "outputs": [],
   "source": [
    "props = regionprops(labeled_bw)"
   ],
   "metadata": {
    "collapsed": false,
    "pycharm": {
     "name": "#%%\n"
    }
   }
  },
  {
   "cell_type": "code",
   "execution_count": null,
   "outputs": [],
   "source": [
    "plt.imshow(Hema)\n",
    "\n",
    "\n"
   ],
   "metadata": {
    "collapsed": false,
    "pycharm": {
     "name": "#%%\n"
    }
   }
  }
 ],
 "metadata": {
  "kernelspec": {
   "display_name": "Python 3",
   "language": "python",
   "name": "python3"
  },
  "language_info": {
   "codemirror_mode": {
    "name": "ipython",
    "version": 2
   },
   "file_extension": ".py",
   "mimetype": "text/x-python",
   "name": "python",
   "nbconvert_exporter": "python",
   "pygments_lexer": "ipython2",
   "version": "2.7.6"
  }
 },
 "nbformat": 4,
 "nbformat_minor": 0
}