{
 "cells": [
  {
   "cell_type": "markdown",
   "source": [
    "convert qupath annotation to imagescope xml in order to train deeplab model in MATLAB\n",
    "210802 last edit"
   ],
   "metadata": {
    "collapsed": false,
    "pycharm": {
     "name": "#%% md\n"
    }
   }
  },
  {
   "cell_type": "code",
   "execution_count": 25,
   "outputs": [],
   "source": [
    "from paquo.projects import QuPathProject\n",
    "import numpy as np\n",
    "import os\n",
    "import xml.etree.ElementTree as ET\n",
    "# from xml.dom import minidom\n",
    "# import cv2\n",
    "# from matplotlib import pyplot as plt\n",
    "from readxml_b import *\n",
    "from time import time\n",
    "import pandas as pd"
   ],
   "metadata": {
    "collapsed": false,
    "pycharm": {
     "name": "#%%\n"
    }
   }
  },
  {
   "cell_type": "code",
   "execution_count": 26,
   "outputs": [
    {
     "name": "stdout",
     "output_type": "stream",
     "text": [
      "quproj opened in 0.05 sec\n"
     ]
    }
   ],
   "source": [
    "# Open Qupath Project to read annoation in later steps\n",
    "s1 = time()\n",
    "qppath = r\"\\\\motherserverdw\\Kyu_Sync\\Research\\Active\\Aging_organized\\svs\\svs_back\\qupath_v3\\project.qpproj\"\n",
    "dstpth = r'\\\\10.162.80.18\\Kyu_Sync\\Research\\Active\\Aging_organized\\svs\\dl_annotation_210802';\n",
    "## Uncomment below to update the image paths embedded in the qupath project in case the server ip changes.\n",
    "# with QuPathProject(qppath, mode='r+') as qp:\n",
    "#     if os.path.exists(qp.images[0].uri[7:]):\n",
    "#         print('loading project')\n",
    "#     else:\n",
    "#         print('updating uri')\n",
    "#         if os.path.exists(r\"\\\\motherserverdw\\Kyu_Sync\"):\n",
    "#             for image in qp.images:\n",
    "#                 qp.update_image_paths(uri2uri={image.uri: image.uri.replace('kukissd','10.162.80.6')})\n",
    "#         elif os.path.exists(r\"\\\\kukissd\\Kyu_Sync\"):\n",
    "#             for image in qp.images:\n",
    "#                 qp.update_image_paths(uri2uri={image.uri: image.uri.replace('10.162.80.6','kukissd')})\n",
    "#         else:\n",
    "#             raise NameError('server is not accessible')\n",
    "qp=QuPathProject(qppath, mode='r')\n",
    "print('quproj opened in {:.2f} sec'.format(time() - s1))"
   ],
   "metadata": {
    "collapsed": false,
    "pycharm": {
     "name": "#%%\n"
    }
   }
  },
  {
   "cell_type": "code",
   "execution_count": 27,
   "outputs": [
    {
     "data": {
      "text/plain": "['None',\n 'roi',\n 'granulosum',\n 'basale',\n 'white',\n 'spinosum',\n 'collagen',\n 'bloodvessel',\n 'noise',\n 'inner corneum',\n 'outer corneum',\n 'hairfollicle',\n 'hairroot',\n 'smoothmuscle',\n 'oil',\n 'sweat',\n 'nerve',\n 'fat',\n 'inflammation',\n 'vesselwall']"
     },
     "execution_count": 27,
     "metadata": {},
     "output_type": "execute_result"
    }
   ],
   "source": [
    "# list all annotation classes\n",
    "available_classes = [k.name for k in qp.path_classes]\n",
    "available_classes"
   ],
   "metadata": {
    "collapsed": false,
    "pycharm": {
     "name": "#%%\n"
    }
   }
  },
  {
   "cell_type": "code",
   "execution_count": 28,
   "outputs": [],
   "source": [
    "# define specific annotations to read and exclude the rest.\n",
    "classnames = [\n",
    "    'basale', 'bloodvessel', 'collagen', 'fat',\n",
    "    'granulosum', 'hairfollicle', 'hairroot', 'inner corneum',\n",
    "    'nerve', 'oil', 'outer corneum', 'roi', 'smoothmuscle',\n",
    "    'spinosum', 'sweat', 'white','vesselwall']\n",
    "\n",
    "leftout = ['noise','inflammation'];"
   ],
   "metadata": {
    "collapsed": false,
    "pycharm": {
     "name": "#%%\n"
    }
   }
  },
  {
   "cell_type": "code",
   "execution_count": 29,
   "outputs": [
    {
     "name": "stderr",
     "output_type": "stream",
     "text": [
      "<ipython-input-29-1c730ac9a808>:3: FutureWarning: Your version of xlrd is 1.2.0. In xlrd >= 2.0, only the xls format is supported. As a result, the openpyxl engine will be used if it is installed and the engine argument is not specified. Install openpyxl instead.\n",
      "  LUT = pd.read_excel(LUTpth)\n"
     ]
    }
   ],
   "source": [
    "# define which images to convert its annotation to xml\n",
    "LUTpth = r\"\\\\10.162.80.18\\Kyu_Sync\\Research\\Active\\Aging_organized\\report\\Aging Slide registration sheet_210713.xlsx\"\n",
    "LUT = pd.read_excel(LUTpth)\n",
    "im2use = LUT[LUT['Qupath annotation']==2]['rename']"
   ],
   "metadata": {
    "collapsed": false,
    "pycharm": {
     "name": "#%%\n"
    }
   }
  },
  {
   "cell_type": "code",
   "execution_count": 30,
   "outputs": [],
   "source": [
    "qupathimnames = [_.image_name for _ in qp.images]"
   ],
   "metadata": {
    "collapsed": false,
    "pycharm": {
     "name": "#%%\n"
    }
   }
  },
  {
   "cell_type": "code",
   "execution_count": 31,
   "outputs": [],
   "source": [
    "# find index of a's elements within b in order to narrow down b array indirectly.\n",
    "a = im2use\n",
    "b = pd.Series(qupathimnames)\n",
    "idxx = b[b.isin(a)].index\n",
    "idxx = list(idxx)"
   ],
   "metadata": {
    "collapsed": false,
    "pycharm": {
     "name": "#%%\n"
    }
   }
  },
  {
   "cell_type": "code",
   "execution_count": 32,
   "outputs": [
    {
     "name": "stdout",
     "output_type": "stream",
     "text": [
      "1 wf21_b4_01.svs\n",
      "qupath annotation loaded in 0.74 sec\n",
      "['basale' 'bloodvessel' 'collagen' 'granulosum' 'inner corneum'\n",
      " 'outer corneum' 'roi' 'spinosum' 'vesselwall' 'white'] 10\n",
      "combined xml generated in 0.14 sec\n",
      "wf21_b4_01.svs time elapsed 0.93 sec\n",
      "wf21_b4_01.xml  file saved\n",
      "15 wf45_b4_01.svs\n",
      "qupath annotation loaded in 0.65 sec\n",
      "['bloodvessel' 'collagen' 'fat' 'nerve' 'roi' 'smoothmuscle' 'sweat'\n",
      " 'vesselwall' 'white'] 9\n",
      "combined xml generated in 0.02 sec\n",
      "wf45_b4_01.svs time elapsed 0.67 sec\n",
      "wf45_b4_01.xml  file saved\n",
      "18 wf63_b4_01.svs\n",
      "qupath annotation loaded in 1.19 sec\n",
      "['basale' 'bloodvessel' 'collagen' 'granulosum' 'outer corneum' 'roi'\n",
      " 'spinosum' 'vesselwall' 'white'] 9\n",
      "combined xml generated in 0.02 sec\n",
      "wf63_b4_01.svs time elapsed 1.21 sec\n",
      "wf63_b4_01.xml  file saved\n",
      "29 wf87_b3_03.svs\n",
      "qupath annotation loaded in 0.64 sec\n",
      "['basale' 'bloodvessel' 'collagen' 'granulosum' 'inner corneum'\n",
      " 'outer corneum' 'roi' 'spinosum' 'vesselwall' 'white'] 10\n",
      "combined xml generated in 0.02 sec\n",
      "wf87_b3_03.svs time elapsed 0.66 sec\n",
      "wf87_b3_03.xml  file saved\n",
      "34 wm21_b2_01.svs\n",
      "qupath annotation loaded in 1.01 sec\n",
      "['bloodvessel' 'collagen' 'hairfollicle' 'oil' 'roi' 'smoothmuscle'\n",
      " 'sweat'] 7\n",
      "combined xml generated in 0.01 sec\n",
      "wm21_b2_01.svs time elapsed 1.02 sec\n",
      "wm21_b2_01.xml  file saved\n",
      "36 wm27_b4_01.svs\n",
      "qupath annotation loaded in 1.06 sec\n",
      "['bloodvessel' 'collagen' 'nerve' 'roi' 'sweat' 'vesselwall' 'white'] 7\n",
      "combined xml generated in 0.01 sec\n",
      "wm27_b4_01.svs time elapsed 1.08 sec\n",
      "wm27_b4_01.xml  file saved\n",
      "37 wm27_b4_02.svs\n",
      "qupath annotation loaded in 1.12 sec\n",
      "['bloodvessel' 'collagen' 'hairfollicle' 'nerve' 'oil' 'roi'\n",
      " 'smoothmuscle' 'sweat' 'vesselwall' 'white'] 10\n",
      "combined xml generated in 0.01 sec\n",
      "wm27_b4_02.svs time elapsed 1.13 sec\n",
      "wm27_b4_02.xml  file saved\n",
      "38 wm28_b4_01.svs\n",
      "qupath annotation loaded in 2.38 sec\n",
      "['bloodvessel' 'collagen' 'fat' 'hairfollicle' 'hairroot' 'nerve' 'oil'\n",
      " 'roi' 'smoothmuscle' 'sweat' 'vesselwall' 'white'] 12\n",
      "combined xml generated in 0.14 sec\n",
      "wm28_b4_01.svs time elapsed 2.52 sec\n",
      "wm28_b4_01.xml  file saved\n",
      "42 wm38_b4_01.svs\n",
      "qupath annotation loaded in 0.63 sec\n",
      "['bloodvessel' 'collagen' 'fat' 'hairfollicle' 'nerve' 'oil' 'roi'\n",
      " 'smoothmuscle' 'sweat' 'vesselwall' 'white'] 11\n",
      "combined xml generated in 0.16 sec\n",
      "wm38_b4_01.svs time elapsed 0.79 sec\n",
      "wm38_b4_01.xml  file saved\n",
      "43 wm39_b4_01.svs\n",
      "qupath annotation loaded in 0.83 sec\n",
      "['basale' 'bloodvessel' 'collagen' 'fat' 'granulosum' 'hairfollicle'\n",
      " 'inner corneum' 'nerve' 'oil' 'outer corneum' 'roi' 'smoothmuscle'\n",
      " 'spinosum' 'sweat' 'vesselwall' 'white'] 16\n",
      "combined xml generated in 0.04 sec\n",
      "wm39_b4_01.svs time elapsed 0.88 sec\n",
      "wm39_b4_01.xml  file saved\n",
      "44 wm41_b4_01.svs\n",
      "qupath annotation loaded in 1.02 sec\n",
      "['bloodvessel' 'collagen' 'hairfollicle' 'oil' 'roi' 'smoothmuscle'\n",
      " 'vesselwall' 'white'] 8\n",
      "combined xml generated in 0.07 sec\n",
      "wm41_b4_01.svs time elapsed 1.13 sec\n",
      "wm41_b4_01.xml  file saved\n",
      "52 wm55_b4_02.svs\n",
      "qupath annotation loaded in 4.75 sec\n",
      "['basale' 'bloodvessel' 'collagen' 'granulosum' 'inner corneum' 'nerve'\n",
      " 'roi' 'smoothmuscle' 'spinosum' 'vesselwall' 'white'] 11\n",
      "combined xml generated in 0.14 sec\n",
      "wm55_b4_02.svs time elapsed 4.89 sec\n",
      "wm55_b4_02.xml  file saved\n",
      "53 wm57_b4_01.svs\n",
      "qupath annotation loaded in 0.90 sec\n",
      "['collagen' 'fat' 'roi' 'sweat' 'white'] 5\n",
      "combined xml generated in 0.12 sec\n",
      "wm57_b4_01.svs time elapsed 1.03 sec\n",
      "wm57_b4_01.xml  file saved\n",
      "54 wm60_b4_01.svs\n",
      "qupath annotation loaded in 0.95 sec\n",
      "['bloodvessel' 'collagen' 'hairfollicle' 'hairroot' 'oil' 'roi'\n",
      " 'smoothmuscle' 'vesselwall' 'white'] 9\n",
      "combined xml generated in 0.14 sec\n",
      "wm60_b4_01.svs time elapsed 1.09 sec\n",
      "wm60_b4_01.xml  file saved\n",
      "59 wm70_b4_01.svs\n",
      "qupath annotation loaded in 0.68 sec\n",
      "['basale' 'bloodvessel' 'collagen' 'fat' 'granulosum' 'hairfollicle'\n",
      " 'hairroot' 'inner corneum' 'nerve' 'outer corneum' 'roi' 'spinosum'\n",
      " 'vesselwall' 'white'] 14\n",
      "combined xml generated in 0.16 sec\n",
      "wm70_b4_01.svs time elapsed 0.84 sec\n",
      "wm70_b4_01.xml  file saved\n",
      "60 wm71_b4_01.svs\n",
      "qupath annotation loaded in 0.70 sec\n",
      "['bloodvessel' 'collagen' 'nerve' 'roi' 'smoothmuscle' 'sweat'\n",
      " 'vesselwall' 'white'] 8\n",
      "combined xml generated in 0.03 sec\n",
      "wm71_b4_01.svs time elapsed 0.88 sec\n",
      "wm71_b4_01.xml  file saved\n",
      "61 wm84_b4_01.svs\n",
      "qupath annotation loaded in 1.18 sec\n",
      "['bloodvessel' 'collagen' 'nerve' 'roi' 'smoothmuscle' 'sweat'\n",
      " 'vesselwall' 'white'] 8\n",
      "combined xml generated in 0.06 sec\n",
      "wm84_b4_01.svs time elapsed 1.24 sec\n",
      "wm84_b4_01.xml  file saved\n",
      "62 files processed in 25.48 sec\n"
     ]
    },
    {
     "name": "stderr",
     "output_type": "stream",
     "text": [
      "<ipython-input-32-29c48ea04b5b>:37: VisibleDeprecationWarning: Creating an ndarray from ragged nested sequences (which is a list-or-tuple of lists-or-tuples-or ndarrays with different lengths or shapes) is deprecated. If you meant to do this, you must specify 'dtype=object' when creating the ndarray\n",
      "  coords=np.array(coords)\n"
     ]
    }
   ],
   "source": [
    "# annsrc = r'\\\\motherserverdw\\Kyu_Sync\\Research\\Active\\Aging_organized\\svs\\class14_annotation_v2'\n",
    "s2 = time()\n",
    "for idx,image in enumerate(qp.images[:]):\n",
    "    if idx in idxx:\n",
    "        start=time()\n",
    "        print(idx,image.image_name)\n",
    "        coords = []\n",
    "        names = []\n",
    "        #read annotation\n",
    "        s4 = time()\n",
    "        annotations = image.hierarchy.annotations\n",
    "        if len(annotations)<1: continue\n",
    "        for annotation in annotations:\n",
    "            if not annotation.path_class is None:\n",
    "                # TO-DO: make exclusion of classes dynamic using the defined array above\n",
    "                if annotation.path_class.name != \"inflammation\":\n",
    "                    if annotation.path_class.name != \"noise\":\n",
    "                        poly = annotation.roi\n",
    "                        if poly.type=='MultiPolygon':\n",
    "                            # coords.append(np.concatenate(tuple([np.array(x.exterior.coords) for x in poly.geoms])).astype(np.int32))\n",
    "                            dilation_count = 0\n",
    "                            while poly.type=='MultiPolygon':\n",
    "                                poly = poly.buffer(1)\n",
    "                                if dilation_count>10: break\n",
    "                                poly = poly.buffer(-1)\n",
    "                                dilation_count += 1\n",
    "                            # np.append(coords,np.array(poly.exterior.coords).astype(np.int32))\n",
    "                            # np.append(names,annotation.path_class.name)\n",
    "                            if not poly.type=='MultiPolygon':\n",
    "                                coords.append(np.array(poly.exterior.coords).astype(np.int32))\n",
    "                                names.append(annotation.path_class.name)\n",
    "                        if poly.type=='Polygon':\n",
    "                            # np.append(coords,np.array(poly.exterior.coords).astype(np.int32))\n",
    "                            # np.append(names,annotation.path_class.name)\n",
    "                            coords.append(np.array(poly.exterior.coords).astype(np.int32))\n",
    "                            names.append(annotation.path_class.name)\n",
    "        coords=np.array(coords)\n",
    "        names =np.array(names)\n",
    "        print('qupath annotation loaded in {:.2f} sec'.format(time() - s4))\n",
    "        print(np.unique(names),len(np.unique(names)))\n",
    "    \n",
    "        if not set(np.unique(names)).issubset(set(classnames)):\n",
    "            raise ValueError('check spelling for classes in either imagescope or qupath')\n",
    "    \n",
    "        s5=time()\n",
    "        root = ET.Element(\"Annotations\", MicronsPerPixel=\"0.494\") # for 20X\n",
    "        # root = ET.Element(\"Annotations\", MicronsPerPixel=\"0.230500\") # for 40X\n",
    "    \n",
    "        for idx,elem in enumerate(classnames):\n",
    "            #basic setup\n",
    "            m1 = ET.Element(\"Annotation\", Id=str(idx+1), Name=\"\", ReadOnly=\"0\",\n",
    "                            NameReadOnly=\"0\", LineColorReadOnly=\"0\",\n",
    "                            Incremental=\"0\", Type=\"4\", LineColor=\"16711935\",\n",
    "                            Visible=\"1\", Selected=\"0\", MarkupImagePath=\"\", MacroName=\"\")\n",
    "            root.append(m1)\n",
    "            b1 = ET.SubElement(m1, \"Attributes\")\n",
    "            c1 = ET.SubElement(b1, \"Attribute\", Name=elem, Id=\"0\", Value=\"\")\n",
    "            b2 = ET.SubElement(m1, \"Regions\")\n",
    "            c2 = ET.SubElement(b2, \"RegionAttributeHeaders\")\n",
    "            ET.SubElement(c2, \"AttributeHeader\", Id=\"9999\", Name=\"Region\", ColumnWidth=\"-1\")\n",
    "            ET.SubElement(c2, \"AttributeHeader\", Id=\"9997\", Name=\"Length\", ColumnWidth=\"-1\")\n",
    "            ET.SubElement(c2, \"AttributeHeader\", Id=\"9996\", Name=\"Area\", ColumnWidth=\"-1\")\n",
    "            ET.SubElement(c2, \"AttributeHeader\", Id=\"9998\", Name=\"Text\", ColumnWidth=\"-1\")\n",
    "            ET.SubElement(c2, \"AttributeHeader\", Id=\"1\", Name=\"Description\", ColumnWidth=\"-1\")\n",
    "            # individual annotation circle\n",
    "            for annidx,annelem in enumerate(coords[names==elem]):\n",
    "                d2 = ET.SubElement(b2, \"Region\", Id=str(annidx+1), Type=\"0\", Zoom=\"1\", Selected=\"0\", ImageLocation=\"\", ImageFocus=\"-1\",\n",
    "                Text=\"\", NegativeROA=\"0\", InputRegionId=\"0\", Analyze=\"1\",DisplayId=str(annidx+1))\n",
    "                ET.SubElement(d2,\"Attributes\")\n",
    "                e2 = ET.SubElement(d2,\"Vertices\")\n",
    "                for vertidx,vertelem in enumerate(annelem):\n",
    "                    ET.SubElement(e2,\"Vertex\", X=str(vertelem[0]), Y=str(vertelem[1]), Z=\"0\")\n",
    "            b3 = ET.SubElement(m1, \"Plots\")\n",
    "    \n",
    "        # xmlstr = minidom.parseString(ET.tostring(root)).toprettyxml(indent=\"   \")\n",
    "    \n",
    "        print('combined xml generated in {:.2f} sec'.format(time() - s5))\n",
    "        print(image.image_name,'time elapsed {:.2f} sec'.format(time() - start))\n",
    "    \n",
    "        # with open(image.image_name.replace('svs','xml'),'wb') as ff:\n",
    "        #     ff.write(xmlstr.encode('utf-8'))\n",
    "        #\n",
    "        dstnm = image.image_name.replace('svs','xml')\n",
    "        dst2 = os.path.join(dstpth,dstnm)\n",
    "        with open(dst2,'wb') as f:\n",
    "            ET.ElementTree(root).write(f)\n",
    "        print(image.image_name.replace('svs','xml'),' file saved')\n",
    "print(len(qp.images),'files processed in {:.2f} sec'.format(time() - s2))"
   ],
   "metadata": {
    "collapsed": false,
    "pycharm": {
     "name": "#%%\n"
    }
   }
  }
 ],
 "metadata": {
  "kernelspec": {
   "name": "python3",
   "language": "python",
   "display_name": "Python 3"
  },
  "language_info": {
   "codemirror_mode": {
    "name": "ipython",
    "version": 2
   },
   "file_extension": ".py",
   "mimetype": "text/x-python",
   "name": "python",
   "nbconvert_exporter": "python",
   "pygments_lexer": "ipython2",
   "version": "2.7.6"
  }
 },
 "nbformat": 4,
 "nbformat_minor": 0
}