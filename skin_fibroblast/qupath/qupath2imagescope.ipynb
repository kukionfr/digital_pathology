{
 "cells": [
  {
   "cell_type": "markdown",
   "source": [
    "convert qupath annotation to imagescope xml in order to train deeplab model in MATLAB\n",
    "210421 last edit"
   ],
   "metadata": {
    "collapsed": false,
    "pycharm": {
     "name": "#%% md\n"
    }
   }
  },
  {
   "cell_type": "code",
   "execution_count": 8,
   "outputs": [],
   "source": [
    "from paquo.projects import QuPathProject\n",
    "import numpy as np\n",
    "import os\n",
    "import xml.etree.ElementTree as ET\n",
    "from xml.dom import minidom\n",
    "import cv2\n",
    "from matplotlib import pyplot as plt\n",
    "from readxml_b import *\n",
    "from time import time"
   ],
   "metadata": {
    "collapsed": false,
    "pycharm": {
     "name": "#%%\n"
    }
   }
  },
  {
   "cell_type": "code",
   "execution_count": 9,
   "outputs": [
    {
     "name": "stdout",
     "output_type": "stream",
     "text": [
      "quproj opened in 0.06 sec\n"
     ]
    }
   ],
   "source": [
    "s1 = time()\n",
    "qppath = r\"\\\\motherserverdw\\Kyu_Sync\\Research\\Active\\Aging_organized\\svs\\svs_back\\qupath_v2\\project.qpproj\"\n",
    "# with QuPathProject(qppath, mode='r+') as qp:\n",
    "#     if os.path.exists(qp.images[0].uri[7:]):\n",
    "#         print('loading project')\n",
    "#     else:\n",
    "#         print('updating uri')\n",
    "#         if os.path.exists(r\"\\\\motherserverdw\\Kyu_Sync\"):\n",
    "#             for image in qp.images:\n",
    "#                 qp.update_image_paths(uri2uri={image.uri: image.uri.replace('kukissd','10.162.80.6')})\n",
    "#         elif os.path.exists(r\"\\\\kukissd\\Kyu_Sync\"):\n",
    "#             for image in qp.images:\n",
    "#                 qp.update_image_paths(uri2uri={image.uri: image.uri.replace('10.162.80.6','kukissd')})\n",
    "#         else:\n",
    "#             raise NameError('server is not accessible')\n",
    "qp=QuPathProject(qppath, mode='r')\n",
    "\n",
    "print('quproj opened in {:.2f} sec'.format(time() - s1))"
   ],
   "metadata": {
    "collapsed": false,
    "pycharm": {
     "name": "#%%\n"
    }
   }
  },
  {
   "cell_type": "code",
   "execution_count": 10,
   "outputs": [
    {
     "name": "stdout",
     "output_type": "stream",
     "text": [
      "0 wf61_b4_01.svs\n",
      "12 class annotation does not exist for this image\n",
      "1 wf63_b4_01.svs\n",
      "12 class annotation does not exist for this image\n"
     ]
    },
    {
     "name": "stderr",
     "output_type": "stream",
     "text": [
      "<ipython-input-10-13aef9c2d538>:45: VisibleDeprecationWarning: Creating an ndarray from ragged nested sequences (which is a list-or-tuple of lists-or-tuples-or ndarrays with different lengths or shapes) is deprecated. If you meant to do this, you must specify 'dtype=object' when creating the ndarray.\n",
      "  coords=np.array(coords)\n"
     ]
    },
    {
     "name": "stdout",
     "output_type": "stream",
     "text": [
      "qupath annotation loaded in 1.04 sec\n",
      "['basale' 'bloodvessel' 'collagen' 'granulosum' 'inner corneum' 'roi'\n",
      " 'spinosum' 'white'] 8\n",
      "combined xml generated in 0.00 sec\n",
      "wf63_b4_01.svs time elapsed 1.04 sec\n",
      "wf63_b4_01.xml  file saved\n",
      "2 wf64_b3_01.svs\n"
     ]
    },
    {
     "name": "stderr",
     "output_type": "stream",
     "text": [
      "C:\\Users\\kyuha\\PycharmProjects\\digital_pathology\\skin_fibroblast\\util\\readxml_b.py:39: VisibleDeprecationWarning: Creating an ndarray from ragged nested sequences (which is a list-or-tuple of lists-or-tuples-or ndarrays with different lengths or shapes) is deprecated. If you meant to do this, you must specify 'dtype=object' when creating the ndarray.\n",
      "  coords = np.array(coords)\n"
     ]
    },
    {
     "name": "stdout",
     "output_type": "stream",
     "text": [
      "12 class annotation loaded in 2.12 sec\n",
      "qupath annotation loaded in 0.68 sec\n",
      "['bloodvessel' 'collagen' 'fat' 'hairfollicle' 'hairroot' 'nerve' 'oil'\n",
      " 'roi' 'smoothmuscle' 'sweat' 'white'] 11\n",
      "combined xml generated in 0.50 sec\n",
      "wf64_b3_01.svs time elapsed 3.30 sec\n",
      "wf64_b3_01.xml  file saved\n",
      "3 wf64_b4_01.svs\n",
      "12 class annotation does not exist for this image\n",
      "4 wf65_b4_01.svs\n",
      "12 class annotation does not exist for this image\n",
      "5 wf69_b3_01.svs\n",
      "12 class annotation loaded in 0.13 sec\n",
      "qupath annotation loaded in 1.24 sec\n",
      "['basale' 'bloodvessel' 'collagen' 'fat' 'granulosum' 'hairfollicle'\n",
      " 'hairroot' 'inner corneum' 'nerve' 'oil' 'outer corneum' 'roi'\n",
      " 'smoothmuscle' 'spinosum' 'sweat' 'white'] 16\n",
      "combined xml generated in 0.05 sec\n",
      "wf69_b3_01.svs time elapsed 1.45 sec\n",
      "wf69_b3_01.xml  file saved\n",
      "6 wf73_b3_01.svs\n",
      "12 class annotation loaded in 0.14 sec\n",
      "qupath annotation loaded in 0.77 sec\n",
      "['basale' 'bloodvessel' 'collagen' 'fat' 'granulosum' 'hairfollicle'\n",
      " 'hairroot' 'inner corneum' 'nerve' 'outer corneum' 'roi' 'smoothmuscle'\n",
      " 'spinosum' 'sweat' 'white'] 15\n",
      "combined xml generated in 0.02 sec\n",
      "wf73_b3_01.svs time elapsed 0.93 sec\n",
      "wf73_b3_01.xml  file saved\n",
      "7 wf74_b3_01.svs\n",
      "12 class annotation loaded in 0.23 sec\n",
      "qupath annotation loaded in 0.81 sec\n",
      "['basale' 'bloodvessel' 'collagen' 'fat' 'granulosum' 'hairfollicle'\n",
      " 'hairroot' 'inner corneum' 'nerve' 'oil' 'outer corneum' 'roi'\n",
      " 'smoothmuscle' 'spinosum' 'sweat' 'white'] 16\n",
      "combined xml generated in 0.05 sec\n",
      "wf74_b3_01.svs time elapsed 1.09 sec\n",
      "wf74_b3_01.xml  file saved\n",
      "8 wf82_b3_01.svs\n",
      "12 class annotation loaded in 0.98 sec\n",
      "qupath annotation loaded in 1.04 sec\n",
      "['basale' 'bloodvessel' 'collagen' 'fat' 'granulosum' 'hairfollicle'\n",
      " 'hairroot' 'inner corneum' 'nerve' 'oil' 'outer corneum' 'roi'\n",
      " 'smoothmuscle' 'spinosum' 'sweat' 'white'] 16\n",
      "combined xml generated in 0.20 sec\n",
      "wf82_b3_01.svs time elapsed 2.23 sec\n",
      "wf82_b3_01.xml  file saved\n",
      "9 wf85_b3_01.svs\n",
      "12 class annotation loaded in 1.09 sec\n",
      "qupath annotation loaded in 0.57 sec\n",
      "['bloodvessel' 'collagen' 'fat' 'hairfollicle' 'hairroot' 'nerve' 'oil'\n",
      " 'roi' 'smoothmuscle' 'sweat' 'white'] 11\n",
      "combined xml generated in 0.26 sec\n",
      "wf85_b3_01.svs time elapsed 1.91 sec\n",
      "wf85_b3_01.xml  file saved\n",
      "10 wf86_b3_02.svs\n",
      "12 class annotation loaded in 1.30 sec\n",
      "qupath annotation loaded in 1.32 sec\n",
      "['basale' 'bloodvessel' 'collagen' 'fat' 'granulosum' 'hairfollicle'\n",
      " 'hairroot' 'inner corneum' 'nerve' 'oil' 'outer corneum' 'roi'\n",
      " 'smoothmuscle' 'spinosum' 'sweat' 'white'] 16\n",
      "combined xml generated in 0.17 sec\n",
      "wf86_b3_02.svs time elapsed 2.80 sec\n",
      "wf86_b3_02.xml  file saved\n",
      "11 wf87_b3_01.svs\n",
      "12 class annotation loaded in 0.55 sec\n",
      "qupath annotation loaded in 1.06 sec\n",
      "['bloodvessel' 'collagen' 'fat' 'hairfollicle' 'hairroot' 'nerve' 'oil'\n",
      " 'roi' 'smoothmuscle' 'sweat' 'white'] 11\n",
      "combined xml generated in 0.27 sec\n",
      "wf87_b3_01.svs time elapsed 1.88 sec\n",
      "wf87_b3_01.xml  file saved\n",
      "12 wf87_b3_03.svs\n",
      "12 class annotation loaded in 0.17 sec\n",
      "qupath annotation loaded in 0.89 sec\n",
      "['basale' 'bloodvessel' 'collagen' 'granulosum' 'inner corneum'\n",
      " 'outer corneum' 'roi' 'spinosum' 'white'] 9\n",
      "combined xml generated in 0.01 sec\n",
      "wf87_b3_03.svs time elapsed 1.07 sec\n",
      "wf87_b3_03.xml  file saved\n",
      "13 wf92_b3_01.svs\n",
      "12 class annotation loaded in 0.21 sec\n",
      "qupath annotation loaded in 0.68 sec\n",
      "['bloodvessel' 'collagen' 'hairfollicle' 'hairroot' 'oil' 'roi'\n",
      " 'smoothmuscle' 'sweat'] 8\n",
      "combined xml generated in 0.02 sec\n",
      "wf92_b3_01.svs time elapsed 0.91 sec\n",
      "wf92_b3_01.xml  file saved\n",
      "14 wm14_b2_01.svs\n",
      "12 class annotation loaded in 6.06 sec\n",
      "qupath annotation loaded in 0.63 sec\n",
      "['bloodvessel' 'collagen' 'fat' 'hairfollicle' 'hairroot' 'nerve' 'oil'\n",
      " 'roi' 'smoothmuscle' 'sweat' 'white'] 11\n",
      "combined xml generated in 0.36 sec\n",
      "wm14_b2_01.svs time elapsed 7.05 sec\n",
      "wm14_b2_01.xml  file saved\n",
      "15 wm14_b2_02.svs\n",
      "12 class annotation loaded in 2.63 sec\n",
      "qupath annotation loaded in 0.87 sec\n",
      "['bloodvessel' 'collagen' 'fat' 'hairfollicle' 'hairroot' 'nerve' 'oil'\n",
      " 'roi' 'smoothmuscle' 'sweat' 'white'] 11\n",
      "combined xml generated in 0.31 sec\n",
      "wm14_b2_02.svs time elapsed 3.81 sec\n",
      "wm14_b2_02.xml  file saved\n",
      "16 wm17_b2_01.svs\n",
      "12 class annotation loaded in 0.88 sec\n",
      "qupath annotation loaded in 1.08 sec\n",
      "['bloodvessel' 'collagen' 'fat' 'hairfollicle' 'hairroot' 'nerve' 'oil'\n",
      " 'roi' 'smoothmuscle' 'sweat' 'white'] 11\n",
      "combined xml generated in 0.06 sec\n",
      "wm17_b2_01.svs time elapsed 2.02 sec\n",
      "wm17_b2_01.xml  file saved\n",
      "17 wm20_b2_02.svs\n",
      "12 class annotation loaded in 1.67 sec\n",
      "qupath annotation loaded in 0.70 sec\n",
      "['bloodvessel' 'collagen' 'hairfollicle' 'hairroot' 'nerve' 'oil' 'roi'\n",
      " 'smoothmuscle' 'sweat' 'white'] 10\n",
      "combined xml generated in 0.13 sec\n",
      "wm20_b2_02.svs time elapsed 2.49 sec\n",
      "wm20_b2_02.xml  file saved\n",
      "18 wm21_b2_01.svs\n"
     ]
    },
    {
     "ename": "TypeError",
     "evalue": "('check name:', 'wm21_b2_01.xml', 'classes in file:', ['corneum', 'basale', 'hairroot', 'hairfollicle', 'smoothmuscle', 'oil', 'sweat', 'nerve', 'bloodvessel', 'collagen', 'fat', 'white'])",
     "output_type": "error",
     "traceback": [
      "\u001B[1;31m---------------------------------------------------------------------------\u001B[0m",
      "\u001B[1;31mTypeError\u001B[0m                                 Traceback (most recent call last)",
      "\u001B[1;32m<ipython-input-10-13aef9c2d538>\u001B[0m in \u001B[0;36m<module>\u001B[1;34m\u001B[0m\n\u001B[0;32m     10\u001B[0m     \u001B[1;32mif\u001B[0m \u001B[0mos\u001B[0m\u001B[1;33m.\u001B[0m\u001B[0mpath\u001B[0m\u001B[1;33m.\u001B[0m\u001B[0mexists\u001B[0m\u001B[1;33m(\u001B[0m\u001B[0mannpth\u001B[0m\u001B[1;33m)\u001B[0m\u001B[1;33m:\u001B[0m\u001B[1;33m\u001B[0m\u001B[1;33m\u001B[0m\u001B[0m\n\u001B[0;32m     11\u001B[0m         \u001B[0ms3\u001B[0m \u001B[1;33m=\u001B[0m \u001B[0mtime\u001B[0m\u001B[1;33m(\u001B[0m\u001B[1;33m)\u001B[0m\u001B[1;33m\u001B[0m\u001B[1;33m\u001B[0m\u001B[0m\n\u001B[1;32m---> 12\u001B[1;33m         \u001B[0mcoords\u001B[0m\u001B[1;33m,\u001B[0m\u001B[0mnames\u001B[0m \u001B[1;33m=\u001B[0m \u001B[0mreadxml_b\u001B[0m\u001B[1;33m(\u001B[0m\u001B[0mannpth\u001B[0m\u001B[1;33m)\u001B[0m\u001B[1;33m\u001B[0m\u001B[1;33m\u001B[0m\u001B[0m\n\u001B[0m\u001B[0;32m     13\u001B[0m         \u001B[0mprint\u001B[0m\u001B[1;33m(\u001B[0m\u001B[1;34m'12 class annotation loaded in {:.2f} sec'\u001B[0m\u001B[1;33m.\u001B[0m\u001B[0mformat\u001B[0m\u001B[1;33m(\u001B[0m\u001B[0mtime\u001B[0m\u001B[1;33m(\u001B[0m\u001B[1;33m)\u001B[0m \u001B[1;33m-\u001B[0m \u001B[0ms3\u001B[0m\u001B[1;33m)\u001B[0m\u001B[1;33m)\u001B[0m\u001B[1;33m\u001B[0m\u001B[1;33m\u001B[0m\u001B[0m\n\u001B[0;32m     14\u001B[0m     \u001B[1;32melse\u001B[0m\u001B[1;33m:\u001B[0m\u001B[1;33m\u001B[0m\u001B[1;33m\u001B[0m\u001B[0m\n",
      "\u001B[1;32m~\\PycharmProjects\\digital_pathology\\skin_fibroblast\\util\\readxml_b.py\u001B[0m in \u001B[0;36mreadxml_b\u001B[1;34m(xml_path)\u001B[0m\n\u001B[0;32m     27\u001B[0m \u001B[1;33m\u001B[0m\u001B[0m\n\u001B[0;32m     28\u001B[0m     \u001B[1;32mif\u001B[0m \u001B[1;32mnot\u001B[0m \u001B[0mclassluts\u001B[0m\u001B[1;33m==\u001B[0m\u001B[0mLUTs\u001B[0m\u001B[1;33m:\u001B[0m\u001B[1;33m\u001B[0m\u001B[1;33m\u001B[0m\u001B[0m\n\u001B[1;32m---> 29\u001B[1;33m         \u001B[1;32mraise\u001B[0m \u001B[0mTypeError\u001B[0m\u001B[1;33m(\u001B[0m\u001B[1;34m'check name:'\u001B[0m\u001B[1;33m,\u001B[0m\u001B[0mos\u001B[0m\u001B[1;33m.\u001B[0m\u001B[0mpath\u001B[0m\u001B[1;33m.\u001B[0m\u001B[0mbasename\u001B[0m\u001B[1;33m(\u001B[0m\u001B[0mxml_path\u001B[0m\u001B[1;33m)\u001B[0m\u001B[1;33m,\u001B[0m\u001B[1;34m'classes in file:'\u001B[0m\u001B[1;33m,\u001B[0m\u001B[0mclasslut\u001B[0m\u001B[1;33m)\u001B[0m\u001B[1;33m\u001B[0m\u001B[1;33m\u001B[0m\u001B[0m\n\u001B[0m\u001B[0;32m     30\u001B[0m \u001B[1;33m\u001B[0m\u001B[0m\n\u001B[0;32m     31\u001B[0m     \u001B[1;32mfor\u001B[0m \u001B[0mAnnotation\u001B[0m \u001B[1;32min\u001B[0m \u001B[0mroot\u001B[0m\u001B[1;33m.\u001B[0m\u001B[0miter\u001B[0m\u001B[1;33m(\u001B[0m\u001B[1;34m'Annotation'\u001B[0m\u001B[1;33m)\u001B[0m\u001B[1;33m:\u001B[0m\u001B[1;33m\u001B[0m\u001B[1;33m\u001B[0m\u001B[0m\n",
      "\u001B[1;31mTypeError\u001B[0m: ('check name:', 'wm21_b2_01.xml', 'classes in file:', ['corneum', 'basale', 'hairroot', 'hairfollicle', 'smoothmuscle', 'oil', 'sweat', 'nerve', 'bloodvessel', 'collagen', 'fat', 'white'])"
     ]
    }
   ],
   "source": [
    "classnames = ['basale', 'bloodvessel', 'collagen', 'fat', 'granulosum', 'hairfollicle',\n",
    " 'hairroot', 'inner corneum', 'nerve', 'oil', 'outer corneum', 'roi',\n",
    " 'smoothmuscle', 'spinosum', 'sweat', 'white']\n",
    "annsrc = r'\\\\motherserverdw\\Kyu_Sync\\Research\\Active\\Aging_organized\\svs\\class14_annotation_v2'\n",
    "s2 = time()\n",
    "for idx,image in enumerate(qp.images[21:]):\n",
    "    start=time()\n",
    "    print(idx,image.image_name)\n",
    "    annpth = os.path.join(annsrc,image.image_name.replace('svs','xml'))\n",
    "    if os.path.exists(annpth):\n",
    "        s3 = time()\n",
    "        coords,names = readxml_b(annpth)\n",
    "        print('12 class annotation loaded in {:.2f} sec'.format(time() - s3))\n",
    "    else:\n",
    "        coords = []\n",
    "        names = []\n",
    "        print('12 class annotation does not exist for this image')\n",
    "    #read annotation\n",
    "    s4 = time()\n",
    "    annotations = image.hierarchy.annotations\n",
    "    if len(annotations)<1: continue\n",
    "    for annotation in annotations:\n",
    "        if not annotation.path_class is None:\n",
    "            if annotation.path_class.name != \"inflammation\":\n",
    "                if annotation.path_class.name != \"noise\":\n",
    "                    poly = annotation.roi\n",
    "                    if poly.type=='MultiPolygon':\n",
    "                        # coords.append(np.concatenate(tuple([np.array(x.exterior.coords) for x in poly.geoms])).astype(np.int32))\n",
    "                        dilation_count = 0\n",
    "                        while poly.type=='MultiPolygon':\n",
    "                            poly = poly.buffer(1)\n",
    "                            if dilation_count>10: break\n",
    "                            poly = poly.buffer(-1)\n",
    "                            dilation_count += 1\n",
    "                        # np.append(coords,np.array(poly.exterior.coords).astype(np.int32))\n",
    "                        # np.append(names,annotation.path_class.name)\n",
    "                        if not poly.type=='MultiPolygon':\n",
    "                            coords.append(np.array(poly.exterior.coords).astype(np.int32))\n",
    "                            names.append(annotation.path_class.name)\n",
    "                    if poly.type=='Polygon':\n",
    "                        # np.append(coords,np.array(poly.exterior.coords).astype(np.int32))\n",
    "                        # np.append(names,annotation.path_class.name)\n",
    "                        coords.append(np.array(poly.exterior.coords).astype(np.int32))\n",
    "                        names.append(annotation.path_class.name)\n",
    "    coords=np.array(coords)\n",
    "    names =np.array(names)\n",
    "    print('qupath annotation loaded in {:.2f} sec'.format(time() - s4))\n",
    "    print(np.unique(names),len(np.unique(names)))\n",
    "\n",
    "    if not set(np.unique(names)).issubset(set(classnames)):\n",
    "        raise ValueError('check spelling for classes in either imagescope or qupath')\n",
    "\n",
    "    s5=time()\n",
    "    root = ET.Element(\"Annotations\", MicronsPerPixel=\"0.230500\")\n",
    "\n",
    "    for idx,elem in enumerate(classnames):\n",
    "        #basic setup\n",
    "        m1 = ET.Element(\"Annotation\", Id=str(idx+1), Name=\"\", ReadOnly=\"0\",\n",
    "                        NameReadOnly=\"0\", LineColorReadOnly=\"0\",\n",
    "                        Incremental=\"0\", Type=\"4\", LineColor=\"16711935\",\n",
    "                        Visible=\"1\", Selected=\"0\", MarkupImagePath=\"\", MacroName=\"\")\n",
    "        root.append(m1)\n",
    "        b1 = ET.SubElement(m1, \"Attributes\")\n",
    "        c1 = ET.SubElement(b1, \"Attribute\", Name=elem, Id=\"0\", Value=\"\")\n",
    "        b2 = ET.SubElement(m1, \"Regions\")\n",
    "        c2 = ET.SubElement(b2, \"RegionAttributeHeaders\")\n",
    "        ET.SubElement(c2, \"AttributeHeader\", Id=\"9999\", Name=\"Region\", ColumnWidth=\"-1\")\n",
    "        ET.SubElement(c2, \"AttributeHeader\", Id=\"9997\", Name=\"Length\", ColumnWidth=\"-1\")\n",
    "        ET.SubElement(c2, \"AttributeHeader\", Id=\"9996\", Name=\"Area\", ColumnWidth=\"-1\")\n",
    "        ET.SubElement(c2, \"AttributeHeader\", Id=\"9998\", Name=\"Text\", ColumnWidth=\"-1\")\n",
    "        ET.SubElement(c2, \"AttributeHeader\", Id=\"1\", Name=\"Description\", ColumnWidth=\"-1\")\n",
    "        # individual annotation circle\n",
    "        for annidx,annelem in enumerate(coords[names==elem]):\n",
    "            d2 = ET.SubElement(b2, \"Region\", Id=str(annidx+1), Type=\"0\", Zoom=\"1\", Selected=\"0\", ImageLocation=\"\", ImageFocus=\"-1\",\n",
    "            Text=\"\", NegativeROA=\"0\", InputRegionId=\"0\", Analyze=\"1\",DisplayId=str(annidx+1))\n",
    "            ET.SubElement(d2,\"Attributes\")\n",
    "            e2 = ET.SubElement(d2,\"Vertices\")\n",
    "            for vertidx,vertelem in enumerate(annelem):\n",
    "                ET.SubElement(e2,\"Vertex\", X=str(vertelem[0]), Y=str(vertelem[1]), Z=\"0\")\n",
    "        b3 = ET.SubElement(m1, \"Plots\")\n",
    "\n",
    "    # xmlstr = minidom.parseString(ET.tostring(root)).toprettyxml(indent=\"   \")\n",
    "\n",
    "    print('combined xml generated in {:.2f} sec'.format(time() - s5))\n",
    "    print(image.image_name,'time elapsed {:.2f} sec'.format(time() - start))\n",
    "\n",
    "    # with open(image.image_name.replace('svs','xml'),'wb') as ff:\n",
    "    #     ff.write(xmlstr.encode('utf-8'))\n",
    "    #\n",
    "    with open(image.image_name.replace('svs','xml'),'wb') as f:\n",
    "        ET.ElementTree(root).write(f)\n",
    "    print(image.image_name.replace('svs','xml'),' file saved')\n",
    "print(len(qp.images),'files processed in {:.2f} sec'.format(time() - s2))"
   ],
   "metadata": {
    "collapsed": false,
    "pycharm": {
     "name": "#%%\n"
    }
   }
  }
 ],
 "metadata": {
  "kernelspec": {
   "name": "python3",
   "language": "python",
   "display_name": "Python 3"
  },
  "language_info": {
   "codemirror_mode": {
    "name": "ipython",
    "version": 2
   },
   "file_extension": ".py",
   "mimetype": "text/x-python",
   "name": "python",
   "nbconvert_exporter": "python",
   "pygments_lexer": "ipython2",
   "version": "2.7.6"
  }
 },
 "nbformat": 4,
 "nbformat_minor": 0
}