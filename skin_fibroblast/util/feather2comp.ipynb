{
 "cells": [
  {
   "cell_type": "code",
   "execution_count": 17,
   "metadata": {
    "collapsed": true,
    "pycharm": {
     "name": "#%%\n"
    }
   },
   "outputs": [],
   "source": [
    "\n",
    "import pandas as pd\n",
    "import numpy as np\n",
    "import cv2\n",
    "import os\n",
    "\n",
    "dlsrc = r'\\\\kukissd\\Kyu_Sync\\Research\\Active\\Aging_organized\\svs\\svs_back_deeplab\\classification_for_DL_skin_v6_control'\n",
    "feather_src = r'\\\\kukissd\\Kyu_Sync\\Research\\Active\\Aging_organized\\svs\\roi_annotation'\n",
    "feathers = [_ for _ in os.listdir(feather_src) if _.endswith('feather')]\n",
    "\n",
    "dfs =[]\n",
    "for idxf,feather in enumerate(feathers):\n",
    "\n",
    "    try:\n",
    "        img = cv2.imread(os.path.join(dlsrc,feather.replace('feather','tif')),cv2.IMREAD_GRAYSCALE)\n",
    "        df = pd.read_feather(os.path.join(feather_src,feather))\n",
    "        df = df[df['classname']=='tissue']\n",
    "        df = df.reset_index(drop=True)\n",
    "    except:\n",
    "        continue\n",
    "    if img is None:\n",
    "        continue\n",
    "    rsf = 4.192313429125\n",
    "\n",
    "\n",
    "    for index, row in df.iterrows():\n",
    "        x = row['x']/rsf\n",
    "        x = x.astype('int')\n",
    "        y = row['y']/rsf\n",
    "        y = y.astype('int')\n",
    "        c = np.column_stack((x,y))\n",
    "\n",
    "        mask = np.zeros_like(img)\n",
    "\n",
    "        try:\n",
    "            cv2.drawContours(mask, [c], -1, 255, -1)\n",
    "        except:\n",
    "            print(idxf)\n",
    "            print(c)\n",
    "\n",
    "        out = np.zeros_like(img)\n",
    "        out[mask == 255] = img[mask == 255]\n",
    "\n",
    "        comp,b1=np.histogram(out,bins=range(1,12))\n",
    "        comp = comp[0:9]\n",
    "        comp = comp/np.sum(comp)\n",
    "        df2 = pd.DataFrame({'imagename':feather,'age':int(feather[2:4]),'gender':feather[1],'sectionid':index,'composition':[comp],'compsum':np.sum(comp)})\n",
    "        dfs.append(df2)\n",
    "\n",
    "dfcomp = pd.concat(dfs)\n",
    "dfcomp = dfcomp.reset_index(drop=True)\n",
    "dfcomp.to_feather('comp.feather')"
   ]
  },
  {
   "cell_type": "code",
   "execution_count": 18,
   "outputs": [
    {
     "data": {
      "text/plain": "              imagename  age gender  sectionid  \\\n0    wf16_b2_01.feather   16      f          0   \n1    wf16_b2_01.feather   16      f          1   \n2    wf16_b2_01.feather   16      f          2   \n3    wf16_b2_01.feather   16      f          3   \n4    wf16_b2_01.feather   16      f          4   \n..                  ...  ...    ...        ...   \n247  wm71_b4_01.feather   71      m          3   \n248  wm84_b4_01.feather   84      m          0   \n249  wm84_b4_01.feather   84      m          1   \n250  wm84_b4_01.feather   84      m          2   \n251  wm84_b4_01.feather   84      m          3   \n\n                                           composition  compsum  \n0    [0.00857751107497916, 0.023671063017380888, 0....      1.0  \n1    [0.013106016579411992, 0.022917304029196017, 0...      1.0  \n2    [0.01009851346389726, 0.0015357238622236307, 0...      1.0  \n3    [0.024021112925813302, 0.027647532601960595, 0...      1.0  \n4    [0.024321810275928658, 0.03334618914846616, 0....      1.0  \n..                                                 ...      ...  \n247  [0.010177486889118348, 0.015761281223230828, 0...      1.0  \n248  [0.02913824907837251, 0.04885251713301508, 0.0...      1.0  \n249  [0.04937448015619761, 0.03623551653150833, 0.0...      1.0  \n250  [0.025591329465092124, 0.05871840573144079, 0....      1.0  \n251  [0.03435031098231086, 0.04037825544456621, 0.0...      1.0  \n\n[252 rows x 6 columns]",
      "text/html": "<div>\n<style scoped>\n    .dataframe tbody tr th:only-of-type {\n        vertical-align: middle;\n    }\n\n    .dataframe tbody tr th {\n        vertical-align: top;\n    }\n\n    .dataframe thead th {\n        text-align: right;\n    }\n</style>\n<table border=\"1\" class=\"dataframe\">\n  <thead>\n    <tr style=\"text-align: right;\">\n      <th></th>\n      <th>imagename</th>\n      <th>age</th>\n      <th>gender</th>\n      <th>sectionid</th>\n      <th>composition</th>\n      <th>compsum</th>\n    </tr>\n  </thead>\n  <tbody>\n    <tr>\n      <th>0</th>\n      <td>wf16_b2_01.feather</td>\n      <td>16</td>\n      <td>f</td>\n      <td>0</td>\n      <td>[0.00857751107497916, 0.023671063017380888, 0....</td>\n      <td>1.0</td>\n    </tr>\n    <tr>\n      <th>1</th>\n      <td>wf16_b2_01.feather</td>\n      <td>16</td>\n      <td>f</td>\n      <td>1</td>\n      <td>[0.013106016579411992, 0.022917304029196017, 0...</td>\n      <td>1.0</td>\n    </tr>\n    <tr>\n      <th>2</th>\n      <td>wf16_b2_01.feather</td>\n      <td>16</td>\n      <td>f</td>\n      <td>2</td>\n      <td>[0.01009851346389726, 0.0015357238622236307, 0...</td>\n      <td>1.0</td>\n    </tr>\n    <tr>\n      <th>3</th>\n      <td>wf16_b2_01.feather</td>\n      <td>16</td>\n      <td>f</td>\n      <td>3</td>\n      <td>[0.024021112925813302, 0.027647532601960595, 0...</td>\n      <td>1.0</td>\n    </tr>\n    <tr>\n      <th>4</th>\n      <td>wf16_b2_01.feather</td>\n      <td>16</td>\n      <td>f</td>\n      <td>4</td>\n      <td>[0.024321810275928658, 0.03334618914846616, 0....</td>\n      <td>1.0</td>\n    </tr>\n    <tr>\n      <th>...</th>\n      <td>...</td>\n      <td>...</td>\n      <td>...</td>\n      <td>...</td>\n      <td>...</td>\n      <td>...</td>\n    </tr>\n    <tr>\n      <th>247</th>\n      <td>wm71_b4_01.feather</td>\n      <td>71</td>\n      <td>m</td>\n      <td>3</td>\n      <td>[0.010177486889118348, 0.015761281223230828, 0...</td>\n      <td>1.0</td>\n    </tr>\n    <tr>\n      <th>248</th>\n      <td>wm84_b4_01.feather</td>\n      <td>84</td>\n      <td>m</td>\n      <td>0</td>\n      <td>[0.02913824907837251, 0.04885251713301508, 0.0...</td>\n      <td>1.0</td>\n    </tr>\n    <tr>\n      <th>249</th>\n      <td>wm84_b4_01.feather</td>\n      <td>84</td>\n      <td>m</td>\n      <td>1</td>\n      <td>[0.04937448015619761, 0.03623551653150833, 0.0...</td>\n      <td>1.0</td>\n    </tr>\n    <tr>\n      <th>250</th>\n      <td>wm84_b4_01.feather</td>\n      <td>84</td>\n      <td>m</td>\n      <td>2</td>\n      <td>[0.025591329465092124, 0.05871840573144079, 0....</td>\n      <td>1.0</td>\n    </tr>\n    <tr>\n      <th>251</th>\n      <td>wm84_b4_01.feather</td>\n      <td>84</td>\n      <td>m</td>\n      <td>3</td>\n      <td>[0.03435031098231086, 0.04037825544456621, 0.0...</td>\n      <td>1.0</td>\n    </tr>\n  </tbody>\n</table>\n<p>252 rows × 6 columns</p>\n</div>"
     },
     "execution_count": 18,
     "metadata": {},
     "output_type": "execute_result"
    }
   ],
   "source": [
    "dfcomp"
   ],
   "metadata": {
    "collapsed": false,
    "pycharm": {
     "name": "#%%\n"
    }
   }
  },
  {
   "cell_type": "code",
   "execution_count": 63,
   "outputs": [
    {
     "data": {
      "text/plain": "array([ 1.9,  3.3,  0.5,  1.7,  0.6,  0.9,  2.9, 85.8,  2.4])"
     },
     "execution_count": 63,
     "metadata": {},
     "output_type": "execute_result"
    }
   ],
   "source": [
    "np.set_printoptions(precision=1,suppress=True)\n",
    "df1 = dfcomp[(0<dfcomp['age']) & (dfcomp['age']<21)]\n",
    "np.mean(df1['composition'])*100\n",
    "# corn = []\n",
    "# for idxf, rowf in df1.iterrows():\n",
    "#     corn.append(rowf['composition'][1])\n",
    "# corn"
   ],
   "metadata": {
    "collapsed": false,
    "pycharm": {
     "name": "#%%\n"
    }
   }
  },
  {
   "cell_type": "code",
   "execution_count": 64,
   "outputs": [
    {
     "data": {
      "text/plain": "array([ 1.9,  2.8,  0.6,  1.6,  0.9,  0.9,  2.9, 84.2,  4.1])"
     },
     "execution_count": 64,
     "metadata": {},
     "output_type": "execute_result"
    }
   ],
   "source": [
    "df1 = dfcomp[(20<dfcomp['age']) & (dfcomp['age']<41)]\n",
    "np.mean(df1['composition'])*100\n",
    "# corn = []\n",
    "# for idxf, rowf in df1.iterrows():\n",
    "#     corn.append(rowf['composition'][1])\n",
    "# corn"
   ],
   "metadata": {
    "collapsed": false,
    "pycharm": {
     "name": "#%%\n"
    }
   }
  },
  {
   "cell_type": "code",
   "execution_count": 65,
   "outputs": [
    {
     "data": {
      "text/plain": "array([ 1.3,  2.4,  0.6,  1.3,  0.9,  1.4,  2.4, 85.1,  4.6])"
     },
     "execution_count": 65,
     "metadata": {},
     "output_type": "execute_result"
    }
   ],
   "source": [
    "df1 = dfcomp[(40<dfcomp['age']) & (dfcomp['age']<61)]\n",
    "np.mean(df1['composition'])*100\n",
    "# corn = []\n",
    "# for idxf, rowf in df1.iterrows():\n",
    "#     corn.append(rowf['composition'][1])\n",
    "# corn"
   ],
   "metadata": {
    "collapsed": false,
    "pycharm": {
     "name": "#%%\n"
    }
   }
  },
  {
   "cell_type": "code",
   "execution_count": 66,
   "outputs": [
    {
     "data": {
      "text/plain": "array([ 1.3,  1.7,  0.5,  1.4,  0.6,  1. ,  2.3, 84.4,  6.8])"
     },
     "execution_count": 66,
     "metadata": {},
     "output_type": "execute_result"
    }
   ],
   "source": [
    "df1 = dfcomp[(60<dfcomp['age']) & (dfcomp['age']<81)]\n",
    "np.mean(df1['composition'])*100\n",
    "# corn = []\n",
    "# for idxf, rowf in df1.iterrows():\n",
    "#     corn.append(rowf['composition'][1])\n",
    "# corn"
   ],
   "metadata": {
    "collapsed": false,
    "pycharm": {
     "name": "#%%\n"
    }
   }
  },
  {
   "cell_type": "code",
   "execution_count": 67,
   "outputs": [
    {
     "data": {
      "text/plain": "array([ 2.5,  2.3,  0.4,  2.5,  1. ,  1.2,  2.6, 79.1,  8.5])"
     },
     "execution_count": 67,
     "metadata": {},
     "output_type": "execute_result"
    }
   ],
   "source": [
    "df1 = dfcomp[(80<dfcomp['age']) & (dfcomp['age']<101)]\n",
    "np.mean(df1['composition'])*100\n",
    "# corn = []\n",
    "# for idxf, rowf in df1.iterrows():\n",
    "#     corn.append(rowf['composition'][1])\n",
    "# corn"
   ],
   "metadata": {
    "collapsed": false,
    "pycharm": {
     "name": "#%%\n"
    }
   }
  },
  {
   "cell_type": "code",
   "execution_count": 49,
   "outputs": [
    {
     "data": {
      "text/plain": "[0.029689042904039134,\n 0.020088714646916465,\n 0.01935655698800831,\n 0.021998453701305327,\n 0.015171677714992116,\n 0.028487924803584582,\n 0.03104127413138127,\n 0.019395828701077072,\n 0.017792528109378588,\n 0.04047732577107436,\n 0.03937542937363721,\n 0.020120907258980924,\n 0.007279652491793635,\n 0.018685961419378797,\n 0.026291543116437707,\n 0.02939973790742641,\n 0.047237493207095485,\n 0.029893349175078705,\n 0.013972349990858965,\n 0.01593867656114805,\n 0.04489838532061172,\n 0.012955345469871466,\n 0.041208713520578616,\n 0.016178963065279016,\n 0.012823695886775918,\n 0.01160189909120774,\n 0.02828238540429124,\n 0.016140540627735338,\n 0.02913824907837251,\n 0.04937448015619761,\n 0.025591329465092124,\n 0.03435031098231086]"
     },
     "execution_count": 49,
     "metadata": {},
     "output_type": "execute_result"
    }
   ],
   "source": [
    "# corn = []\n",
    "# for idxf, rowf in df1.iterrows():\n",
    "#     corn.append(rowf['composition'][1])\n",
    "# corn"
   ],
   "metadata": {
    "collapsed": false,
    "pycharm": {
     "name": "#%%\n"
    }
   }
  }
 ],
 "metadata": {
  "kernelspec": {
   "display_name": "Python 3",
   "language": "python",
   "name": "python3"
  },
  "language_info": {
   "codemirror_mode": {
    "name": "ipython",
    "version": 2
   },
   "file_extension": ".py",
   "mimetype": "text/x-python",
   "name": "python",
   "nbconvert_exporter": "python",
   "pygments_lexer": "ipython2",
   "version": "2.7.6"
  }
 },
 "nbformat": 4,
 "nbformat_minor": 0
}