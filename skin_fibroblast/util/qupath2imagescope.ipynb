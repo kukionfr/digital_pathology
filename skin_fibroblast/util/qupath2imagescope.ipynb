{
 "cells": [
  {
   "cell_type": "markdown",
   "source": [
    "convert qupath annotation to imagescope xml in order to train deeplab model in MATLAB\n",
    "210421 last edit"
   ],
   "metadata": {
    "collapsed": false,
    "pycharm": {
     "name": "#%% md\n"
    }
   }
  },
  {
   "cell_type": "code",
   "execution_count": 1,
   "outputs": [],
   "source": [
    "from paquo.projects import QuPathProject\n",
    "import numpy as np\n",
    "import os\n",
    "import xml.etree.ElementTree as ET\n",
    "from xml.dom import minidom\n",
    "import cv2\n",
    "from matplotlib import pyplot as plt"
   ],
   "metadata": {
    "collapsed": false,
    "pycharm": {
     "name": "#%%\n"
    }
   }
  },
  {
   "cell_type": "code",
   "execution_count": 2,
   "outputs": [
    {
     "ename": "KeyboardInterrupt",
     "evalue": "",
     "output_type": "error",
     "traceback": [
      "\u001B[1;31m---------------------------------------------------------------------------\u001B[0m",
      "\u001B[1;31mKeyboardInterrupt\u001B[0m                         Traceback (most recent call last)",
      "\u001B[1;32m<ipython-input-2-1281574d4c72>\u001B[0m in \u001B[0;36m<module>\u001B[1;34m\u001B[0m\n\u001B[0;32m      9\u001B[0m                 \u001B[0mqp\u001B[0m\u001B[1;33m.\u001B[0m\u001B[0mupdate_image_paths\u001B[0m\u001B[1;33m(\u001B[0m\u001B[0muri2uri\u001B[0m\u001B[1;33m=\u001B[0m\u001B[1;33m{\u001B[0m\u001B[0mimage\u001B[0m\u001B[1;33m.\u001B[0m\u001B[0muri\u001B[0m\u001B[1;33m:\u001B[0m \u001B[0mimage\u001B[0m\u001B[1;33m.\u001B[0m\u001B[0muri\u001B[0m\u001B[1;33m.\u001B[0m\u001B[0mreplace\u001B[0m\u001B[1;33m(\u001B[0m\u001B[1;34m'10.162.80.6'\u001B[0m\u001B[1;33m,\u001B[0m\u001B[1;34m'kukissd'\u001B[0m\u001B[1;33m)\u001B[0m\u001B[1;33m}\u001B[0m\u001B[1;33m)\u001B[0m\u001B[1;33m\u001B[0m\u001B[1;33m\u001B[0m\u001B[0m\n\u001B[0;32m     10\u001B[0m         \u001B[1;32melse\u001B[0m\u001B[1;33m:\u001B[0m\u001B[1;33m\u001B[0m\u001B[1;33m\u001B[0m\u001B[0m\n\u001B[1;32m---> 11\u001B[1;33m             \u001B[1;32mraise\u001B[0m \u001B[0mNameError\u001B[0m\u001B[1;33m(\u001B[0m\u001B[1;34m'server is not accessible'\u001B[0m\u001B[1;33m)\u001B[0m\u001B[1;33m\u001B[0m\u001B[1;33m\u001B[0m\u001B[0m\n\u001B[0m\u001B[0;32m     12\u001B[0m \u001B[1;33m\u001B[0m\u001B[0m\n",
      "\u001B[1;32mc:\\users\\kyuha\\pycharmprojects\\digital_pathology\\digital_pathology\\lib\\site-packages\\paquo\\projects.py\u001B[0m in \u001B[0;36m__exit__\u001B[1;34m(self, exc_type, exc_val, exc_tb)\u001B[0m\n\u001B[0;32m    466\u001B[0m     \u001B[1;32mdef\u001B[0m \u001B[0m__exit__\u001B[0m\u001B[1;33m(\u001B[0m\u001B[0mself\u001B[0m\u001B[1;33m,\u001B[0m \u001B[0mexc_type\u001B[0m\u001B[1;33m,\u001B[0m \u001B[0mexc_val\u001B[0m\u001B[1;33m,\u001B[0m \u001B[0mexc_tb\u001B[0m\u001B[1;33m)\u001B[0m\u001B[1;33m:\u001B[0m\u001B[1;33m\u001B[0m\u001B[1;33m\u001B[0m\u001B[0m\n\u001B[0;32m    467\u001B[0m         \u001B[1;32mif\u001B[0m \u001B[1;32mnot\u001B[0m \u001B[0mself\u001B[0m\u001B[1;33m.\u001B[0m\u001B[0m_readonly\u001B[0m\u001B[1;33m:\u001B[0m\u001B[1;33m\u001B[0m\u001B[1;33m\u001B[0m\u001B[0m\n\u001B[1;32m--> 468\u001B[1;33m             \u001B[0mself\u001B[0m\u001B[1;33m.\u001B[0m\u001B[0msave\u001B[0m\u001B[1;33m(\u001B[0m\u001B[1;33m)\u001B[0m\u001B[1;33m\u001B[0m\u001B[1;33m\u001B[0m\u001B[0m\n\u001B[0m",
      "\u001B[1;32m~\\AppData\\Local\\Programs\\Python\\Python38\\lib\\contextlib.py\u001B[0m in \u001B[0;36minner\u001B[1;34m(*args, **kwds)\u001B[0m\n\u001B[0;32m     73\u001B[0m         \u001B[1;32mdef\u001B[0m \u001B[0minner\u001B[0m\u001B[1;33m(\u001B[0m\u001B[1;33m*\u001B[0m\u001B[0margs\u001B[0m\u001B[1;33m,\u001B[0m \u001B[1;33m**\u001B[0m\u001B[0mkwds\u001B[0m\u001B[1;33m)\u001B[0m\u001B[1;33m:\u001B[0m\u001B[1;33m\u001B[0m\u001B[1;33m\u001B[0m\u001B[0m\n\u001B[0;32m     74\u001B[0m             \u001B[1;32mwith\u001B[0m \u001B[0mself\u001B[0m\u001B[1;33m.\u001B[0m\u001B[0m_recreate_cm\u001B[0m\u001B[1;33m(\u001B[0m\u001B[1;33m)\u001B[0m\u001B[1;33m:\u001B[0m\u001B[1;33m\u001B[0m\u001B[1;33m\u001B[0m\u001B[0m\n\u001B[1;32m---> 75\u001B[1;33m                 \u001B[1;32mreturn\u001B[0m \u001B[0mfunc\u001B[0m\u001B[1;33m(\u001B[0m\u001B[1;33m*\u001B[0m\u001B[0margs\u001B[0m\u001B[1;33m,\u001B[0m \u001B[1;33m**\u001B[0m\u001B[0mkwds\u001B[0m\u001B[1;33m)\u001B[0m\u001B[1;33m\u001B[0m\u001B[1;33m\u001B[0m\u001B[0m\n\u001B[0m\u001B[0;32m     76\u001B[0m         \u001B[1;32mreturn\u001B[0m \u001B[0minner\u001B[0m\u001B[1;33m\u001B[0m\u001B[1;33m\u001B[0m\u001B[0m\n\u001B[0;32m     77\u001B[0m \u001B[1;33m\u001B[0m\u001B[0m\n",
      "\u001B[1;32mc:\\users\\kyuha\\pycharmprojects\\digital_pathology\\digital_pathology\\lib\\site-packages\\paquo\\projects.py\u001B[0m in \u001B[0;36msave\u001B[1;34m(self)\u001B[0m\n\u001B[0;32m    397\u001B[0m             \u001B[1;32mraise\u001B[0m \u001B[0mIOError\u001B[0m\u001B[1;33m(\u001B[0m\u001B[1;34m\"project in readonly mode\"\u001B[0m\u001B[1;33m)\u001B[0m\u001B[1;33m\u001B[0m\u001B[1;33m\u001B[0m\u001B[0m\n\u001B[0;32m    398\u001B[0m         \u001B[1;32mfor\u001B[0m \u001B[0mentry\u001B[0m \u001B[1;32min\u001B[0m \u001B[0mself\u001B[0m\u001B[1;33m.\u001B[0m\u001B[0mimages\u001B[0m\u001B[1;33m:\u001B[0m\u001B[1;33m\u001B[0m\u001B[1;33m\u001B[0m\u001B[0m\n\u001B[1;32m--> 399\u001B[1;33m             \u001B[0mentry\u001B[0m\u001B[1;33m.\u001B[0m\u001B[0msave\u001B[0m\u001B[1;33m(\u001B[0m\u001B[1;33m)\u001B[0m\u001B[1;33m\u001B[0m\u001B[1;33m\u001B[0m\u001B[0m\n\u001B[0m\u001B[0;32m    400\u001B[0m         \u001B[1;32mtry\u001B[0m\u001B[1;33m:\u001B[0m\u001B[1;33m\u001B[0m\u001B[1;33m\u001B[0m\u001B[0m\n\u001B[0;32m    401\u001B[0m             \u001B[0mself\u001B[0m\u001B[1;33m.\u001B[0m\u001B[0mjava_object\u001B[0m\u001B[1;33m.\u001B[0m\u001B[0msyncChanges\u001B[0m\u001B[1;33m(\u001B[0m\u001B[1;33m)\u001B[0m\u001B[1;33m\u001B[0m\u001B[1;33m\u001B[0m\u001B[0m\n",
      "\u001B[1;32mc:\\users\\kyuha\\pycharmprojects\\digital_pathology\\digital_pathology\\lib\\site-packages\\paquo\\images.py\u001B[0m in \u001B[0;36msave\u001B[1;34m(self)\u001B[0m\n\u001B[0;32m    655\u001B[0m                 \u001B[1;32mraise\u001B[0m \u001B[0mIOError\u001B[0m\u001B[1;33m(\u001B[0m\u001B[1;34m\"project in readonly mode\"\u001B[0m\u001B[1;33m)\u001B[0m\u001B[1;33m\u001B[0m\u001B[1;33m\u001B[0m\u001B[0m\n\u001B[0;32m    656\u001B[0m             \u001B[1;32mif\u001B[0m \u001B[0mself\u001B[0m\u001B[1;33m.\u001B[0m\u001B[0mis_readable\u001B[0m\u001B[1;33m(\u001B[0m\u001B[1;33m)\u001B[0m\u001B[1;33m:\u001B[0m\u001B[1;33m\u001B[0m\u001B[1;33m\u001B[0m\u001B[0m\n\u001B[1;32m--> 657\u001B[1;33m                 \u001B[1;32mif\u001B[0m \u001B[0mself\u001B[0m\u001B[1;33m.\u001B[0m\u001B[0mis_changed\u001B[0m\u001B[1;33m(\u001B[0m\u001B[1;33m)\u001B[0m\u001B[1;33m:\u001B[0m\u001B[1;33m\u001B[0m\u001B[1;33m\u001B[0m\u001B[0m\n\u001B[0m\u001B[0;32m    658\u001B[0m                     \u001B[0mself\u001B[0m\u001B[1;33m.\u001B[0m\u001B[0mjava_object\u001B[0m\u001B[1;33m.\u001B[0m\u001B[0msaveImageData\u001B[0m\u001B[1;33m(\u001B[0m\u001B[0mself\u001B[0m\u001B[1;33m.\u001B[0m\u001B[0m_image_data\u001B[0m\u001B[1;33m)\u001B[0m\u001B[1;33m\u001B[0m\u001B[1;33m\u001B[0m\u001B[0m\n\u001B[0;32m    659\u001B[0m                     \u001B[0m_log\u001B[0m\u001B[1;33m.\u001B[0m\u001B[0minfo\u001B[0m\u001B[1;33m(\u001B[0m\u001B[1;34mf\"Changes saved for '{self.image_name}'\"\u001B[0m\u001B[1;33m)\u001B[0m\u001B[1;33m\u001B[0m\u001B[1;33m\u001B[0m\u001B[0m\n",
      "\u001B[1;32mc:\\users\\kyuha\\pycharmprojects\\digital_pathology\\digital_pathology\\lib\\site-packages\\paquo\\images.py\u001B[0m in \u001B[0;36mis_changed\u001B[1;34m(self)\u001B[0m\n\u001B[0;32m    647\u001B[0m \u001B[1;33m\u001B[0m\u001B[0m\n\u001B[0;32m    648\u001B[0m         \"\"\"\n\u001B[1;32m--> 649\u001B[1;33m         \u001B[1;32mreturn\u001B[0m \u001B[0mbool\u001B[0m\u001B[1;33m(\u001B[0m\u001B[0mself\u001B[0m\u001B[1;33m.\u001B[0m\u001B[0m_image_data\u001B[0m\u001B[1;33m.\u001B[0m\u001B[0misChanged\u001B[0m\u001B[1;33m(\u001B[0m\u001B[1;33m)\u001B[0m\u001B[1;33m)\u001B[0m\u001B[1;33m\u001B[0m\u001B[1;33m\u001B[0m\u001B[0m\n\u001B[0m\u001B[0;32m    650\u001B[0m \u001B[1;33m\u001B[0m\u001B[0m\n\u001B[0;32m    651\u001B[0m     \u001B[1;32mdef\u001B[0m \u001B[0msave\u001B[0m\u001B[1;33m(\u001B[0m\u001B[0mself\u001B[0m\u001B[1;33m)\u001B[0m\u001B[1;33m:\u001B[0m\u001B[1;33m\u001B[0m\u001B[1;33m\u001B[0m\u001B[0m\n",
      "\u001B[1;32m~\\AppData\\Local\\Programs\\Python\\Python38\\lib\\functools.py\u001B[0m in \u001B[0;36m__get__\u001B[1;34m(self, instance, owner)\u001B[0m\n\u001B[0;32m    965\u001B[0m                 \u001B[0mval\u001B[0m \u001B[1;33m=\u001B[0m \u001B[0mcache\u001B[0m\u001B[1;33m.\u001B[0m\u001B[0mget\u001B[0m\u001B[1;33m(\u001B[0m\u001B[0mself\u001B[0m\u001B[1;33m.\u001B[0m\u001B[0mattrname\u001B[0m\u001B[1;33m,\u001B[0m \u001B[0m_NOT_FOUND\u001B[0m\u001B[1;33m)\u001B[0m\u001B[1;33m\u001B[0m\u001B[1;33m\u001B[0m\u001B[0m\n\u001B[0;32m    966\u001B[0m                 \u001B[1;32mif\u001B[0m \u001B[0mval\u001B[0m \u001B[1;32mis\u001B[0m \u001B[0m_NOT_FOUND\u001B[0m\u001B[1;33m:\u001B[0m\u001B[1;33m\u001B[0m\u001B[1;33m\u001B[0m\u001B[0m\n\u001B[1;32m--> 967\u001B[1;33m                     \u001B[0mval\u001B[0m \u001B[1;33m=\u001B[0m \u001B[0mself\u001B[0m\u001B[1;33m.\u001B[0m\u001B[0mfunc\u001B[0m\u001B[1;33m(\u001B[0m\u001B[0minstance\u001B[0m\u001B[1;33m)\u001B[0m\u001B[1;33m\u001B[0m\u001B[1;33m\u001B[0m\u001B[0m\n\u001B[0m\u001B[0;32m    968\u001B[0m                     \u001B[1;32mtry\u001B[0m\u001B[1;33m:\u001B[0m\u001B[1;33m\u001B[0m\u001B[1;33m\u001B[0m\u001B[0m\n\u001B[0;32m    969\u001B[0m                         \u001B[0mcache\u001B[0m\u001B[1;33m[\u001B[0m\u001B[0mself\u001B[0m\u001B[1;33m.\u001B[0m\u001B[0mattrname\u001B[0m\u001B[1;33m]\u001B[0m \u001B[1;33m=\u001B[0m \u001B[0mval\u001B[0m\u001B[1;33m\u001B[0m\u001B[1;33m\u001B[0m\u001B[0m\n",
      "\u001B[1;32mc:\\users\\kyuha\\pycharmprojects\\digital_pathology\\digital_pathology\\lib\\site-packages\\paquo\\images.py\u001B[0m in \u001B[0;36m_image_data\u001B[1;34m(self)\u001B[0m\n\u001B[0;32m    396\u001B[0m         \u001B[1;32mwith\u001B[0m \u001B[0mredirect\u001B[0m\u001B[1;33m(\u001B[0m\u001B[0mstdout\u001B[0m\u001B[1;33m=\u001B[0m\u001B[1;32mTrue\u001B[0m\u001B[1;33m,\u001B[0m \u001B[0mstderr\u001B[0m\u001B[1;33m=\u001B[0m\u001B[1;32mTrue\u001B[0m\u001B[1;33m)\u001B[0m\u001B[1;33m:\u001B[0m\u001B[1;33m\u001B[0m\u001B[1;33m\u001B[0m\u001B[0m\n\u001B[0;32m    397\u001B[0m             \u001B[1;32mtry\u001B[0m\u001B[1;33m:\u001B[0m\u001B[1;33m\u001B[0m\u001B[1;33m\u001B[0m\u001B[0m\n\u001B[1;32m--> 398\u001B[1;33m                 \u001B[1;32mreturn\u001B[0m \u001B[0mself\u001B[0m\u001B[1;33m.\u001B[0m\u001B[0mjava_object\u001B[0m\u001B[1;33m.\u001B[0m\u001B[0mreadImageData\u001B[0m\u001B[1;33m(\u001B[0m\u001B[1;33m)\u001B[0m\u001B[1;33m\u001B[0m\u001B[1;33m\u001B[0m\u001B[0m\n\u001B[0m\u001B[0;32m    399\u001B[0m             \u001B[1;31m# from java land\u001B[0m\u001B[1;33m\u001B[0m\u001B[1;33m\u001B[0m\u001B[1;33m\u001B[0m\u001B[0m\n\u001B[0;32m    400\u001B[0m             \u001B[1;32mexcept\u001B[0m \u001B[0mIOException\u001B[0m\u001B[1;33m:\u001B[0m  \u001B[1;31m# pragma: no cover\u001B[0m\u001B[1;33m\u001B[0m\u001B[1;33m\u001B[0m\u001B[0m\n",
      "\u001B[1;31mKeyboardInterrupt\u001B[0m: "
     ]
    }
   ],
   "source": [
    "qppath = r\"\\\\motherserverdw\\Kyu_Sync\\Research\\Active\\Aging_organized\\svs\\svs_back\\qupath_v2\\project.qpproj\"\n",
    "with QuPathProject(qppath, mode='r+') as qp:\n",
    "    if not os.path.exists(qp.images[0].uri[7:]):\n",
    "        if os.path.exists(r\"\\\\motherserverdw\\Kyu_Sync\"):\n",
    "            for image in qp.images:\n",
    "                qp.update_image_paths(uri2uri={image.uri: image.uri.replace('kukissd','10.162.80.6')})\n",
    "        elif os.path.exists(r\"\\\\kukissd\\Kyu_Sync\"):\n",
    "            for image in qp.images:\n",
    "                qp.update_image_paths(uri2uri={image.uri: image.uri.replace('10.162.80.6','kukissd')})\n",
    "        else:\n",
    "            raise NameError('server is not accessible')"
   ],
   "metadata": {
    "collapsed": false,
    "pycharm": {
     "name": "#%%\n"
    }
   }
  },
  {
   "cell_type": "code",
   "execution_count": 3,
   "outputs": [
    {
     "name": "stdout",
     "output_type": "stream",
     "text": [
      "wf16_b2_01.svs\n"
     ]
    },
    {
     "name": "stderr",
     "output_type": "stream",
     "text": [
      "<ipython-input-3-b309e324b184>:24: VisibleDeprecationWarning: Creating an ndarray from ragged nested sequences (which is a list-or-tuple of lists-or-tuples-or ndarrays with different lengths or shapes) is deprecated. If you meant to do this, you must specify 'dtype=object' when creating the ndarray\n",
      "  coords=np.array(coords)\n"
     ]
    }
   ],
   "source": [
    "for image in qp.images:\n",
    "    print(image.image_name)\n",
    "    coords = []\n",
    "    #read annotation\n",
    "    annotations = image.hierarchy.annotations\n",
    "    for annotation in annotations:\n",
    "        if not annotation.path_class is None:\n",
    "            poly = annotation.roi\n",
    "            if poly.type=='MultiPolygon':\n",
    "                # coords.append(np.concatenate(tuple([np.array(x.exterior.coords) for x in poly.geoms])).astype(np.int32))\n",
    "                while poly.type=='MultiPolygon':\n",
    "                    poly = poly.buffer(0.0001)\n",
    "                coords.append(np.array(poly.exterior.coords).astype(np.int32))\n",
    "            if poly.type=='Polygon':\n",
    "                coords.append(np.array(poly.exterior.coords).astype(np.int32))\n",
    "            if poly.type=='LineString':\n",
    "                coords.append(np.array(poly.coords).astype(np.int32))\n",
    "    coords=np.array(coords)\n",
    "    names =np.array(names)\n",
    "    root = ET.Element(\"Annotations\", MicronsPerPixel=\"0.230500\")\n",
    "    classes = [_.name for _ in qp.path_classes][1:]\n",
    "    for idx,elem in enumerate(classes):\n",
    "        #basic setup\n",
    "        m1 = ET.Element(\"Annotation\", Id=str(idx+1), Name=\"\", ReadOnly=\"0\",\n",
    "                        NameReadOnly=\"0\", LineColorReadOnly=\"0\",\n",
    "                        Incremental=\"0\", Type=\"4\", LineColor=\"16711935\",\n",
    "                        Visible=\"1\", Selected=\"0\", MarkupImagePath=\"\", MacroName=\"\")\n",
    "        root.append(m1)\n",
    "        b1 = ET.SubElement(m1, \"Attributes\")\n",
    "        c1 = ET.SubElement(b1, \"Attribute\", Name=elem, Id=\"0\", Value=\"\")\n",
    "        b2 = ET.SubElement(m1, \"Regions\")\n",
    "        c2 = ET.SubElement(b2, \"RegionAttributeHeaders\")\n",
    "        ET.SubElement(c2, \"AttributeHeader\", Id=\"9999\", Name=\"Region\", ColumnWidth=\"-1\")\n",
    "        ET.SubElement(c2, \"AttributeHeader\", Id=\"9997\", Name=\"Length\", ColumnWidth=\"-1\")\n",
    "        ET.SubElement(c2, \"AttributeHeader\", Id=\"9996\", Name=\"Area\", ColumnWidth=\"-1\")\n",
    "        ET.SubElement(c2, \"AttributeHeader\", Id=\"9998\", Name=\"Text\", ColumnWidth=\"-1\")\n",
    "        ET.SubElement(c2, \"AttributeHeader\", Id=\"1\", Name=\"Description\", ColumnWidth=\"-1\")\n",
    "        # individual annotation circle\n",
    "        for annidx,annelem in enumerate(coords[names==elem]):\n",
    "            d2 = ET.SubElement(b2, \"Region\", Id=str(annidx+1), Type=\"0\", Zoom=\"1\", Selected=\"0\", ImageLocation=\"\", ImageFocus=\"-1\",\n",
    "            Text=\"\", NegativeROA=\"0\", InputRegionId=\"0\", Analyze=\"1\",DisplayId=str(annidx+1))\n",
    "            ET.SubElement(d2,\"Attributes\")\n",
    "            e2 = ET.SubElement(d2,\"Vertices\")\n",
    "            for vertidx,vertelem in enumerate(annelem):\n",
    "                ET.SubElement(e2,\"Vertex\", X=str(vertelem[0]), Y=str(vertelem[1]), Z=\"0\")\n",
    "        b3 = ET.SubElement(m1, \"Plots\")\n",
    "        xmlstr = minidom.parseString(ET.tostring(root)).toprettyxml(indent=\"   \")\n",
    "    with open(image.image_name.replace('svs','xml'),'wb') as ff:\n",
    "        ff.write(xmlstr.encode('utf-8'))"
   ],
   "metadata": {
    "collapsed": false,
    "pycharm": {
     "name": "#%%\n"
    }
   }
  },
  {
   "cell_type": "code",
   "execution_count": 33,
   "outputs": [],
   "source": [
    "# xmin,ymin = np.min(coords[0],axis=0)\n",
    "# coords[0][:,0]=coords[0][:,0]-xmin\n",
    "# coords[0][:,1]=coords[0][:,1]-ymin\n",
    "# im = np.zeros(np.max(coords[0],axis=0),dtype=np.int8)\n",
    "# cv2.fillPoly(im, [coords[0]], 1)\n",
    "# im.astype(bool)\n",
    "# plt.imshow(im)\n"
   ],
   "metadata": {
    "collapsed": false,
    "pycharm": {
     "name": "#%%\n"
    }
   }
  }
 ],
 "metadata": {
  "kernelspec": {
   "name": "python3",
   "language": "python",
   "display_name": "Python 3"
  },
  "language_info": {
   "codemirror_mode": {
    "name": "ipython",
    "version": 2
   },
   "file_extension": ".py",
   "mimetype": "text/x-python",
   "name": "python",
   "nbconvert_exporter": "python",
   "pygments_lexer": "ipython2",
   "version": "2.7.6"
  }
 },
 "nbformat": 4,
 "nbformat_minor": 0
}