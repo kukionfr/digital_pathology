{
 "cells": [
  {
   "cell_type": "code",
   "execution_count": 2,
   "outputs": [],
   "source": [
    "import xml.etree.ElementTree as ET\n",
    "from time import time\n",
    "import numpy as np\n",
    "from scipy import io\n",
    "import os\n",
    "import pandas as pd"
   ],
   "metadata": {
    "collapsed": false,
    "pycharm": {
     "name": "#%%\n"
    }
   }
  },
  {
   "cell_type": "code",
   "execution_count": 3,
   "metadata": {
    "collapsed": true,
    "pycharm": {
     "name": "#%%\n"
    }
   },
   "outputs": [
    {
     "name": "stdout",
     "output_type": "stream",
     "text": [
      "wf16_b2_01.xml\n",
      "wf21_b4_01.xml\n",
      "wf24_b5_01.xml\n",
      "wf25_b4_01.xml\n",
      "wf26_b5_01.xml\n",
      "wf27_b5_01.xml\n",
      "wf28_b4_01.xml\n",
      "wf29_b3_01.xml\n",
      "wf29_b4_01.xml\n",
      "wf30_b3_01.xml\n",
      "wf33_b3_01.xml\n",
      "wf35_b3_01.xml\n",
      "wf36_b3_01.xml\n",
      "['Description', 'Description']\n",
      "wf37_b3_01.xml\n",
      "wf38_b3_01.xml\n",
      "wf38_b3_02.xml\n",
      "wf38_b3_03.xml\n",
      "wf40_b3_01.xml\n",
      "wf40_b3_02.xml\n",
      "wf41_b4_01.xml\n",
      "wf42_b4_01.xml\n",
      "wf45_b4_01.xml\n",
      "wf45_b5_01.xml\n",
      "wf46_b5_01.xml\n",
      "wf51_b4_01.xml\n",
      "wf53_b5_01.xml\n",
      "wf54_b4_01.xml\n",
      "wf56_b5_01.xml\n",
      "wf59_b5_01.xml\n",
      "wf61_b4_01.xml\n",
      "wf63_b4_01.xml\n",
      "wf64_b3_01.xml\n",
      "wf64_b4_01.xml\n",
      "wf65_b4_01.xml\n",
      "wf69_b3_01.xml\n",
      "wf73_b3_01.xml\n",
      "wf74_b3_01.xml\n",
      "wf82_b3_01.xml\n",
      "wf85_b3_01.xml\n",
      "wf86_b3_02.xml\n",
      "['non-collagen', 'collagen', 'tissue', 'epidermis', 'Description']\n",
      "wf87_b3_01.xml\n",
      "wf87_b3_03.xml\n",
      "wf92_b3_01.xml\n",
      "wm14_b2_01.xml\n",
      "wm14_b2_02.xml\n",
      "wm17_b2_01.xml\n",
      "wm20_b2_02.xml\n",
      "wm21_b2_01.xml\n",
      "wm25_b4_01.xml\n",
      "wm27_b4_01.xml\n",
      "wm27_b4_02.xml\n",
      "wm28_b4_01.xml\n",
      "wm30_b4_01.xml\n",
      "wm31_b4_01.xml\n",
      "wm36_b4_01.xml\n",
      "wm36_b5_01.xml\n",
      "['corneum', 'basale', 'hairroot', 'hairfollicle', 'smoothmuscle', 'oil', 'sweat', 'nerve', 'bloodvessel', 'collagen', 'fat', 'white', 'noisebio', 'noisephy']\n",
      "wm38_b4_01.xml\n",
      "wm39_b4_01.xml\n",
      "wm41_b4_01.xml\n",
      "wm41_b4_02.xml\n",
      "wm45_b4_01.xml\n",
      "wm48_b4_01.xml\n",
      "wm49_b4_01.xml\n",
      "wm52_b4_01.xml\n",
      "wm53_b4_01.xml\n",
      "wm55_b4_01.xml\n",
      "wm55_b4_02.xml\n",
      "wm57_b4_01.xml\n",
      "wm60_b4_01.xml\n",
      "wm60_b4_02.xml\n",
      "wm60_b4_03.xml\n",
      "wm63_b4_01.xml\n",
      "wm66_b4_01.xml\n",
      "wm70_b4_01.xml\n",
      "wm70_b4_02.xml\n",
      "wm71_b4_01.xml\n",
      "wm84_b4_01.xml\n"
     ]
    },
    {
     "data": {
      "text/plain": "[None,\n None,\n None,\n None,\n None,\n None,\n None,\n None,\n None,\n None,\n None,\n None,\n None,\n None,\n None,\n None,\n None,\n None,\n None,\n None,\n None,\n None,\n None,\n None,\n None,\n None,\n None,\n None,\n None,\n None,\n None,\n None,\n None,\n None,\n None,\n None,\n None,\n None,\n None,\n None,\n None,\n None,\n None,\n None,\n None,\n None,\n None,\n None,\n None,\n None,\n None,\n None,\n None,\n None,\n None,\n None,\n None,\n None,\n None,\n None,\n None,\n None,\n None,\n None,\n None,\n None,\n None,\n None,\n None,\n None,\n None,\n None,\n None,\n None,\n None,\n None,\n None]"
     },
     "execution_count": 3,
     "metadata": {},
     "output_type": "execute_result"
    }
   ],
   "source": [
    "def readxml(xml_path):\n",
    "    print(os.path.basename(xml_path))\n",
    "    tree = ET.parse(xml_path)\n",
    "    root = tree.getroot()\n",
    "\n",
    "    classlut = []\n",
    "    for Annotation in root.iter('Annotation'):\n",
    "        for Attrib in Annotation.iter('Attribute'):\n",
    "            classlut.append(Attrib.attrib.get('Name'))\n",
    "    # print(classlut)\n",
    "    # print(len(classlut),xml_path)\n",
    "    if not (classlut==['collagen', 'non-collagen', 'tissue', 'epidermis'] or classlut==['collagen', 'tissue', 'epidermis'] or classlut==['non-collagen', 'collagen', 'tissue', 'epidermis']):\n",
    "        print(classlut)\n",
    "\n",
    "    return\n",
    "\n",
    "src =  r'\\\\10.162.80.6\\Kyu_Sync\\Research\\Active\\Aging_organized\\svs\\svs_back'\n",
    "[readxml(os.path.join(src,xml_path)) for xml_path in os.listdir(src) if xml_path.endswith('xml') ]"
   ]
  }
 ],
 "metadata": {
  "kernelspec": {
   "display_name": "Python 3",
   "language": "python",
   "name": "python3"
  },
  "language_info": {
   "codemirror_mode": {
    "name": "ipython",
    "version": 2
   },
   "file_extension": ".py",
   "mimetype": "text/x-python",
   "name": "python",
   "nbconvert_exporter": "python",
   "pygments_lexer": "ipython2",
   "version": "2.7.6"
  }
 },
 "nbformat": 4,
 "nbformat_minor": 0
}