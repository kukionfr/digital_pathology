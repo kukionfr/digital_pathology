{
 "cells": [
  {
   "cell_type": "code",
   "execution_count": null,
   "outputs": [],
   "source": [
    "import xml.etree.ElementTree as ET\n",
    "from time import time\n",
    "import numpy as np\n",
    "from scipy import io\n",
    "import os\n",
    "import pandas as pd"
   ],
   "metadata": {
    "collapsed": false,
    "pycharm": {
     "name": "#%%\n"
    }
   }
  },
  {
   "cell_type": "code",
   "execution_count": null,
   "metadata": {
    "collapsed": true,
    "pycharm": {
     "name": "#%%\n"
    }
   },
   "outputs": [],
   "source": [
    "\n",
    "\n",
    "\n",
    "def readxml(xml_path):\n",
    "    start = time()\n",
    "    print(os.path.basename(xml_path))\n",
    "    tree = ET.parse(xml_path)\n",
    "    root = tree.getroot()\n",
    "    x = np.array([])\n",
    "    y = np.array([])\n",
    "    obj = np.array([])\n",
    "    classID = np.array([])\n",
    "    classname = np.array([])\n",
    "\n",
    "    classlut = []\n",
    "    for Annotation in root.iter('Annotation'):\n",
    "        for Attrib in Annotation.iter('Attribute'):\n",
    "            classlut.append(Attrib.attrib.get('Name'))\n",
    "\n",
    "    if not (classlut==['non-collagen', 'collagen', 'tissue', 'epidermis'] or classlut==['collagen', 'tissue', 'epidermis'] or classlut==['collagen', 'non-collagen', 'tissue', 'epidermis']):\n",
    "        print (classlut)\n",
    "        print('check name')\n",
    "        return\n",
    "\n",
    "\n",
    "    for idx, Annotation in enumerate(root.iter('Annotation')):\n",
    "        for Region in Annotation.iter('Region'):\n",
    "            xx = np.array([float(Vertex.get('X')) for Vertex in Region.iter('Vertex')])\n",
    "            yy = np.array([float(Vertex.get('Y')) for Vertex in Region.iter('Vertex')])\n",
    "            objj = np.array([float(Region.get('Id'))] * len(xx))\n",
    "            classIDD = np.array([float(Annotation.get('Id'))] * len(xx))\n",
    "            classnamee = np.array([classlut[idx]] * len(xx))\n",
    "\n",
    "            x = np.concatenate((x, xx), axis=None)\n",
    "            y = np.concatenate((y, yy), axis=None)\n",
    "            obj = np.concatenate((obj, objj), axis=None)\n",
    "            classID = np.concatenate((classID, classIDD), axis=None)\n",
    "            classname = np.concatenate((classname, classnamee), axis=None)\n",
    "\n",
    "    # print('number of coordinates in annotation : ',len(x))\n",
    "    x = x.astype(int)\n",
    "    y = y.astype(int)\n",
    "    obj = obj.astype(int)\n",
    "    classID = classID.astype(int)\n",
    "    mdict = {'x': x, 'y': y, 'objID': obj, 'classID': classID, 'className': classname}\n",
    "    print('readxml took {:.2f} sec'.format(time() - start))\n",
    "    io.savemat(xml_path.replace('xml','mat'),mdict=mdict)\n",
    "    return pd.DataFrame(mdict)\n",
    "\n",
    "src =  r'\\\\10.162.80.6\\Kyu_Sync\\Research\\Active\\Aging_organized\\svs\\svs_back'\n",
    "[readxml(os.path.join(src,xml_path)) for xml_path in os.listdir(src) if xml_path.endswith('xml') ]"
   ]
  }
 ],
 "metadata": {
  "kernelspec": {
   "display_name": "Python 3",
   "language": "python",
   "name": "python3"
  },
  "language_info": {
   "codemirror_mode": {
    "name": "ipython",
    "version": 2
   },
   "file_extension": ".py",
   "mimetype": "text/x-python",
   "name": "python",
   "nbconvert_exporter": "python",
   "pygments_lexer": "ipython2",
   "version": "2.7.6"
  }
 },
 "nbformat": 4,
 "nbformat_minor": 0
}