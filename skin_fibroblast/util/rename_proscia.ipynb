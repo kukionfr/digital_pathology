{
 "cells": [
  {
   "cell_type": "code",
   "execution_count": 16,
   "metadata": {
    "collapsed": true
   },
   "outputs": [
    {
     "data": {
      "text/plain": "     Redcap ID  Image ID                           image name          rename  \\\n0            1       NaN      20x_Wirtz_Denis_OTS-19_4910_20x  wf82_b1_01.svs   \n1            1       NaN  20x_Wirtz_Denis_OTS-19_4910_20x-001  wf82_b1_02.svs   \n2            1       NaN  20x_Wirtz_Denis_OTS-19_4910_20x-002  wf82_b1_03.svs   \n3            1       NaN  20x_Wirtz_Denis_OTS-19_4910_20x-003  wf82_b1_04.svs   \n4            2       NaN              Wirtz.Denis_OTS-19_5021  bf14_b2_01.svs   \n..         ...       ...                                  ...             ...   \n199        330       NaN                   OTS-20-7327_13.svs  wf65_b4_01.svs   \n200        331       NaN                                  NaN             NaN   \n201        332       NaN                                  NaN             NaN   \n202        334       NaN                   OTS-20-7327_19.svs  bf56_b4_01.svs   \n203        335       NaN                   OTS-20-7327_35.svs  bm77_b4_01.svs   \n\n     Age Group   Age  Gender Ethnicity   Body Part Sample Behavior Type  ...  \\\n0            5  81.8  Female     White     Abdomen               Benign  ...   \n1            5  81.8  Female     White     Abdomen                  NaN  ...   \n2            5  81.8  Female     White     Abdomen                  NaN  ...   \n3            5  81.8  Female     White     Abdomen                  NaN  ...   \n4            1  13.6  Female    Black   Head/Face                Benign  ...   \n..         ...   ...     ...       ...         ...                  ...  ...   \n199          4  64.7  Female     White        Back               Benign  ...   \n200          3  43.1  Female     White           .               Benign  ...   \n201          2  32.7    Male     Black    Buttocks               Benign  ...   \n202          3  56.0  Female     Black        Back               Benign  ...   \n203          4  77.2    Male     Black        Back               Benign  ...   \n\n    Date of specimen collection Date of scanning Collagen Quality  \\\n0                    2018-04-08       2019-08-08              NaN   \n1                    2018-04-08       2019-08-08              NaN   \n2                    2018-04-08       2019-08-08              NaN   \n3                    2018-04-08       2019-08-08              NaN   \n4                    2017-12-30       2019-10-16              NaN   \n..                          ...              ...              ...   \n199                  2018-01-19       2020-09-23                5   \n200                  2018-02-12              NaT              NaN   \n201                  2018-11-04              NaT              NaN   \n202                  2019-10-12       2020-09-23                3   \n203                  2018-06-19       2020-09-23                4   \n\n    Degree of damage Binary Annotated  Annotator  14 Class Annotated  \\\n0                NaN              NaN        NaN                 NaN   \n1                NaN              NaN        NaN                 NaN   \n2                NaN              NaN        NaN                 NaN   \n3                NaN              NaN        NaN                 NaN   \n4                NaN              NaN        NaN                 NaN   \n..               ...              ...        ...                 ...   \n199              NaN              NaN        NaN                 NaN   \n200              NaN              NaN        NaN                 NaN   \n201              NaN              NaN        NaN                 NaN   \n202              NaN              NaN        NaN                 NaN   \n203              NaN              NaN        NaN                 NaN   \n\n    Annotator.1  Fibroblast detection Analyzer  \n0           NaN                   NaN      NaN  \n1           NaN                   NaN      NaN  \n2           NaN                   NaN      NaN  \n3           NaN                   NaN      NaN  \n4           NaN                   NaN      NaN  \n..          ...                   ...      ...  \n199         NaN                   NaN      NaN  \n200         NaN                   NaN      NaN  \n201         NaN                   NaN      NaN  \n202         NaN                   NaN      NaN  \n203         NaN                   NaN      NaN  \n\n[204 rows x 22 columns]",
      "text/html": "<div>\n<style scoped>\n    .dataframe tbody tr th:only-of-type {\n        vertical-align: middle;\n    }\n\n    .dataframe tbody tr th {\n        vertical-align: top;\n    }\n\n    .dataframe thead th {\n        text-align: right;\n    }\n</style>\n<table border=\"1\" class=\"dataframe\">\n  <thead>\n    <tr style=\"text-align: right;\">\n      <th></th>\n      <th>Redcap ID</th>\n      <th>Image ID</th>\n      <th>image name</th>\n      <th>rename</th>\n      <th>Age Group</th>\n      <th>Age</th>\n      <th>Gender</th>\n      <th>Ethnicity</th>\n      <th>Body Part</th>\n      <th>Sample Behavior Type</th>\n      <th>...</th>\n      <th>Date of specimen collection</th>\n      <th>Date of scanning</th>\n      <th>Collagen Quality</th>\n      <th>Degree of damage</th>\n      <th>Binary Annotated</th>\n      <th>Annotator</th>\n      <th>14 Class Annotated</th>\n      <th>Annotator.1</th>\n      <th>Fibroblast detection</th>\n      <th>Analyzer</th>\n    </tr>\n  </thead>\n  <tbody>\n    <tr>\n      <th>0</th>\n      <td>1</td>\n      <td>NaN</td>\n      <td>20x_Wirtz_Denis_OTS-19_4910_20x</td>\n      <td>wf82_b1_01.svs</td>\n      <td>5</td>\n      <td>81.8</td>\n      <td>Female</td>\n      <td>White</td>\n      <td>Abdomen</td>\n      <td>Benign</td>\n      <td>...</td>\n      <td>2018-04-08</td>\n      <td>2019-08-08</td>\n      <td>NaN</td>\n      <td>NaN</td>\n      <td>NaN</td>\n      <td>NaN</td>\n      <td>NaN</td>\n      <td>NaN</td>\n      <td>NaN</td>\n      <td>NaN</td>\n    </tr>\n    <tr>\n      <th>1</th>\n      <td>1</td>\n      <td>NaN</td>\n      <td>20x_Wirtz_Denis_OTS-19_4910_20x-001</td>\n      <td>wf82_b1_02.svs</td>\n      <td>5</td>\n      <td>81.8</td>\n      <td>Female</td>\n      <td>White</td>\n      <td>Abdomen</td>\n      <td>NaN</td>\n      <td>...</td>\n      <td>2018-04-08</td>\n      <td>2019-08-08</td>\n      <td>NaN</td>\n      <td>NaN</td>\n      <td>NaN</td>\n      <td>NaN</td>\n      <td>NaN</td>\n      <td>NaN</td>\n      <td>NaN</td>\n      <td>NaN</td>\n    </tr>\n    <tr>\n      <th>2</th>\n      <td>1</td>\n      <td>NaN</td>\n      <td>20x_Wirtz_Denis_OTS-19_4910_20x-002</td>\n      <td>wf82_b1_03.svs</td>\n      <td>5</td>\n      <td>81.8</td>\n      <td>Female</td>\n      <td>White</td>\n      <td>Abdomen</td>\n      <td>NaN</td>\n      <td>...</td>\n      <td>2018-04-08</td>\n      <td>2019-08-08</td>\n      <td>NaN</td>\n      <td>NaN</td>\n      <td>NaN</td>\n      <td>NaN</td>\n      <td>NaN</td>\n      <td>NaN</td>\n      <td>NaN</td>\n      <td>NaN</td>\n    </tr>\n    <tr>\n      <th>3</th>\n      <td>1</td>\n      <td>NaN</td>\n      <td>20x_Wirtz_Denis_OTS-19_4910_20x-003</td>\n      <td>wf82_b1_04.svs</td>\n      <td>5</td>\n      <td>81.8</td>\n      <td>Female</td>\n      <td>White</td>\n      <td>Abdomen</td>\n      <td>NaN</td>\n      <td>...</td>\n      <td>2018-04-08</td>\n      <td>2019-08-08</td>\n      <td>NaN</td>\n      <td>NaN</td>\n      <td>NaN</td>\n      <td>NaN</td>\n      <td>NaN</td>\n      <td>NaN</td>\n      <td>NaN</td>\n      <td>NaN</td>\n    </tr>\n    <tr>\n      <th>4</th>\n      <td>2</td>\n      <td>NaN</td>\n      <td>Wirtz.Denis_OTS-19_5021</td>\n      <td>bf14_b2_01.svs</td>\n      <td>1</td>\n      <td>13.6</td>\n      <td>Female</td>\n      <td>Black</td>\n      <td>Head/Face</td>\n      <td>Benign</td>\n      <td>...</td>\n      <td>2017-12-30</td>\n      <td>2019-10-16</td>\n      <td>NaN</td>\n      <td>NaN</td>\n      <td>NaN</td>\n      <td>NaN</td>\n      <td>NaN</td>\n      <td>NaN</td>\n      <td>NaN</td>\n      <td>NaN</td>\n    </tr>\n    <tr>\n      <th>...</th>\n      <td>...</td>\n      <td>...</td>\n      <td>...</td>\n      <td>...</td>\n      <td>...</td>\n      <td>...</td>\n      <td>...</td>\n      <td>...</td>\n      <td>...</td>\n      <td>...</td>\n      <td>...</td>\n      <td>...</td>\n      <td>...</td>\n      <td>...</td>\n      <td>...</td>\n      <td>...</td>\n      <td>...</td>\n      <td>...</td>\n      <td>...</td>\n      <td>...</td>\n      <td>...</td>\n    </tr>\n    <tr>\n      <th>199</th>\n      <td>330</td>\n      <td>NaN</td>\n      <td>OTS-20-7327_13.svs</td>\n      <td>wf65_b4_01.svs</td>\n      <td>4</td>\n      <td>64.7</td>\n      <td>Female</td>\n      <td>White</td>\n      <td>Back</td>\n      <td>Benign</td>\n      <td>...</td>\n      <td>2018-01-19</td>\n      <td>2020-09-23</td>\n      <td>5</td>\n      <td>NaN</td>\n      <td>NaN</td>\n      <td>NaN</td>\n      <td>NaN</td>\n      <td>NaN</td>\n      <td>NaN</td>\n      <td>NaN</td>\n    </tr>\n    <tr>\n      <th>200</th>\n      <td>331</td>\n      <td>NaN</td>\n      <td>NaN</td>\n      <td>NaN</td>\n      <td>3</td>\n      <td>43.1</td>\n      <td>Female</td>\n      <td>White</td>\n      <td>.</td>\n      <td>Benign</td>\n      <td>...</td>\n      <td>2018-02-12</td>\n      <td>NaT</td>\n      <td>NaN</td>\n      <td>NaN</td>\n      <td>NaN</td>\n      <td>NaN</td>\n      <td>NaN</td>\n      <td>NaN</td>\n      <td>NaN</td>\n      <td>NaN</td>\n    </tr>\n    <tr>\n      <th>201</th>\n      <td>332</td>\n      <td>NaN</td>\n      <td>NaN</td>\n      <td>NaN</td>\n      <td>2</td>\n      <td>32.7</td>\n      <td>Male</td>\n      <td>Black</td>\n      <td>Buttocks</td>\n      <td>Benign</td>\n      <td>...</td>\n      <td>2018-11-04</td>\n      <td>NaT</td>\n      <td>NaN</td>\n      <td>NaN</td>\n      <td>NaN</td>\n      <td>NaN</td>\n      <td>NaN</td>\n      <td>NaN</td>\n      <td>NaN</td>\n      <td>NaN</td>\n    </tr>\n    <tr>\n      <th>202</th>\n      <td>334</td>\n      <td>NaN</td>\n      <td>OTS-20-7327_19.svs</td>\n      <td>bf56_b4_01.svs</td>\n      <td>3</td>\n      <td>56.0</td>\n      <td>Female</td>\n      <td>Black</td>\n      <td>Back</td>\n      <td>Benign</td>\n      <td>...</td>\n      <td>2019-10-12</td>\n      <td>2020-09-23</td>\n      <td>3</td>\n      <td>NaN</td>\n      <td>NaN</td>\n      <td>NaN</td>\n      <td>NaN</td>\n      <td>NaN</td>\n      <td>NaN</td>\n      <td>NaN</td>\n    </tr>\n    <tr>\n      <th>203</th>\n      <td>335</td>\n      <td>NaN</td>\n      <td>OTS-20-7327_35.svs</td>\n      <td>bm77_b4_01.svs</td>\n      <td>4</td>\n      <td>77.2</td>\n      <td>Male</td>\n      <td>Black</td>\n      <td>Back</td>\n      <td>Benign</td>\n      <td>...</td>\n      <td>2018-06-19</td>\n      <td>2020-09-23</td>\n      <td>4</td>\n      <td>NaN</td>\n      <td>NaN</td>\n      <td>NaN</td>\n      <td>NaN</td>\n      <td>NaN</td>\n      <td>NaN</td>\n      <td>NaN</td>\n    </tr>\n  </tbody>\n</table>\n<p>204 rows × 22 columns</p>\n</div>"
     },
     "execution_count": 16,
     "metadata": {},
     "output_type": "execute_result"
    }
   ],
   "source": [
    "import os\n",
    "import pandas as pd\n",
    "\n",
    "datasheet = r'\\\\kukissd\\Kyu_Sync\\Research\\Active\\Aging_organized\\report\\Aging Slide registration sheet_210209.xlsx'\n",
    "datasheet = pd.read_excel(datasheet,'Slides in posession')\n",
    "datasheet"
   ]
  },
  {
   "cell_type": "code",
   "execution_count": 18,
   "outputs": [
    {
     "data": {
      "text/plain": "['2021-03-31 00.27.49',\n 'wf24_b5_01',\n 'wf27_b5_01',\n 'wf45_b5_01',\n 'wf46_b5_01',\n 'wf53_b5_01',\n 'wf56_b5_01',\n 'wf59_b5_01',\n 'wf61_b5_01',\n 'wf61_b5_02',\n 'wf62_b5_01',\n 'wf62_b5_02',\n 'wf63_b5_01',\n 'wf64_b5_01',\n 'wf64_b5_02',\n 'wf64_b5_03',\n 'wm34_b5_01',\n 'wm34_b5_02',\n 'wm36_b5_01',\n 'wm36_b5_02',\n 'wm48_b5_01',\n 'wm48_b5_02',\n 'wm57_b5_01',\n 'wm58_b5_01',\n 'wm58_b5_02',\n 'wm60_b5_01',\n 'wm67_b5_01',\n 'wm69_b5_01',\n 'wm70_b5_01',\n 'wm72_b5_01',\n 'wm73_b5_01',\n 'wm82_b5_01',\n 'wm82_b5_02',\n 'wm82_b5_03',\n 'wm82_b5_04',\n 'wm82_b5_05',\n 'wm82_b5_06',\n 'wm83_b5_01',\n 'wm83_b5_02',\n 'wm83_b5_03',\n 'wm83_b5_04',\n 'wm83_b5_05',\n 'wm84_b5_01',\n 'wm84_b5_02',\n 'wm85_b5_01',\n 'wm87_b5_01',\n 'wm90_b5_01']"
     },
     "execution_count": 18,
     "metadata": {},
     "output_type": "execute_result"
    }
   ],
   "source": [
    "imsrc = r'\\\\kukissd\\Kyu_Sync\\Research\\Active\\Aging_organized\\svs\\newbatch\\Wirtz.Denis_OTS-21-9007 Hamamatsu NanoZoomer S360 v 2.0.2'\n",
    "inputformat = '.ndpi'\n",
    "ims = [_.replace(inputformat,'') for _ in os.listdir(imsrc) if _.endswith(inputformat)]\n",
    "ims"
   ],
   "metadata": {
    "collapsed": false,
    "pycharm": {
     "name": "#%%\n"
    }
   }
  },
  {
   "cell_type": "code",
   "execution_count": 19,
   "outputs": [
    {
     "name": "stdout",
     "output_type": "stream",
     "text": [
      "wf24_b5_01 []\n",
      "wf27_b5_01 []\n",
      "wf45_b5_01 []\n",
      "wf46_b5_01 []\n",
      "wf53_b5_01 []\n",
      "wf56_b5_01 []\n",
      "wf59_b5_01 []\n",
      "wf61_b5_01 []\n",
      "wf61_b5_02 []\n",
      "wf62_b5_01 []\n",
      "wf62_b5_02 []\n",
      "wf63_b5_01 []\n",
      "wf64_b5_01 []\n",
      "wf64_b5_02 []\n",
      "wf64_b5_03 []\n",
      "wm34_b5_01 []\n",
      "wm34_b5_02 []\n",
      "wm36_b5_01 []\n",
      "wm36_b5_02 []\n",
      "wm48_b5_01 []\n",
      "wm48_b5_02 []\n",
      "wm57_b5_01 []\n",
      "wm58_b5_01 []\n",
      "wm58_b5_02 []\n",
      "wm60_b5_01 []\n",
      "wm67_b5_01 []\n",
      "wm69_b5_01 []\n",
      "wm70_b5_01 []\n",
      "wm72_b5_01 []\n",
      "wm73_b5_01 []\n",
      "wm82_b5_01 []\n",
      "wm82_b5_02 []\n",
      "wm82_b5_03 []\n",
      "wm82_b5_04 []\n",
      "wm82_b5_05 []\n",
      "wm82_b5_06 []\n",
      "wm83_b5_01 []\n",
      "wm83_b5_02 []\n",
      "wm83_b5_03 []\n",
      "wm83_b5_04 []\n",
      "wm83_b5_05 []\n",
      "wm84_b5_01 []\n",
      "wm84_b5_02 []\n",
      "wm85_b5_01 []\n",
      "wm87_b5_01 []\n",
      "wm90_b5_01 []\n"
     ]
    }
   ],
   "source": [
    "for oldname in ims:\n",
    "    if oldname.startswith('2021'):\n",
    "        oldname = oldname\n",
    "\n",
    "    newname = datasheet[datasheet['image name']==oldname]['rename'].values\n",
    "    if len(newname)>0:\n",
    "        newname = newname[0] + '.ndpi'\n",
    "        oldname = oldname+'.ndpi'\n",
    "\n",
    "        src = os.path.join(imsrc,oldname)\n",
    "        dst = os.path.join(imsrc,newname)\n",
    "        # print(newname)\n",
    "        os.rename(src, dst)\n",
    "    else:\n",
    "        print(oldname,newname)"
   ],
   "metadata": {
    "collapsed": false,
    "pycharm": {
     "name": "#%%\n"
    }
   }
  }
 ],
 "metadata": {
  "kernelspec": {
   "display_name": "Python 3",
   "language": "python",
   "name": "python3"
  },
  "language_info": {
   "codemirror_mode": {
    "name": "ipython",
    "version": 2
   },
   "file_extension": ".py",
   "mimetype": "text/x-python",
   "name": "python",
   "nbconvert_exporter": "python",
   "pygments_lexer": "ipython2",
   "version": "2.7.6"
  }
 },
 "nbformat": 4,
 "nbformat_minor": 0
}