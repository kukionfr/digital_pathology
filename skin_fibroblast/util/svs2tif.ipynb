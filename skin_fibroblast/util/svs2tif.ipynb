{
 "cells": [
  {
   "cell_type": "code",
   "execution_count": 1,
   "outputs": [],
   "source": [
    "from openslide import OpenSlide\n",
    "from PIL import Image\n",
    "import numpy as np\n",
    "\n",
    "import os\n",
    "from time import time\n",
    "# from joblib import Parallel, delayed\n",
    "# import cv2"
   ],
   "metadata": {
    "collapsed": false,
    "pycharm": {
     "name": "#%%\n"
    }
   }
  },
  {
   "cell_type": "code",
   "execution_count": 2,
   "outputs": [],
   "source": [
    "svs_src = r'\\\\motherserverdw\\Kyu_Sync\\Research\\Active\\Aging_organized\\svs\\svs_back'\n",
    "svss = [os.path.join(svs_src,_) for _ in os.listdir(svs_src) if _.endswith(('ndpi','svs')) ]\n",
    "# svss = [os.path.join(svs_src,_) for _ in os.listdir(svs_src) if _.endswith('ndpi') ]\n",
    "svs_dst = r'\\\\motherserverdw\\Kyu_Sync\\Research\\Active\\Aging_organized\\svs\\svs_back_2um'"
   ],
   "metadata": {
    "collapsed": false,
    "pycharm": {
     "name": "#%%\n"
    }
   }
  },
  {
   "cell_type": "code",
   "execution_count": 3,
   "outputs": [],
   "source": [
    "def svs2tiff(svs):\n",
    "    src,fn = os.path.split(svs)\n",
    "    fn,ext = os.path.splitext(fn)\n",
    "    fn1 = fn + '.tif'\n",
    "    # fn2 = fn + '.jp2'\n",
    "    if os.path.exists(os.path.join(svs_dst,fn1)): return\n",
    "    print(fn)\n",
    "    svs_obj = OpenSlide(svs)\n",
    "\n",
    "    svs_img = svs_obj.read_region(location=(0,0),level=0,size=svs_obj.level_dimensions[0]).convert('RGB')\n",
    "\n",
    "    resize_factorx = 2/float(svs_obj.properties['openslide.mpp-x']) #2um=5x, 1um=10x, 0.5um=20x, 0.25um=40x\n",
    "    resize_factory = 2/float(svs_obj.properties['openslide.mpp-y'])\n",
    "    resize_dimension = tuple([int(np.ceil(svs_obj.dimensions[0]/resize_factorx)),int(np.ceil(svs_obj.dimensions[1]/resize_factory))])\n",
    "\n",
    "    svs_img = svs_img.resize(resize_dimension,resample=Image.NEAREST)\n",
    "    svs_img.save(os.path.join(svs_dst,fn1),resolution=1,resolution_unit=1,quality=100,compression=None)\n",
    "    # svs_img2 = np.array(svs_img)\n",
    "    # retval = cv2.imwrite(os.path.join(svs_dst,fn2),svs_img2,[cv2.IMWRITE_JPEG2000_COMPRESSION_X1000,800])\n"
   ],
   "metadata": {
    "collapsed": false,
    "pycharm": {
     "name": "#%%\n"
    }
   }
  },
  {
   "cell_type": "code",
   "execution_count": 4,
   "outputs": [],
   "source": [
    "svss2=svss[40:80]"
   ],
   "metadata": {
    "collapsed": false,
    "pycharm": {
     "name": "#%%\n"
    }
   }
  },
  {
   "cell_type": "code",
   "execution_count": null,
   "outputs": [
    {
     "name": "stdout",
     "output_type": "stream",
     "text": [
      "wm34_b5_01\n"
     ]
    }
   ],
   "source": [
    "st = time()\n",
    "# Parallel(n_jobs=5, prefer=\"threads\")(delayed(svs2tiff)(svs) for svs in svss)\n",
    "for svs in svss2:\n",
    "    try:\n",
    "        svs2tiff(svs)\n",
    "    except:\n",
    "        print(svs)\n",
    "        continue\n"
   ],
   "metadata": {
    "collapsed": false,
    "pycharm": {
     "name": "#%%\n",
     "is_executing": true
    }
   }
  },
  {
   "cell_type": "code",
   "execution_count": null,
   "outputs": [],
   "source": [
    "print(\"{:.2f} sec elapsed for {:d} images at 10x\".format(time()-st,len(svss)))"
   ],
   "metadata": {
    "collapsed": false,
    "pycharm": {
     "name": "#%%\n",
     "is_executing": true
    }
   }
  }
 ],
 "metadata": {
  "kernelspec": {
   "display_name": "Python 3",
   "language": "python",
   "name": "python3"
  },
  "language_info": {
   "codemirror_mode": {
    "name": "ipython",
    "version": 2
   },
   "file_extension": ".py",
   "mimetype": "text/x-python",
   "name": "python",
   "nbconvert_exporter": "python",
   "pygments_lexer": "ipython2",
   "version": "2.7.6"
  }
 },
 "nbformat": 4,
 "nbformat_minor": 0
}