{
 "cells": [
  {
   "cell_type": "code",
   "execution_count": 1,
   "metadata": {
    "collapsed": true
   },
   "outputs": [],
   "source": [
    "from openslide import OpenSlide\n",
    "from PIL import Image\n",
    "import numpy as np\n",
    "import os\n",
    "from time import time\n",
    "from joblib import Parallel, delayed"
   ]
  },
  {
   "cell_type": "code",
   "execution_count": 2,
   "outputs": [],
   "source": [
    "svs_src = r'\\\\kukissd\\Kyu_Sync\\Research\\Active\\Aging_organized\\svs\\newbatch\\Wirtz.Denis_OTS-21-9007 Hamamatsu NanoZoomer S360 v 2.0.2'\n",
    "svss = [os.path.join(svs_src,_) for _ in os.listdir(svs_src) if _.endswith('ndpi')]\n",
    "svs_dst = r'\\\\kukissd\\Kyu_Sync\\Research\\Active\\Aging_organized\\svs\\svs_back_1um'"
   ],
   "metadata": {
    "collapsed": false,
    "pycharm": {
     "name": "#%%\n"
    }
   }
  },
  {
   "cell_type": "code",
   "execution_count": 3,
   "outputs": [],
   "source": [
    "def svs2tiff(svs):\n",
    "    src,fn = os.path.split(svs)\n",
    "    fn,ext = os.path.splitext(fn)\n",
    "    fn = fn + '.tif'\n",
    "    print(fn)\n",
    "    if os.path.exists(os.path.join(svs_dst,fn)): return\n",
    "    svs_obj = OpenSlide(svs)\n",
    "    svs_img = svs_obj.read_region(location=(0,0),level=0,size=svs_obj.dimensions).convert('RGB')\n",
    "    resize_factorx = 1/float(svs_obj.properties['openslide.mpp-x']) #2um=5x, 1um=10x, 0.5um=20x, 0.25um=40x\n",
    "    resize_factory = 1/float(svs_obj.properties['openslide.mpp-y'])\n",
    "    resize_dimension = tuple([int(np.ceil(svs_obj.dimensions[0]/resize_factorx)),int(np.ceil(svs_obj.dimensions[1]/resize_factory))])\n",
    "    svs_img = svs_img.resize(resize_dimension,resample=Image.NEAREST)\n",
    "    svs_img.save(os.path.join(svs_dst,fn),resolution=1,resolution_unit=1,quality=100,compression=None)\n"
   ],
   "metadata": {
    "collapsed": false,
    "pycharm": {
     "name": "#%%\n"
    }
   }
  },
  {
   "cell_type": "code",
   "execution_count": null,
   "outputs": [
    {
     "name": "stdout",
     "output_type": "stream",
     "text": [
      "wf24_b5_01.tif\n",
      "wf26_b5_01.tif\n",
      "wf27_b5_01.tif\n",
      "wf45_b5_01.tif\n",
      "wf46_b5_01.tif\n",
      "wf53_b5_01.tif\n",
      "wf56_b5_01.tif\n",
      "wf59_b5_01.tif\n",
      "wf61_b5_01.tif\n",
      "wf61_b5_02.tif\n",
      "wf62_b5_01.tif\n"
     ]
    }
   ],
   "source": [
    "st = time()\n",
    "# Parallel(n_jobs=5, prefer=\"threads\")(delayed(svs2tiff)(svs) for svs in svss)\n",
    "[svs2tiff(svs) for svs in svss]\n",
    "print(\"{:.2f} sec elapsed for {:d} images at 10x\".format(time()-st),len(svss))"
   ],
   "metadata": {
    "collapsed": false,
    "pycharm": {
     "name": "#%%\n",
     "is_executing": true
    }
   }
  }
 ],
 "metadata": {
  "kernelspec": {
   "display_name": "Python 3",
   "language": "python",
   "name": "python3"
  },
  "language_info": {
   "codemirror_mode": {
    "name": "ipython",
    "version": 2
   },
   "file_extension": ".py",
   "mimetype": "text/x-python",
   "name": "python",
   "nbconvert_exporter": "python",
   "pygments_lexer": "ipython2",
   "version": "2.7.6"
  }
 },
 "nbformat": 4,
 "nbformat_minor": 0
}