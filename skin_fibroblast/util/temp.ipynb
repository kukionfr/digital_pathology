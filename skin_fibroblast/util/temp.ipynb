{
 "cells": [
  {
   "cell_type": "markdown",
   "source": [
    "Use this command in terminal to output paquo config file\n",
    "\n",
    "python -m paquo config -l -o C:\\Users\\kyuha\\PycharmProjects\\digital_pathology\n"
   ],
   "metadata": {
    "collapsed": false
   }
  },
  {
   "cell_type": "code",
   "execution_count": null,
   "outputs": [],
   "source": [
    "from paquo.projects import QuPathProject\n",
    "from paquo.classes import QuPathPathClass\n",
    "from paquo.images import QuPathImageType\n",
    "from shapely.geometry import Polygon"
   ],
   "metadata": {
    "collapsed": false,
    "pycharm": {
     "name": "#%%\n"
    }
   }
  },
  {
   "cell_type": "code",
   "execution_count": null,
   "outputs": [],
   "source": [
    "qp = QuPathProject(r\"\\\\motherserverdw\\Kyu_Sync\\Research\\Active\\Aging_organized\\svs\\svs_back\\qupath_v2\\project.qpproj\", mode='r')\n",
    "qp"
   ],
   "metadata": {
    "collapsed": false,
    "pycharm": {
     "name": "#%%\n"
    }
   }
  },
  {
   "cell_type": "code",
   "execution_count": null,
   "outputs": [],
   "source": [
    "qp.name"
   ],
   "metadata": {
    "collapsed": false,
    "pycharm": {
     "name": "#%%\n"
    }
   }
  },
  {
   "cell_type": "code",
   "execution_count": null,
   "outputs": [],
   "source": [
    "qp.images"
   ],
   "metadata": {
    "collapsed": false,
    "pycharm": {
     "name": "#%%\n"
    }
   }
  },
  {
   "cell_type": "code",
   "execution_count": null,
   "outputs": [],
   "source": [
    "qp.is_readable()"
   ],
   "metadata": {
    "collapsed": false,
    "pycharm": {
     "name": "#%%\n"
    }
   }
  },
  {
   "cell_type": "code",
   "execution_count": null,
   "outputs": [],
   "source": [
    "import pandas as pd\n",
    "pd.DataFrame(a)"
   ],
   "metadata": {
    "collapsed": false,
    "pycharm": {
     "name": "#%%\n"
    }
   }
  },
  {
   "cell_type": "code",
   "execution_count": null,
   "outputs": [],
   "source": [
    "# update url if unreadable\n",
    "with QuPathProject('./my_qupath_project', mode='r+') as qp:\n",
    "    qp.update_image_paths(uri2uri={\"file:/somewhere_else/image_1.svs\": \"file:/share/image_1.svs\"})\n",
    "    assert all(qp.is_readable().values())"
   ],
   "metadata": {
    "collapsed": false,
    "pycharm": {
     "name": "#%%\n"
    }
   }
  },
  {
   "cell_type": "code",
   "execution_count": null,
   "outputs": [],
   "source": [
    "# annotaiton classes\n",
    "qp.path_classes"
   ],
   "metadata": {
    "collapsed": false,
    "pycharm": {
     "name": "#%%\n"
    }
   }
  },
  {
   "cell_type": "code",
   "execution_count": null,
   "outputs": [],
   "source": [
    "image = qp.images[10]  # get the first image\n",
    "image"
   ],
   "metadata": {
    "collapsed": false,
    "pycharm": {
     "name": "#%%\n"
    }
   }
  },
  {
   "cell_type": "code",
   "execution_count": null,
   "outputs": [],
   "source": [
    "image.hierarchy.annotations"
   ],
   "metadata": {
    "collapsed": false,
    "pycharm": {
     "name": "#%%\n"
    }
   }
  },
  {
   "cell_type": "code",
   "execution_count": null,
   "outputs": [],
   "source": [
    "#read annotation\n",
    "for annotation in image.hierarchy.annotations:\n",
    "    print(annotation.name, annotation.path_class, annotation.path_class.name, annotation.roi)"
   ],
   "metadata": {
    "collapsed": false,
    "pycharm": {
     "name": "#%%\n"
    }
   }
  },
  {
   "cell_type": "code",
   "execution_count": null,
   "outputs": [],
   "source": [
    "ANNOTATIONS = {\n",
    "    'Annotation 1': Point(500, 500),\n",
    "    'Annotation 2': Polygon.from_bounds(510, 400, 610, 600),\n",
    "    'Some Other Name': LineString([[400, 400], [450, 450], [400, 425]])\n",
    "}"
   ],
   "metadata": {
    "collapsed": false,
    "pycharm": {
     "name": "#%%\n"
    }
   }
  },
  {
   "cell_type": "code",
   "execution_count": null,
   "outputs": [],
   "source": [
    "#add annotation using mode x\n",
    "qp = QuPathProject(r\"\\\\motherserverdw\\Kyu_Sync\\Research\\Active\\Aging_organized\\svs\\svs_back\\qupath_v2\\project.qpproj\", mode='a')\n",
    "#add image to project\n",
    "# entry = qp.add_image(EXAMPLE_IMAGE, image_type=QuPathImageType.BRIGHTFIELD_H_E)\n",
    "entry = qp.images[10]\n",
    "entry"
   ],
   "metadata": {
    "collapsed": false,
    "pycharm": {
     "name": "#%%\n"
    }
   }
  },
  {
   "cell_type": "code",
   "execution_count": null,
   "outputs": [],
   "source": [
    "a=Polygon.from_bounds(510, 400, 610, 600)"
   ],
   "metadata": {
    "collapsed": false,
    "pycharm": {
     "name": "#%%\n"
    }
   }
  },
  {
   "cell_type": "code",
   "execution_count": null,
   "outputs": [],
   "source": [
    "b=Polygon([[27407, 17945], [27407, 18969], [28431, 18969], [28431, 17945], [27407, 17945]])"
   ],
   "metadata": {
    "collapsed": false,
    "pycharm": {
     "name": "#%%\n"
    }
   }
  },
  {
   "cell_type": "code",
   "execution_count": null,
   "outputs": [],
   "source": [
    "list(b.exterior.coords) #list of coordinates in polygon"
   ],
   "metadata": {
    "collapsed": false,
    "pycharm": {
     "name": "#%%\n"
    }
   }
  },
  {
   "cell_type": "code",
   "execution_count": null,
   "outputs": [],
   "source": [
    "#define annotation to add\n",
    "ANNOTATIONS = {\n",
    "    'Annotation 1': Polygon ([[27407, 17945], [27407, 18969], [28431, 18969], [28431, 17945], [27407, 17945]]),\n",
    "    'Annotation 2': Polygon.from_bounds(510, 400, 610, 600), #square box\n",
    "    'Some Other Name': Polygon.from_bounds(510, 400, 610, 600)\n",
    "}"
   ],
   "metadata": {
    "collapsed": false,
    "pycharm": {
     "name": "#%%\n"
    }
   }
  },
  {
   "cell_type": "code",
   "execution_count": null,
   "outputs": [],
   "source": [
    "MY_CLASSES_AND_COLORS = [\n",
    "    (\"My Class 1\", \"#ff0000\"),\n",
    "    (\"Some Other Class\", \"#0000ff\"),\n",
    "    (\"Nothing*\", \"#00ff00\"),\n",
    "]"
   ],
   "metadata": {
    "collapsed": false,
    "pycharm": {
     "name": "#%%\n"
    }
   }
  },
  {
   "cell_type": "code",
   "execution_count": null,
   "outputs": [],
   "source": [
    "new_classes = []\n",
    "for class_name, class_color in MY_CLASSES_AND_COLORS:\n",
    "    new_classes.append(\n",
    "        QuPathPathClass(name=class_name, color=class_color)\n",
    "    )"
   ],
   "metadata": {
    "collapsed": false,
    "pycharm": {
     "name": "#%%\n"
    }
   }
  },
  {
   "cell_type": "code",
   "execution_count": null,
   "outputs": [],
   "source": [
    "for name, roi in ANNOTATIONS.items():\n",
    "    # add the annotations without a class set\n",
    "    annotation = entry.hierarchy.add_annotation(roi=roi,path_class=qp.path_classes[1])\n",
    "    annotation.name = None"
   ],
   "metadata": {
    "collapsed": false,
    "pycharm": {
     "name": "#%%\n"
    }
   }
  },
  {
   "cell_type": "code",
   "execution_count": null,
   "outputs": [],
   "source": [
    "#read annotation\n",
    "image=qp.images[0]\n",
    "for annotation in image.hierarchy.annotations:\n",
    "    print(annotation.name, annotation.path_class, annotation.path_class.name, annotation.roi)"
   ],
   "metadata": {
    "collapsed": false,
    "pycharm": {
     "name": "#%%\n"
    }
   }
  },
  {
   "cell_type": "code",
   "execution_count": null,
   "outputs": [],
   "source": [
    "for annotation in entry.hierarchy.annotations:\n",
    "    print(annotation.name, annotation.path_class, annotation.roi)\n",
    "    # print(annotation.name, annotation.path_class, annotation.path_class.name, annotation.roi)"
   ],
   "metadata": {
    "collapsed": false,
    "pycharm": {
     "name": "#%%\n"
    }
   }
  },
  {
   "cell_type": "code",
   "execution_count": null,
   "outputs": [],
   "source": [
    "entry"
   ],
   "metadata": {
    "collapsed": false,
    "pycharm": {
     "name": "#%%\n"
    }
   }
  }
 ],
 "metadata": {
  "kernelspec": {
   "display_name": "Python 3",
   "language": "python",
   "name": "python3"
  },
  "language_info": {
   "codemirror_mode": {
    "name": "ipython",
    "version": 2
   },
   "file_extension": ".py",
   "mimetype": "text/x-python",
   "name": "python",
   "nbconvert_exporter": "python",
   "pygments_lexer": "ipython2",
   "version": "2.7.6"
  }
 },
 "nbformat": 4,
 "nbformat_minor": 0
}