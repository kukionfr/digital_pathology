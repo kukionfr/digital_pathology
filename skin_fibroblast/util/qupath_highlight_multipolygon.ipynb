{
 "cells": [
  {
   "cell_type": "markdown",
   "source": [
    "convert multipolygon to none class"
   ],
   "metadata": {
    "collapsed": false,
    "pycharm": {
     "name": "#%% md\n"
    }
   }
  },
  {
   "cell_type": "code",
   "execution_count": 1,
   "metadata": {
    "collapsed": true
   },
   "outputs": [],
   "source": [
    "from paquo.projects import QuPathProject\n",
    "from paquo.classes import QuPathPathClass\n",
    "import numpy as np\n",
    "import os\n",
    "import xml.etree.ElementTree as ET\n",
    "from xml.dom import minidom\n",
    "import cv2\n",
    "from matplotlib import pyplot as plt"
   ]
  },
  {
   "cell_type": "code",
   "execution_count": 26,
   "outputs": [],
   "source": [
    "# load qupath project\n",
    "\n",
    "if os.path.exists(r\"\\\\motherserverdw\\Kyu_Sync\"):\n",
    "    qppath = r\"\\\\motherserverdw\\Kyu_Sync\\Research\\Active\\Aging_organized\\svs\\svs_back\\qupath_v2\\project.qpproj\"\n",
    "    qp = QuPathProject(qppath, mode='r')\n",
    "    if not os.path.exists(qp.images[0].uri[7:]):\n",
    "        with QuPathProject(qppath, mode='r+') as qp:\n",
    "             for image in qp.images:\n",
    "                qp.update_image_paths(uri2uri={image.uri: image.uri.replace('kukissd','10.162.80.6')})\n",
    "elif os.path.exists(r\"\\\\kukissd\\Kyu_Sync\"):\n",
    "    qppath = r\"\\\\kukissd\\Kyu_Sync\\Research\\Active\\Aging_organized\\svs\\svs_back\\qupath_v2\\project.qpproj\"\n",
    "    qp = QuPathProject(qppath, mode='r')\n",
    "    if not os.path.exists(qp.images[0].uri[7:]):\n",
    "        with QuPathProject(qppath, mode='r+') as qp:\n",
    "             for image in qp.images:\n",
    "                qp.update_image_paths(uri2uri={image.uri: image.uri.replace('10.162.80.6','kukissd')})\n",
    "else:\n",
    "    raise NameError('server is not accessible')\n",
    "\n",
    "classes = qp.path_classes"
   ],
   "metadata": {
    "collapsed": false,
    "pycharm": {
     "name": "#%%\n"
    }
   }
  },
  {
   "cell_type": "code",
   "execution_count": 7,
   "outputs": [
    {
     "data": {
      "text/plain": "{'Polygon'}"
     },
     "execution_count": 7,
     "metadata": {},
     "output_type": "execute_result"
    }
   ],
   "source": [
    "types=[]\n",
    "with QuPathProject(qppath, mode='r+') as qp:\n",
    "    image = qp.images[0]\n",
    "    annotations = image.hierarchy.annotations\n",
    "    for annotation in annotations:\n",
    "        if not annotation.path_class is None:\n",
    "            poly = annotation.roi\n",
    "            types.append(poly.type)\n",
    "set(types)"
   ],
   "metadata": {
    "collapsed": false,
    "pycharm": {
     "name": "#%%\n"
    }
   }
  },
  {
   "cell_type": "code",
   "execution_count": 7,
   "outputs": [
    {
     "name": "stdout",
     "output_type": "stream",
     "text": [
      "multipolygon QuPathPathClass('spinosum')\n",
      "multipolygon QuPathPathClass('inner corneum')\n",
      "multipolygon QuPathPathClass('white')\n",
      "multipolygon QuPathPathClass('outer corneum')\n",
      "multipolygon QuPathPathClass('basale')\n",
      "multipolygon QuPathPathClass('granulosum')\n",
      "multipolygon QuPathPathClass('collagen')\n",
      "multipolygon QuPathPathClass('basale')\n",
      "multipolygon QuPathPathClass('granulosum')\n",
      "multipolygon QuPathPathClass('outer corneum')\n",
      "multipolygon QuPathPathClass('basale')\n",
      "multipolygon QuPathPathClass('granulosum')\n",
      "multipolygon QuPathPathClass('basale')\n",
      "multipolygon QuPathPathClass('collagen')\n",
      "multipolygon QuPathPathClass('spinosum')\n",
      "multipolygon QuPathPathClass('basale')\n",
      "multipolygon QuPathPathClass('collagen')\n",
      "multipolygon QuPathPathClass('outer corneum')\n",
      "multipolygon QuPathPathClass('spinosum')\n",
      "multipolygon QuPathPathClass('basale')\n",
      "multipolygon QuPathPathClass('white')\n",
      "multipolygon QuPathPathClass('collagen')\n",
      "multipolygon QuPathPathClass('spinosum')\n",
      "multipolygon QuPathPathClass('inner corneum')\n",
      "multipolygon QuPathPathClass('white')\n",
      "multipolygon QuPathPathClass('inner corneum')\n"
     ]
    }
   ],
   "source": [
    "# label multipolygon with name \"multi\"\n",
    "with QuPathProject(qppath, mode='r+') as qp:\n",
    "    image = qp.images[0]\n",
    "    annotations = image.hierarchy.annotations\n",
    "    for annotation in annotations:\n",
    "        if not annotation.path_class is None:\n",
    "            poly = annotation.roi\n",
    "            if poly.type=='MultiPolygon':\n",
    "                print('multipolygon',annotation.path_class)\n",
    "                annotation.name = 'multi'"
   ],
   "metadata": {
    "collapsed": false,
    "pycharm": {
     "name": "#%%\n"
    }
   }
  },
  {
   "cell_type": "code",
   "execution_count": 40,
   "outputs": [
    {
     "name": "stdout",
     "output_type": "stream",
     "text": [
      "multipolygon QuPathPathClass('spinosum')\n",
      "multipolygon QuPathPathClass('inner corneum')\n",
      "multipolygon QuPathPathClass('white')\n",
      "multipolygon QuPathPathClass('outer corneum')\n",
      "multipolygon QuPathPathClass('basale')\n",
      "multipolygon QuPathPathClass('granulosum')\n",
      "multipolygon QuPathPathClass('collagen')\n",
      "multipolygon QuPathPathClass('basale')\n",
      "multipolygon QuPathPathClass('granulosum')\n",
      "multipolygon QuPathPathClass('outer corneum')\n",
      "multipolygon QuPathPathClass('basale')\n",
      "multipolygon QuPathPathClass('granulosum')\n",
      "multipolygon QuPathPathClass('basale')\n",
      "multipolygon QuPathPathClass('collagen')\n",
      "multipolygon QuPathPathClass('spinosum')\n",
      "multipolygon QuPathPathClass('basale')\n",
      "multipolygon QuPathPathClass('collagen')\n",
      "multipolygon QuPathPathClass('outer corneum')\n",
      "multipolygon QuPathPathClass('spinosum')\n",
      "multipolygon QuPathPathClass('basale')\n",
      "multipolygon QuPathPathClass('white')\n",
      "multipolygon QuPathPathClass('collagen')\n",
      "multipolygon QuPathPathClass('spinosum')\n",
      "multipolygon QuPathPathClass('inner corneum')\n",
      "multipolygon QuPathPathClass('white')\n",
      "multipolygon QuPathPathClass('inner corneum')\n"
     ]
    }
   ],
   "source": [
    "# label multipolygon with class \"none\"\n",
    "with QuPathProject(qppath, mode='r+') as qp:\n",
    "    image = qp.images[0]\n",
    "    annotations = image.hierarchy.annotations\n",
    "\n",
    "    _updated = []\n",
    "    for annotation in annotations:\n",
    "        if not annotation.path_class is None:\n",
    "            poly = annotation.roi\n",
    "            if poly.type=='MultiPolygon':\n",
    "                print('multipolygon',annotation.path_class)\n",
    "                annotation.update_path_class(classes[0])\n",
    "                _updated.append(annotation)\n",
    "    image.hierarchy.annotations.update(_updated)\n",
    "    assert image.is_changed()"
   ],
   "metadata": {
    "collapsed": false,
    "pycharm": {
     "name": "#%%\n"
    }
   }
  },
  {
   "cell_type": "code",
   "execution_count": 5,
   "outputs": [
    {
     "name": "stdout",
     "output_type": "stream",
     "text": [
      "multipolygon QuPathPathClass('spinosum')\n",
      "multipolygon QuPathPathClass('inner corneum')\n",
      "multipolygon QuPathPathClass('white')\n",
      "multipolygon QuPathPathClass('outer corneum')\n",
      "multipolygon QuPathPathClass('basale')\n",
      "multipolygon QuPathPathClass('granulosum')\n",
      "multipolygon QuPathPathClass('collagen')\n",
      "multipolygon QuPathPathClass('basale')\n",
      "multipolygon QuPathPathClass('granulosum')\n",
      "multipolygon QuPathPathClass('outer corneum')\n",
      "multipolygon QuPathPathClass('basale')\n",
      "multipolygon QuPathPathClass('granulosum')\n",
      "multipolygon QuPathPathClass('collagen')\n",
      "multipolygon QuPathPathClass('spinosum')\n",
      "multipolygon QuPathPathClass('basale')\n",
      "multipolygon QuPathPathClass('collagen')\n",
      "multipolygon QuPathPathClass('outer corneum')\n",
      "multipolygon QuPathPathClass('spinosum')\n",
      "multipolygon QuPathPathClass('basale')\n",
      "multipolygon QuPathPathClass('spinosum')\n",
      "multipolygon QuPathPathClass('inner corneum')\n",
      "multipolygon QuPathPathClass('white')\n",
      "multipolygon QuPathPathClass('inner corneum')\n",
      "multipolygon QuPathPathClass('basale')\n",
      "updating project\n"
     ]
    },
    {
     "data": {
      "text/plain": "{'Polygon'}"
     },
     "execution_count": 5,
     "metadata": {},
     "output_type": "execute_result"
    }
   ],
   "source": [
    "# expand multipolygon slightly to make it polygon and update annotation\n",
    "types=[]\n",
    "with QuPathProject(qppath, mode='r+') as qp:\n",
    "    image = qp.images[0]\n",
    "    annotations = image.hierarchy.annotations\n",
    "    _updated = []\n",
    "    for annotation in annotations:\n",
    "        if not annotation.path_class is None:\n",
    "            poly = annotation.roi\n",
    "            if poly.type=='MultiPolygon':\n",
    "                print('multipolygon',annotation.path_class)\n",
    "                while poly.type=='MultiPolygon':\n",
    "                    poly = poly.buffer(1)\n",
    "                    poly = poly.buffer(-1)\n",
    "                types.append(poly.type)\n",
    "                annotation.update_roi(poly)\n",
    "                _updated.append(annotation)\n",
    "    print('updating project')\n",
    "    annotations.update(_updated)\n",
    "    assert image.is_changed()\n",
    "\n",
    "set(types)"
   ],
   "metadata": {
    "collapsed": false,
    "pycharm": {
     "name": "#%%\n"
    }
   }
  },
  {
   "cell_type": "code",
   "execution_count": 27,
   "outputs": [],
   "source": [
    "image = qp.images[-1]\n",
    "annotations = image.hierarchy.annotations\n",
    "polies =[]\n",
    "for annotation in annotations:\n",
    "    poly = annotation.roi\n",
    "    polies.append(poly)"
   ],
   "metadata": {
    "collapsed": false,
    "pycharm": {
     "name": "#%%\n"
    }
   }
  },
  {
   "cell_type": "code",
   "execution_count": 32,
   "outputs": [
    {
     "name": "stdout",
     "output_type": "stream",
     "text": [
      "Polygon\n"
     ]
    },
    {
     "data": {
      "text/plain": "<shapely.geometry.polygon.LinearRing at 0x2f3c2860df0>",
      "image/svg+xml": "<svg xmlns=\"http://www.w3.org/2000/svg\" xmlns:xlink=\"http://www.w3.org/1999/xlink\" width=\"138.2400000000016\" height=\"136.2400000000016\" viewBox=\"16183.88 10976.88 138.2400000000016 136.2400000000016\" preserveAspectRatio=\"xMinYMin meet\"><g transform=\"matrix(1,0,0,-1,0,22090.0)\"><polyline fill=\"none\" stroke=\"#66cc99\" stroke-width=\"2.0\" points=\"16220.0,10982.0 16219.0,10983.0 16218.0,10983.0 16217.0,10984.0 16216.0,10984.0 16215.0,10985.0 16214.0,10985.0 16213.0,10986.0 16212.0,10986.0 16203.0,10995.0 16202.0,10995.0 16200.0,10997.0 16199.0,10997.0 16196.0,11000.0 16196.0,11002.0 16199.0,11005.0 16199.0,11006.0 16202.0,11006.0 16202.0,11007.0 16206.0,11007.0 16206.0,11006.0 16205.0,11006.0 16203.669921875,11004.0 16206.0,11004.0 16206.0,11005.0 16209.0,11005.0 16209.0,11006.0 16210.0,11006.0 16212.0,11007.0 16212.0,11008.0 16213.0,11008.0 16215.0,11009.0 16215.0,11010.0 16217.0,11012.0 16217.0,11013.0 16218.0,11014.0 16218.0,11015.0 16219.0,11016.0 16219.0,11025.0 16218.0,11026.0 16218.0,11027.0 16217.0,11028.0 16216.0,11028.0 16215.0,11029.0 16212.0,11029.0 16211.0,11028.0 16210.0,11028.0 16206.0,11024.0 16205.0,11024.0 16203.0,11022.0 16201.0,11022.0 16201.0,11028.0 16202.0,11029.0 16202.0,11031.0 16203.0,11032.0 16203.0,11033.0 16206.0,11036.0 16206.0,11037.0 16208.0,11037.0 16208.0,11038.0 16211.0,11038.0 16211.0,11039.0 16217.0,11039.0 16217.0,11038.0 16219.0,11038.0 16219.0,11037.0 16222.0,11037.0 16222.0,11036.0 16230.0,11036.0 16230.0,11037.0 16231.0,11037.0 16233.0,11038.0 16233.0,11041.0 16232.0,11042.0 16232.0,11045.0 16230.0,11045.0 16230.0,11046.0 16231.0,11047.0 16229.0,11047.0 16228.0,11048.0 16225.0,11048.0 16224.0,11049.0 16222.0,11049.0 16221.0,11050.0 16217.0,11050.0 16215.5,11051.5 16215.0,11051.0 16214.0,11051.0 16213.0,11052.0 16209.0,11052.0 16208.0,11053.0 16207.0,11053.0 16206.0,11054.0 16201.0,11054.0 16200.0,11053.0 16198.0,11055.0 16197.0,11055.0 16196.0,11056.0 16191.0,11056.0 16190.0,11057.0 16189.0,11057.0 16189.0,11058.0 16191.0,11058.0 16191.0,11059.0 16196.0,11059.0 16196.0,11060.0 16199.0,11060.0 16199.0,11059.0 16201.0,11059.0 16201.0,11058.0 16203.0,11058.0 16203.0,11057.0 16205.0,11057.0 16205.0,11056.0 16209.0,11056.0 16209.0,11057.0 16218.0,11057.0 16218.0,11058.0 16222.0,11058.0 16222.0,11059.0 16224.0,11059.0 16224.0,11063.0 16223.0,11064.0 16223.0,11065.0 16222.0,11066.0 16218.0,11066.0 16217.0,11065.0 16214.0,11065.0 16213.0,11066.0 16213.0,11069.0 16212.0,11070.0 16212.0,11071.0 16209.0,11074.0 16209.0,11075.0 16211.0,11075.0 16211.0,11076.0 16213.0,11076.0 16213.0,11075.0 16215.0,11075.0 16215.0,11074.0 16225.0,11074.0 16225.0,11073.0 16228.0,11073.0 16228.0,11074.0 16229.0,11074.0 16233.0,11077.0 16233.0,11078.0 16234.0,11079.0 16234.0,11080.0 16235.0,11081.0 16235.0,11087.0 16237.0,11087.0 16237.0,11086.0 16240.0,11086.0 16240.0,11087.0 16242.0,11087.0 16242.0,11088.0 16243.0,11088.0 16246.0,11090.0 16246.0,11091.0 16247.0,11092.0 16247.0,11093.0 16249.0,11095.0 16249.0,11096.0 16250.0,11097.0 16250.0,11098.0 16252.0,11098.0 16252.0,11099.0 16258.0,11099.0 16258.0,11100.0 16259.0,11100.0 16261.0,11101.0 16261.0,11102.0 16263.0,11104.0 16263.0,11105.0 16264.0,11105.0 16267.0,11107.0 16267.0,11108.0 16272.0,11108.0 16272.0,11107.0 16277.0,11107.0 16277.0,11106.0 16278.0,11106.0 16278.0,11105.0 16279.0,11105.0 16279.0,11101.0 16280.0,11101.0 16280.0,11100.0 16283.0,11100.0 16283.0,11101.0 16285.0,11101.0 16285.0,11102.0 16286.0,11102.0 16291.0,11106.0 16291.0,11107.0 16294.0,11105.0 16295.0,11105.0 16295.0,11104.0 16300.0,11099.0 16297.0,11099.0 16296.0,11100.0 16293.0,11100.0 16292.0,11099.0 16291.0,11099.0 16290.0,11097.0 16290.0,11093.0 16291.0,11093.0 16291.0,11092.0 16295.0,11092.0 16295.0,11091.0 16297.0,11091.0 16297.0,11090.0 16298.0,11090.0 16298.0,11089.0 16297.0,11089.0 16296.0,11087.0 16296.0,11086.0 16295.0,11086.0 16293.0,11083.0 16293.0,11081.0 16289.0,11081.0 16288.0,11080.0 16287.0,11080.0 16286.0,11079.0 16285.0,11079.0 16283.0,11076.0 16283.0,11074.0 16286.0,11070.0 16287.0,11070.0 16287.0,11065.0 16286.0,11065.0 16285.0,11064.0 16279.0,11064.0 16278.0,11063.0 16277.0,11063.0 16276.0,11062.0 16275.0,11061.0 16274.0,11061.0 16272.0,11059.0 16271.0,11059.0 16270.0,11058.0 16269.0,11058.0 16268.0,11057.0 16267.0,11057.0 16264.0,11053.0 16264.0,11050.0 16264.5,11049.0 16267.0,11049.0 16267.0,11048.0 16269.0,11048.0 16269.0,11049.0 16270.0,11049.0 16270.0,11048.0 16271.0,11048.0 16273.0,11049.5 16273.0,11050.0 16273.669921875,11050.0 16275.0,11051.0 16275.0,11052.0 16277.0,11052.0 16277.0,11053.0 16279.0,11053.0 16279.0,11054.0 16280.0,11054.0 16282.0,11055.0 16282.0,11056.0 16284.0,11056.0 16284.0,11057.0 16286.0,11057.0 16286.0,11058.0 16289.0,11058.0 16289.0,11059.0 16293.0,11059.0 16293.0,11060.0 16296.0,11060.0 16296.0,11061.0 16299.0,11061.0 16299.0,11062.0 16301.0,11062.0 16301.0,11063.0 16304.0,11063.0 16304.0,11062.0 16307.0,11062.0 16307.0,11063.0 16310.0,11063.0 16310.0,11062.0 16312.0,11062.0 16312.0,11063.0 16314.0,11063.0 16314.0,11062.0 16316.0,11062.0 16316.0,11061.0 16317.0,11061.0 16317.0,11060.0 16315.0,11060.0 16314.0,11059.0 16310.0,11059.0 16309.0,11058.0 16307.0,11058.0 16307.0,11057.0 16304.0,11057.0 16303.0,11056.0 16300.0,11056.0 16299.0,11055.0 16297.0,11055.0 16296.0,11054.0 16295.0,11054.0 16294.0,11053.0 16293.0,11053.0 16292.0,11052.0 16291.0,11052.0 16290.0,11051.0 16289.0,11051.0 16288.0,11050.0 16286.0,11050.0 16285.0,11049.0 16283.0,11049.0 16282.0,11048.0 16280.0,11048.0 16279.0,11047.0 16278.0,11047.0 16276.0,11044.0 16276.0,11038.0 16277.0,11037.0 16278.0,11037.0 16278.0,11036.0 16280.0,11036.0 16280.0,11035.0 16287.0,11035.0 16287.0,11034.0 16289.0,11034.0 16289.0,11033.0 16291.0,11033.0 16291.0,11032.0 16293.0,11032.0 16293.0,11031.0 16301.0,11031.0 16301.0,11030.0 16303.0,11029.0 16304.0,11029.0 16304.0,11028.0 16308.0,11028.0 16308.0,11027.0 16311.0,11027.0 16311.0,11026.0 16312.0,11025.0 16313.0,11025.0 16313.0,11023.0 16313.0,11020.0 16312.0,11020.0 16311.0,11021.0 16306.0,11021.0 16305.0,11022.0 16303.0,11022.0 16303.0,11021.0 16304.0,11020.0 16302.0,11020.0 16301.0,11021.0 16299.0,11021.0 16298.0,11022.0 16295.0,11022.0 16294.0,11023.0 16291.0,11023.0 16290.0,11024.0 16279.0,11024.0 16278.0,11025.0 16275.0,11025.0 16274.0,11026.0 16272.0,11026.0 16271.0,11027.0 16268.0,11027.0 16267.0,11028.0 16265.0,11028.0 16264.0,11027.0 16259.0,11027.0 16258.0,11026.0 16257.0,11026.0 16256.0,11025.0 16255.0,11025.0 16254.0,11024.0 16253.0,11024.0 16252.0,11023.0 16240.0,11023.0 16239.0,11022.0 16238.0,11022.0 16238.0,11018.0 16239.0,11018.0 16239.0,11017.0 16240.0,11016.0 16241.0,11016.0 16241.0,11015.0 16243.0,11015.0 16243.0,11014.0 16245.0,11014.0 16245.0,11013.0 16256.0,11013.0 16256.0,11012.0 16259.0,11012.0 16259.0,11011.0 16261.0,11011.0 16261.0,11010.0 16262.0,11009.0 16263.0,11009.0 16263.0,11007.0 16264.0,11007.0 16264.0,11006.0 16269.0,11006.0 16269.0,11005.0 16268.0,11005.0 16268.0,11003.0 16267.0,11003.0 16266.0,11001.0 16266.0,10999.0 16261.0,10999.0 16261.0,11000.0 16260.0,11001.0 16260.0,11002.0 16256.0,11006.0 16255.0,11006.0 16254.0,11007.0 16253.0,11007.0 16252.0,11008.0 16251.0,11008.0 16250.0,11009.0 16243.0,11009.0 16242.0,11008.0 16241.0,11008.0 16240.0,11006.0 16240.0,11003.0 16239.0,11003.0 16238.0,11004.0 16237.0,11004.0 16236.0,11005.0 16236.0,11003.0 16237.0,11003.0 16237.0,11002.0 16238.0,11000.0 16239.0,11000.0 16239.0,10998.0 16240.0,10998.0 16240.0,10997.0 16239.0,10997.0 16238.0,10996.0 16234.0,10996.0 16233.0,10995.0 16232.0,10995.0 16231.0,10994.0 16230.0,10994.0 16229.0,10992.0 16229.0,10990.0 16228.0,10990.0 16228.0,10985.0 16227.0,10985.0 16224.0,10982.0 16220.0,10982.0\" opacity=\"0.8\" /></g></svg>"
     },
     "execution_count": 32,
     "metadata": {},
     "output_type": "execute_result"
    }
   ],
   "source": [
    "iidx=1\n",
    "print(polies[iidx].type)\n",
    "polies[iidx].exterior"
   ],
   "metadata": {
    "collapsed": false,
    "pycharm": {
     "name": "#%%\n"
    }
   }
  },
  {
   "cell_type": "code",
   "execution_count": 6,
   "outputs": [
    {
     "data": {
      "text/plain": "<shapely.geometry.polygon.Polygon at 0x2f376e284f0>",
      "image/svg+xml": "<svg xmlns=\"http://www.w3.org/2000/svg\" xmlns:xlink=\"http://www.w3.org/1999/xlink\" width=\"207.36000000000058\" height=\"191.36000000000058\" viewBox=\"15883.32 10839.32 207.36000000000058 191.36000000000058\" preserveAspectRatio=\"xMinYMin meet\"><g transform=\"matrix(1,0,0,-1,0,21870.0)\"><path fill-rule=\"evenodd\" fill=\"#66cc99\" stroke=\"#555555\" stroke-width=\"2.0\" opacity=\"0.6\" d=\"M 15983.0,10847.0 L 15976.0,10848.0 L 15970.0,10850.0 L 15964.0,10853.0 L 15954.0,10863.0 L 15951.0,10869.0 L 15949.0,10875.0 L 15948.0,10882.0 L 15948.0,10883.0 L 15948.830078125,10888.830078125 L 15947.0,10887.0 L 15941.0,10884.0 L 15935.0,10882.0 L 15928.0,10881.0 L 15924.0,10881.0 L 15923.2001953125,10881.400390625 L 15919.0,10882.0 L 15916.0,10883.0 L 15915.0,10883.0 L 15913.0,10884.0 L 15907.0,10887.0 L 15906.0,10888.0 L 15904.0,10889.0 L 15899.0,10894.0 L 15898.0,10896.0 L 15897.0,10897.0 L 15894.0,10903.0 L 15893.0,10905.0 L 15893.0,10906.0 L 15892.0,10909.0 L 15891.400390625,10913.2001953125 L 15891.0,10914.0 L 15891.0,10916.0 L 15891.0,10918.0 L 15891.400390625,10918.7998046875 L 15892.0,10923.0 L 15893.0,10926.0 L 15893.0,10927.0 L 15894.0,10929.0 L 15897.0,10935.0 L 15898.0,10938.0 L 15899.0,10940.0 L 15899.75,10942.25 L 15900.0,10944.0 L 15901.0,10947.0 L 15902.0,10949.0 L 15903.0,10951.0 L 15905.0,10957.0 L 15908.0,10963.0 L 15909.0,10964.0 L 15910.0,10966.0 L 15911.0,10968.0 L 15912.0,10970.0 L 15913.0,10971.0 L 15914.0,10973.0 L 15915.0,10974.0 L 15918.0,10977.0 L 15919.0,10978.0 L 15924.0,10983.0 L 15925.0,10984.0 L 15928.0,10987.0 L 15929.0,10988.0 L 15931.0,10989.0 L 15932.0,10990.0 L 15934.0,10991.0 L 15935.0,10992.0 L 15937.0,10993.0 L 15939.0,10995.0 L 15940.0,10996.0 L 15942.0,10998.0 L 15948.0,11001.0 L 15954.0,11003.0 L 15955.400390625,11003.2001953125 L 15959.0,11005.0 L 15963.0,11007.0 L 15966.5,11007.5 L 15968.0,11008.0 L 15973.599609375,11008.7998046875 L 15978.0,11011.0 L 15981.0,11012.0 L 15984.0,11013.0 L 15987.0,11014.0 L 15989.0,11015.0 L 15992.0,11016.0 L 15995.0,11017.0 L 15998.0,11018.0 L 15999.75,11018.25 L 16002.0,11019.0 L 16008.0,11021.0 L 16015.0,11022.0 L 16022.0,11023.0 L 16030.0,11023.0 L 16037.0,11022.0 L 16040.0,11021.0 L 16043.0,11020.0 L 16046.0,11019.0 L 16052.0,11016.0 L 16056.0,11012.0 L 16056.5,11011.5 L 16058.0,11011.0 L 16064.0,11008.0 L 16065.0,11007.0 L 16067.0,11006.0 L 16077.0,10996.0 L 16080.0,10990.0 L 16082.0,10984.0 L 16083.0,10977.0 L 16082.0,10970.0 L 16080.0,10964.0 L 16077.0,10958.0 L 16067.0,10948.0 L 16061.0,10945.0 L 16055.0,10943.0 L 16048.0,10942.0 L 16045.8603515625,10942.0 L 16046.0,10941.0 L 16046.0,10940.0 L 16046.0,10938.0 L 16046.0,10937.0 L 16046.7998046875,10931.400390625 L 16047.0,10931.0 L 16049.0,10925.0 L 16049.25,10923.25 L 16050.0,10921.0 L 16051.0,10914.0 L 16051.0,10912.0 L 16051.0,10911.0 L 16051.0,10909.0 L 16051.0,10908.0 L 16051.0,10907.0 L 16050.0,10900.0 L 16049.0,10897.0 L 16048.0,10894.0 L 16047.0,10891.0 L 16044.0,10885.0 L 16043.0,10884.0 L 16042.0,10882.0 L 16041.0,10881.0 L 16040.0,10879.0 L 16038.0,10877.0 L 16037.0,10875.0 L 16027.0,10865.0 L 16025.0,10864.0 L 16016.0,10855.0 L 16010.0,10852.0 L 16004.0,10850.0 L 15997.0,10849.0 L 15993.0,10849.0 L 15990.0,10848.0 L 15983.0,10847.0 z M 15969.7998046875,10915.400390625 L 15971.0,10916.0 L 15977.0,10918.0 L 15977.5498046875,10918.080078125 L 15977.330078125,10919.66015625 L 15975.0,10920.0 L 15969.0,10922.0 L 15967.0,10923.0 L 15966.0,10920.0 L 15967.0,10918.0 L 15969.0,10917.0 L 15969.7998046875,10915.400390625 z\" /></g></svg>"
     },
     "execution_count": 6,
     "metadata": {},
     "output_type": "execute_result"
    }
   ],
   "source": [
    "poly"
   ],
   "metadata": {
    "collapsed": false,
    "pycharm": {
     "name": "#%%\n"
    }
   }
  },
  {
   "cell_type": "code",
   "execution_count": 13,
   "outputs": [
    {
     "data": {
      "text/plain": "<shapely.geometry.polygon.LinearRing at 0x2f3c27b3df0>",
      "image/svg+xml": "<svg xmlns=\"http://www.w3.org/2000/svg\" xmlns:xlink=\"http://www.w3.org/1999/xlink\" width=\"207.36000000000058\" height=\"191.36000000000058\" viewBox=\"15883.32 10839.32 207.36000000000058 191.36000000000058\" preserveAspectRatio=\"xMinYMin meet\"><g transform=\"matrix(1,0,0,-1,0,21870.0)\"><polyline fill=\"none\" stroke=\"#66cc99\" stroke-width=\"2.0\" points=\"15983.0,10847.0 15976.0,10848.0 15970.0,10850.0 15964.0,10853.0 15954.0,10863.0 15951.0,10869.0 15949.0,10875.0 15948.0,10882.0 15948.0,10883.0 15948.830078125,10888.830078125 15947.0,10887.0 15941.0,10884.0 15935.0,10882.0 15928.0,10881.0 15924.0,10881.0 15923.2001953125,10881.400390625 15919.0,10882.0 15916.0,10883.0 15915.0,10883.0 15913.0,10884.0 15907.0,10887.0 15906.0,10888.0 15904.0,10889.0 15899.0,10894.0 15898.0,10896.0 15897.0,10897.0 15894.0,10903.0 15893.0,10905.0 15893.0,10906.0 15892.0,10909.0 15891.400390625,10913.2001953125 15891.0,10914.0 15891.0,10916.0 15891.0,10918.0 15891.400390625,10918.7998046875 15892.0,10923.0 15893.0,10926.0 15893.0,10927.0 15894.0,10929.0 15897.0,10935.0 15898.0,10938.0 15899.0,10940.0 15899.75,10942.25 15900.0,10944.0 15901.0,10947.0 15902.0,10949.0 15903.0,10951.0 15905.0,10957.0 15908.0,10963.0 15909.0,10964.0 15910.0,10966.0 15911.0,10968.0 15912.0,10970.0 15913.0,10971.0 15914.0,10973.0 15915.0,10974.0 15918.0,10977.0 15919.0,10978.0 15924.0,10983.0 15925.0,10984.0 15928.0,10987.0 15929.0,10988.0 15931.0,10989.0 15932.0,10990.0 15934.0,10991.0 15935.0,10992.0 15937.0,10993.0 15939.0,10995.0 15940.0,10996.0 15942.0,10998.0 15948.0,11001.0 15954.0,11003.0 15955.400390625,11003.2001953125 15959.0,11005.0 15963.0,11007.0 15966.5,11007.5 15968.0,11008.0 15973.599609375,11008.7998046875 15978.0,11011.0 15981.0,11012.0 15984.0,11013.0 15987.0,11014.0 15989.0,11015.0 15992.0,11016.0 15995.0,11017.0 15998.0,11018.0 15999.75,11018.25 16002.0,11019.0 16008.0,11021.0 16015.0,11022.0 16022.0,11023.0 16030.0,11023.0 16037.0,11022.0 16040.0,11021.0 16043.0,11020.0 16046.0,11019.0 16052.0,11016.0 16056.0,11012.0 16056.5,11011.5 16058.0,11011.0 16064.0,11008.0 16065.0,11007.0 16067.0,11006.0 16077.0,10996.0 16080.0,10990.0 16082.0,10984.0 16083.0,10977.0 16082.0,10970.0 16080.0,10964.0 16077.0,10958.0 16067.0,10948.0 16061.0,10945.0 16055.0,10943.0 16048.0,10942.0 16045.8603515625,10942.0 16046.0,10941.0 16046.0,10940.0 16046.0,10938.0 16046.0,10937.0 16046.7998046875,10931.400390625 16047.0,10931.0 16049.0,10925.0 16049.25,10923.25 16050.0,10921.0 16051.0,10914.0 16051.0,10912.0 16051.0,10911.0 16051.0,10909.0 16051.0,10908.0 16051.0,10907.0 16050.0,10900.0 16049.0,10897.0 16048.0,10894.0 16047.0,10891.0 16044.0,10885.0 16043.0,10884.0 16042.0,10882.0 16041.0,10881.0 16040.0,10879.0 16038.0,10877.0 16037.0,10875.0 16027.0,10865.0 16025.0,10864.0 16016.0,10855.0 16010.0,10852.0 16004.0,10850.0 15997.0,10849.0 15993.0,10849.0 15990.0,10848.0 15983.0,10847.0\" opacity=\"0.8\" /></g></svg>"
     },
     "execution_count": 13,
     "metadata": {},
     "output_type": "execute_result"
    }
   ],
   "source": [
    "poly.exterior"
   ],
   "metadata": {
    "collapsed": false,
    "pycharm": {
     "name": "#%%\n"
    }
   }
  },
  {
   "cell_type": "code",
   "execution_count": 30,
   "outputs": [
    {
     "data": {
      "text/plain": "<shapely.geometry.polygon.Polygon at 0x24cb1ee7ca0>",
      "image/svg+xml": "<svg xmlns=\"http://www.w3.org/2000/svg\" xmlns:xlink=\"http://www.w3.org/1999/xlink\" width=\"300\" height=\"300\" viewBox=\"8105.04 43462.04 1105.9199999999992 360.91999999999825\" preserveAspectRatio=\"xMinYMin meet\"><g transform=\"matrix(1,0,0,-1,0,87285.0)\"><path fill-rule=\"evenodd\" fill=\"#66cc99\" stroke=\"#555555\" stroke-width=\"7.3727999999999945\" opacity=\"0.6\" d=\"M 9069.0,43503.0 L 8146.0,43612.0 L 8146.0,43665.0 L 8148.0,43668.0 L 8171.0,43688.0 L 8210.0,43715.0 L 8241.0,43726.0 L 8263.0,43733.0 L 8489.0,43769.0 L 8575.0,43780.0 L 8595.0,43782.0 L 8597.0,43782.0 L 8694.0,43776.0 L 8816.0,43765.0 L 9170.0,43699.0 L 9170.0,43544.0 L 9156.0,43537.0 L 9069.0,43503.0 z\" /></g></svg>"
     },
     "execution_count": 30,
     "metadata": {},
     "output_type": "execute_result"
    }
   ],
   "source": [
    "poly.convex_hull"
   ],
   "metadata": {
    "collapsed": false,
    "pycharm": {
     "name": "#%%\n"
    }
   }
  },
  {
   "cell_type": "code",
   "execution_count": 31,
   "outputs": [
    {
     "data": {
      "text/plain": "<shapely.geometry.polygon.Polygon at 0x24cb1ee8580>",
      "image/svg+xml": "<svg xmlns=\"http://www.w3.org/2000/svg\" xmlns:xlink=\"http://www.w3.org/1999/xlink\" width=\"300\" height=\"300\" viewBox=\"8097.7854084115725 43449.75882270407 1135.1269778307733 433.9416616154049\" preserveAspectRatio=\"xMinYMin meet\"><g transform=\"matrix(1,0,0,-1,0,87333.45930702354)\"><path fill-rule=\"evenodd\" fill=\"#66cc99\" stroke=\"#555555\" stroke-width=\"7.5675131855384885\" opacity=\"0.6\" d=\"M 9190.870646322688,43720.73033537468 L 8166.862191917205,43841.658744399814 L 8139.827148331231,43612.72897164886 L 9163.835602736714,43491.80056262373 L 9190.870646322688,43720.73033537468 z\" /></g></svg>"
     },
     "execution_count": 31,
     "metadata": {},
     "output_type": "execute_result"
    }
   ],
   "source": [
    "poly.minimum_rotated_rectangle"
   ],
   "metadata": {
    "collapsed": false,
    "pycharm": {
     "name": "#%%\n"
    }
   }
  },
  {
   "cell_type": "code",
   "execution_count": null,
   "outputs": [],
   "source": [
    "poly.buffer(1)"
   ],
   "metadata": {
    "collapsed": false,
    "pycharm": {
     "name": "#%%\n"
    }
   }
  }
 ],
 "metadata": {
  "kernelspec": {
   "display_name": "Python 3",
   "language": "python",
   "name": "python3"
  },
  "language_info": {
   "codemirror_mode": {
    "name": "ipython",
    "version": 2
   },
   "file_extension": ".py",
   "mimetype": "text/x-python",
   "name": "python",
   "nbconvert_exporter": "python",
   "pygments_lexer": "ipython2",
   "version": "2.7.6"
  }
 },
 "nbformat": 4,
 "nbformat_minor": 0
}