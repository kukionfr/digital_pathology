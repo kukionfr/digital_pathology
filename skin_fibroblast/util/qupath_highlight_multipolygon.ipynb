{
 "cells": [
  {
   "cell_type": "markdown",
   "source": [
    "convert multipolygon to none class"
   ],
   "metadata": {
    "collapsed": false,
    "pycharm": {
     "name": "#%% md\n"
    }
   }
  },
  {
   "cell_type": "code",
   "execution_count": 1,
   "metadata": {
    "collapsed": true
   },
   "outputs": [],
   "source": [
    "from paquo.projects import QuPathProject\n",
    "from paquo.classes import QuPathPathClass\n",
    "import numpy as np\n",
    "import os\n",
    "import xml.etree.ElementTree as ET\n",
    "from xml.dom import minidom\n",
    "import cv2\n",
    "from matplotlib import pyplot as plt"
   ]
  },
  {
   "cell_type": "code",
   "execution_count": 2,
   "outputs": [],
   "source": [
    "# load qupath project\n",
    "qppath = r\"\\\\kukissd\\Kyu_Sync\\Research\\Active\\Aging_organized\\svs\\svs_back\\qupath_v2\\project.qpproj\"\n",
    "with QuPathProject(qppath, mode='r+') as qp:\n",
    "    if not os.path.exists(qp.images[0].uri[7:]):\n",
    "        if os.path.exists(r\"\\\\motherserverdw\\Kyu_Sync\"):\n",
    "            for image in qp.images:\n",
    "                qp.update_image_paths(uri2uri={image.uri: image.uri.replace('kukissd','10.162.80.6')})\n",
    "        elif os.path.exists(r\"\\\\kukissd\\Kyu_Sync\"):\n",
    "            for image in qp.images:\n",
    "                qp.update_image_paths(uri2uri={image.uri: image.uri.replace('10.162.80.6','kukissd')})\n",
    "        else:\n",
    "            raise NameError('server is not accessible')\n",
    "classes = qp.path_classes"
   ],
   "metadata": {
    "collapsed": false,
    "pycharm": {
     "name": "#%%\n"
    }
   }
  },
  {
   "cell_type": "code",
   "execution_count": 7,
   "outputs": [
    {
     "data": {
      "text/plain": "{'Polygon'}"
     },
     "execution_count": 7,
     "metadata": {},
     "output_type": "execute_result"
    }
   ],
   "source": [
    "types=[]\n",
    "with QuPathProject(qppath, mode='r+') as qp:\n",
    "    image = qp.images[0]\n",
    "    annotations = image.hierarchy.annotations\n",
    "    for annotation in annotations:\n",
    "        if not annotation.path_class is None:\n",
    "            poly = annotation.roi\n",
    "            types.append(poly.type)\n",
    "set(types)"
   ],
   "metadata": {
    "collapsed": false,
    "pycharm": {
     "name": "#%%\n"
    }
   }
  },
  {
   "cell_type": "code",
   "execution_count": 7,
   "outputs": [
    {
     "name": "stdout",
     "output_type": "stream",
     "text": [
      "multipolygon QuPathPathClass('spinosum')\n",
      "multipolygon QuPathPathClass('inner corneum')\n",
      "multipolygon QuPathPathClass('white')\n",
      "multipolygon QuPathPathClass('outer corneum')\n",
      "multipolygon QuPathPathClass('basale')\n",
      "multipolygon QuPathPathClass('granulosum')\n",
      "multipolygon QuPathPathClass('collagen')\n",
      "multipolygon QuPathPathClass('basale')\n",
      "multipolygon QuPathPathClass('granulosum')\n",
      "multipolygon QuPathPathClass('outer corneum')\n",
      "multipolygon QuPathPathClass('basale')\n",
      "multipolygon QuPathPathClass('granulosum')\n",
      "multipolygon QuPathPathClass('basale')\n",
      "multipolygon QuPathPathClass('collagen')\n",
      "multipolygon QuPathPathClass('spinosum')\n",
      "multipolygon QuPathPathClass('basale')\n",
      "multipolygon QuPathPathClass('collagen')\n",
      "multipolygon QuPathPathClass('outer corneum')\n",
      "multipolygon QuPathPathClass('spinosum')\n",
      "multipolygon QuPathPathClass('basale')\n",
      "multipolygon QuPathPathClass('white')\n",
      "multipolygon QuPathPathClass('collagen')\n",
      "multipolygon QuPathPathClass('spinosum')\n",
      "multipolygon QuPathPathClass('inner corneum')\n",
      "multipolygon QuPathPathClass('white')\n",
      "multipolygon QuPathPathClass('inner corneum')\n"
     ]
    }
   ],
   "source": [
    "# label multipolygon with name \"multi\"\n",
    "with QuPathProject(qppath, mode='r+') as qp:\n",
    "    image = qp.images[0]\n",
    "    annotations = image.hierarchy.annotations\n",
    "    for annotation in annotations:\n",
    "        if not annotation.path_class is None:\n",
    "            poly = annotation.roi\n",
    "            if poly.type=='MultiPolygon':\n",
    "                print('multipolygon',annotation.path_class)\n",
    "                annotation.name = 'multi'"
   ],
   "metadata": {
    "collapsed": false,
    "pycharm": {
     "name": "#%%\n"
    }
   }
  },
  {
   "cell_type": "code",
   "execution_count": 40,
   "outputs": [
    {
     "name": "stdout",
     "output_type": "stream",
     "text": [
      "multipolygon QuPathPathClass('spinosum')\n",
      "multipolygon QuPathPathClass('inner corneum')\n",
      "multipolygon QuPathPathClass('white')\n",
      "multipolygon QuPathPathClass('outer corneum')\n",
      "multipolygon QuPathPathClass('basale')\n",
      "multipolygon QuPathPathClass('granulosum')\n",
      "multipolygon QuPathPathClass('collagen')\n",
      "multipolygon QuPathPathClass('basale')\n",
      "multipolygon QuPathPathClass('granulosum')\n",
      "multipolygon QuPathPathClass('outer corneum')\n",
      "multipolygon QuPathPathClass('basale')\n",
      "multipolygon QuPathPathClass('granulosum')\n",
      "multipolygon QuPathPathClass('basale')\n",
      "multipolygon QuPathPathClass('collagen')\n",
      "multipolygon QuPathPathClass('spinosum')\n",
      "multipolygon QuPathPathClass('basale')\n",
      "multipolygon QuPathPathClass('collagen')\n",
      "multipolygon QuPathPathClass('outer corneum')\n",
      "multipolygon QuPathPathClass('spinosum')\n",
      "multipolygon QuPathPathClass('basale')\n",
      "multipolygon QuPathPathClass('white')\n",
      "multipolygon QuPathPathClass('collagen')\n",
      "multipolygon QuPathPathClass('spinosum')\n",
      "multipolygon QuPathPathClass('inner corneum')\n",
      "multipolygon QuPathPathClass('white')\n",
      "multipolygon QuPathPathClass('inner corneum')\n"
     ]
    }
   ],
   "source": [
    "# label multipolygon with class \"none\"\n",
    "with QuPathProject(qppath, mode='r+') as qp:\n",
    "    image = qp.images[0]\n",
    "    annotations = image.hierarchy.annotations\n",
    "\n",
    "    _updated = []\n",
    "    for annotation in annotations:\n",
    "        if not annotation.path_class is None:\n",
    "            poly = annotation.roi\n",
    "            if poly.type=='MultiPolygon':\n",
    "                print('multipolygon',annotation.path_class)\n",
    "                annotation.update_path_class(classes[0])\n",
    "                _updated.append(annotation)\n",
    "    image.hierarchy.annotations.update(_updated)\n",
    "    assert image.is_changed()"
   ],
   "metadata": {
    "collapsed": false,
    "pycharm": {
     "name": "#%%\n"
    }
   }
  },
  {
   "cell_type": "code",
   "execution_count": 5,
   "outputs": [
    {
     "name": "stdout",
     "output_type": "stream",
     "text": [
      "multipolygon QuPathPathClass('spinosum')\n",
      "multipolygon QuPathPathClass('inner corneum')\n",
      "multipolygon QuPathPathClass('white')\n",
      "multipolygon QuPathPathClass('outer corneum')\n",
      "multipolygon QuPathPathClass('basale')\n",
      "multipolygon QuPathPathClass('granulosum')\n",
      "multipolygon QuPathPathClass('collagen')\n",
      "multipolygon QuPathPathClass('basale')\n",
      "multipolygon QuPathPathClass('granulosum')\n",
      "multipolygon QuPathPathClass('outer corneum')\n",
      "multipolygon QuPathPathClass('basale')\n",
      "multipolygon QuPathPathClass('granulosum')\n",
      "multipolygon QuPathPathClass('collagen')\n",
      "multipolygon QuPathPathClass('spinosum')\n",
      "multipolygon QuPathPathClass('basale')\n",
      "multipolygon QuPathPathClass('collagen')\n",
      "multipolygon QuPathPathClass('outer corneum')\n",
      "multipolygon QuPathPathClass('spinosum')\n",
      "multipolygon QuPathPathClass('basale')\n",
      "multipolygon QuPathPathClass('spinosum')\n",
      "multipolygon QuPathPathClass('inner corneum')\n",
      "multipolygon QuPathPathClass('white')\n",
      "multipolygon QuPathPathClass('inner corneum')\n",
      "multipolygon QuPathPathClass('basale')\n",
      "updating project\n"
     ]
    },
    {
     "data": {
      "text/plain": "{'Polygon'}"
     },
     "execution_count": 5,
     "metadata": {},
     "output_type": "execute_result"
    }
   ],
   "source": [
    "# expand multipolygon slightly to make it polygon and update annotation\n",
    "types=[]\n",
    "with QuPathProject(qppath, mode='r+') as qp:\n",
    "    image = qp.images[0]\n",
    "    annotations = image.hierarchy.annotations\n",
    "    _updated = []\n",
    "    for annotation in annotations:\n",
    "        if not annotation.path_class is None:\n",
    "            poly = annotation.roi\n",
    "            if poly.type=='MultiPolygon':\n",
    "                print('multipolygon',annotation.path_class)\n",
    "                while poly.type=='MultiPolygon':\n",
    "                    poly = poly.buffer(1)\n",
    "                    poly = poly.buffer(-1)\n",
    "                types.append(poly.type)\n",
    "                annotation.update_roi(poly)\n",
    "                _updated.append(annotation)\n",
    "    print('updating project')\n",
    "    annotations.update(_updated)\n",
    "    assert image.is_changed()\n",
    "\n",
    "set(types)"
   ],
   "metadata": {
    "collapsed": false,
    "pycharm": {
     "name": "#%%\n"
    }
   }
  },
  {
   "cell_type": "code",
   "execution_count": 27,
   "outputs": [
    {
     "data": {
      "text/plain": "'MultiPolygon'"
     },
     "execution_count": 27,
     "metadata": {},
     "output_type": "execute_result"
    }
   ],
   "source": [
    "poly.type"
   ],
   "metadata": {
    "collapsed": false,
    "pycharm": {
     "name": "#%%\n"
    }
   }
  },
  {
   "cell_type": "code",
   "execution_count": 29,
   "outputs": [
    {
     "data": {
      "text/plain": "<shapely.geometry.multipolygon.MultiPolygon at 0x24c7e9818e0>",
      "image/svg+xml": "<svg xmlns=\"http://www.w3.org/2000/svg\" xmlns:xlink=\"http://www.w3.org/1999/xlink\" width=\"300\" height=\"300\" viewBox=\"8105.04 43462.04 1105.9199999999992 360.91999999999825\" preserveAspectRatio=\"xMinYMin meet\"><g transform=\"matrix(1,0,0,-1,0,87285.0)\"><g><path fill-rule=\"evenodd\" fill=\"#66cc99\" stroke=\"#555555\" stroke-width=\"7.3727999999999945\" opacity=\"0.6\" d=\"M 8650.0,43678.0 L 8650.0,43693.0 L 8651.0,43693.0 L 8651.0,43694.0 L 8659.8603515625,43706.80078125 L 8659.0,43704.0 L 8655.0,43689.0 L 8650.0,43678.0 z\" /><path fill-rule=\"evenodd\" fill=\"#66cc99\" stroke=\"#555555\" stroke-width=\"7.3727999999999945\" opacity=\"0.6\" d=\"M 8659.8603515625,43706.80078125 L 8660.0,43707.25 L 8660.0,43707.0 L 8659.8603515625,43706.80078125 z\" /><path fill-rule=\"evenodd\" fill=\"#66cc99\" stroke=\"#555555\" stroke-width=\"7.3727999999999945\" opacity=\"0.6\" d=\"M 8660.0,43707.25 L 8660.0,43708.0 L 8660.23046875,43708.0 L 8660.0,43707.25 z\" /><path fill-rule=\"evenodd\" fill=\"#66cc99\" stroke=\"#555555\" stroke-width=\"7.3727999999999945\" opacity=\"0.6\" d=\"M 8660.23046875,43708.0 L 8663.0,43717.0 L 8663.0,43718.0 L 8667.0,43726.0 L 8661.0,43708.0 L 8660.23046875,43708.0 z\" /><path fill-rule=\"evenodd\" fill=\"#66cc99\" stroke=\"#555555\" stroke-width=\"7.3727999999999945\" opacity=\"0.6\" d=\"M 8667.0,43726.0 L 8658.0,43727.0 L 8658.0,43726.0 L 8643.0,43737.0 L 8624.0,43745.0 L 8624.0,43744.0 L 8609.0,43745.0 L 8609.0,43744.0 L 8608.0,43744.0 L 8592.0,43751.0 L 8592.0,43752.0 L 8582.0,43746.0 L 8572.0,43737.0 L 8569.0,43726.0 L 8561.0,43712.0 L 8561.0,43711.0 L 8557.0,43694.0 L 8557.0,43688.0 L 8552.0,43703.0 L 8552.0,43704.0 L 8553.0,43704.0 L 8548.0,43725.0 L 8544.0,43748.0 L 8543.0,43748.0 L 8531.0,43753.0 L 8512.0,43751.0 L 8503.0,43741.0 L 8503.0,43740.0 L 8494.0,43730.0 L 8485.0,43712.0 L 8476.0,43701.0 L 8479.0,43686.0 L 8487.0,43668.0 L 8487.0,43667.0 L 8490.0,43658.0 L 8490.0,43657.0 L 8491.0,43646.0 L 8489.0,43637.0 L 8490.0,43637.0 L 8491.0,43636.0 L 8495.0,43626.0 L 8488.0,43610.0 L 8485.0,43598.0 L 8485.0,43597.0 L 8478.0,43591.0 L 8464.0,43590.0 L 8463.0,43590.0 L 8438.0,43594.0 L 8425.0,43600.0 L 8424.0,43600.0 L 8411.0,43608.0 L 8397.0,43613.0 L 8383.0,43618.0 L 8369.0,43605.0 L 8359.0,43601.0 L 8350.0,43601.0 L 8343.0,43599.0 L 8334.0,43618.0 L 8328.0,43629.0 L 8320.0,43636.0 L 8320.0,43637.0 L 8312.0,43647.0 L 8312.0,43646.0 L 8300.0,43656.0 L 8299.0,43656.0 L 8295.0,43679.0 L 8274.0,43690.0 L 8257.0,43694.0 L 8243.0,43687.0 L 8240.0,43678.0 L 8226.0,43668.0 L 8218.0,43671.0 L 8203.0,43660.0 L 8195.0,43654.0 L 8188.0,43646.0 L 8188.0,43645.0 L 8176.0,43634.0 L 8164.0,43624.0 L 8146.0,43612.0 L 8146.0,43665.0 L 8148.0,43668.0 L 8154.0,43673.0 L 8162.0,43677.0 L 8171.0,43688.0 L 8183.0,43695.0 L 8183.0,43696.0 L 8194.0,43703.0 L 8203.0,43709.0 L 8204.0,43709.0 L 8210.0,43714.0 L 8210.0,43715.0 L 8211.0,43715.0 L 8225.0,43720.0 L 8225.0,43719.0 L 8241.0,43726.0 L 8253.0,43729.0 L 8254.0,43729.0 L 8254.0,43730.0 L 8263.0,43733.0 L 8276.0,43731.0 L 8284.0,43723.0 L 8285.0,43723.0 L 8300.0,43722.0 L 8301.0,43722.0 L 8313.0,43725.0 L 8315.0,43725.0 L 8327.0,43727.0 L 8329.0,43727.0 L 8342.0,43725.0 L 8342.0,43726.0 L 8343.0,43726.0 L 8350.0,43732.0 L 8351.0,43732.0 L 8365.0,43728.0 L 8372.0,43724.0 L 8372.0,43723.0 L 8373.0,43723.0 L 8373.0,43724.0 L 8374.0,43724.0 L 8388.0,43723.0 L 8391.0,43723.0 L 8391.0,43724.0 L 8392.0,43724.0 L 8400.0,43720.0 L 8401.0,43720.0 L 8401.0,43721.0 L 8402.0,43721.0 L 8403.0,43720.0 L 8404.0,43720.0 L 8418.0,43717.0 L 8419.0,43718.0 L 8420.0,43718.0 L 8431.0,43727.0 L 8432.0,43728.0 L 8441.0,43733.0 L 8441.0,43734.0 L 8442.0,43734.0 L 8442.0,43735.0 L 8443.0,43735.0 L 8455.0,43742.0 L 8456.0,43742.0 L 8464.0,43753.0 L 8471.0,43760.0 L 8472.0,43760.0 L 8472.0,43761.0 L 8489.0,43769.0 L 8505.0,43766.0 L 8515.0,43771.0 L 8517.0,43771.0 L 8532.0,43772.0 L 8539.0,43768.0 L 8540.0,43768.0 L 8540.0,43769.0 L 8541.0,43769.0 L 8550.0,43768.0 L 8551.0,43768.0 L 8567.0,43775.0 L 8568.0,43775.0 L 8568.0,43776.0 L 8573.0,43779.0 L 8575.0,43779.0 L 8575.0,43780.0 L 8576.0,43780.0 L 8595.0,43782.0 L 8597.0,43782.0 L 8612.0,43780.0 L 8615.0,43780.0 L 8626.0,43774.0 L 8626.0,43775.0 L 8627.0,43775.0 L 8642.0,43771.0 L 8644.0,43771.0 L 8644.0,43772.0 L 8645.0,43772.0 L 8654.0,43771.0 L 8655.0,43772.0 L 8678.0,43771.0 L 8679.0,43771.0 L 8679.0,43772.0 L 8679.0,43773.0 L 8692.0,43775.0 L 8692.0,43776.0 L 8694.0,43776.0 L 8695.0,43775.0 L 8702.0,43772.0 L 8703.0,43772.0 L 8721.0,43766.0 L 8725.0,43766.0 L 8734.0,43764.0 L 8735.0,43764.0 L 8750.0,43761.0 L 8758.0,43760.0 L 8759.0,43760.0 L 8774.0,43759.0 L 8775.0,43759.0 L 8775.0,43760.0 L 8776.0,43760.0 L 8782.0,43759.0 L 8784.0,43759.0 L 8785.0,43760.0 L 8815.0,43764.0 L 8815.0,43765.0 L 8816.0,43765.0 L 8830.0,43760.0 L 8847.0,43757.0 L 8848.0,43757.0 L 8861.0,43753.0 L 8867.0,43753.0 L 8876.0,43749.0 L 8876.0,43750.0 L 8877.0,43750.0 L 8887.0,43744.0 L 8889.0,43744.0 L 8899.0,43738.0 L 8900.0,43738.0 L 8900.0,43739.0 L 8901.0,43739.0 L 8919.0,43738.0 L 8919.0,43739.0 L 8936.0,43739.0 L 8942.0,43735.0 L 8942.0,43734.0 L 8943.0,43734.0 L 8953.0,43730.0 L 8963.0,43728.0 L 8963.0,43729.0 L 8964.0,43729.0 L 8979.0,43727.0 L 8985.0,43721.0 L 8985.0,43720.0 L 8993.0,43716.0 L 9001.0,43714.0 L 9017.0,43711.0 L 9017.0,43710.0 L 9031.0,43706.0 L 9032.0,43706.0 L 9048.0,43704.0 L 9049.0,43704.0 L 9056.0,43695.0 L 9061.0,43688.0 L 9070.0,43680.0 L 9080.0,43676.0 L 9080.0,43675.0 L 9089.0,43671.0 L 9090.0,43671.0 L 9103.0,43676.0 L 9103.0,43677.0 L 9104.0,43677.0 L 9118.0,43675.0 L 9118.0,43674.0 L 9133.0,43677.0 L 9134.0,43677.0 L 9144.0,43679.0 L 9150.0,43683.0 L 9155.0,43687.0 L 9160.0,43692.0 L 9170.0,43699.0 L 9170.0,43678.0 L 9170.0,43544.0 L 9156.0,43537.0 L 9142.0,43534.0 L 9129.0,43534.0 L 9112.0,43533.0 L 9091.0,43529.0 L 9080.0,43514.0 L 9069.0,43503.0 L 9061.0,43504.0 L 9054.0,43517.0 L 9046.0,43525.0 L 9028.0,43525.0 L 9015.0,43529.0 L 9002.0,43537.0 L 8999.0,43545.0 L 8976.0,43551.0 L 8977.0,43551.0 L 8966.0,43556.0 L 8957.0,43563.0 L 8941.0,43571.0 L 8930.0,43577.0 L 8926.0,43591.0 L 8926.0,43592.0 L 8917.0,43605.0 L 8917.0,43621.0 L 8914.0,43633.0 L 8914.0,43634.0 L 8914.0,43649.0 L 8919.0,43661.0 L 8918.0,43661.0 L 8919.0,43674.0 L 8919.0,43675.0 L 8906.0,43687.0 L 8883.0,43694.0 L 8863.0,43707.0 L 8848.0,43707.0 L 8840.0,43684.0 L 8840.0,43683.0 L 8838.0,43669.0 L 8829.0,43658.0 L 8832.0,43645.0 L 8832.0,43644.0 L 8833.580078125,43641.7890625 L 8818.0,43634.0 L 8811.0,43640.0 L 8798.0,43634.0 L 8785.0,43635.0 L 8771.0,43639.0 L 8761.0,43649.0 L 8749.0,43649.0 L 8749.0,43648.0 L 8745.0,43635.0 L 8746.0,43635.0 L 8747.0,43625.0 L 8743.0,43613.0 L 8745.0,43600.0 L 8739.0,43591.0 L 8737.0,43582.0 L 8730.0,43573.0 L 8721.0,43577.0 L 8714.0,43590.0 L 8723.0,43600.0 L 8730.0,43609.0 L 8735.0,43618.0 L 8735.0,43619.0 L 8741.0,43633.0 L 8730.0,43640.0 L 8727.0,43652.0 L 8729.0,43662.0 L 8722.0,43675.0 L 8716.0,43692.0 L 8716.0,43693.0 L 8717.0,43704.0 L 8717.0,43705.0 L 8711.0,43716.0 L 8702.0,43724.0 L 8692.0,43731.0 L 8689.0,43747.0 L 8680.0,43746.0 L 8672.0,43736.0 L 8667.0,43726.0 z\" /><path fill-rule=\"evenodd\" fill=\"#66cc99\" stroke=\"#555555\" stroke-width=\"7.3727999999999945\" opacity=\"0.6\" d=\"M 8833.580078125,43641.7890625 L 8834.0,43642.0 L 8836.0,43638.3984375 L 8833.580078125,43641.7890625 z\" /><path fill-rule=\"evenodd\" fill=\"#66cc99\" stroke=\"#555555\" stroke-width=\"7.3727999999999945\" opacity=\"0.6\" d=\"M 8836.0,43638.3984375 L 8842.0,43630.0 L 8841.849609375,43627.87109375 L 8836.0,43638.3984375 z\" /><path fill-rule=\"evenodd\" fill=\"#66cc99\" stroke=\"#555555\" stroke-width=\"7.3727999999999945\" opacity=\"0.6\" d=\"M 8841.849609375,43627.87109375 L 8844.0,43624.0 L 8845.0,43623.0 L 8845.0,43622.0 L 8843.0,43613.0 L 8843.0,43604.0 L 8841.0,43616.0 L 8841.849609375,43627.87109375 z\" /></g></g></svg>"
     },
     "execution_count": 29,
     "metadata": {},
     "output_type": "execute_result"
    }
   ],
   "source": [
    "poly"
   ],
   "metadata": {
    "collapsed": false,
    "pycharm": {
     "name": "#%%\n"
    }
   }
  },
  {
   "cell_type": "code",
   "execution_count": 30,
   "outputs": [
    {
     "data": {
      "text/plain": "<shapely.geometry.polygon.Polygon at 0x24cb1ee7ca0>",
      "image/svg+xml": "<svg xmlns=\"http://www.w3.org/2000/svg\" xmlns:xlink=\"http://www.w3.org/1999/xlink\" width=\"300\" height=\"300\" viewBox=\"8105.04 43462.04 1105.9199999999992 360.91999999999825\" preserveAspectRatio=\"xMinYMin meet\"><g transform=\"matrix(1,0,0,-1,0,87285.0)\"><path fill-rule=\"evenodd\" fill=\"#66cc99\" stroke=\"#555555\" stroke-width=\"7.3727999999999945\" opacity=\"0.6\" d=\"M 9069.0,43503.0 L 8146.0,43612.0 L 8146.0,43665.0 L 8148.0,43668.0 L 8171.0,43688.0 L 8210.0,43715.0 L 8241.0,43726.0 L 8263.0,43733.0 L 8489.0,43769.0 L 8575.0,43780.0 L 8595.0,43782.0 L 8597.0,43782.0 L 8694.0,43776.0 L 8816.0,43765.0 L 9170.0,43699.0 L 9170.0,43544.0 L 9156.0,43537.0 L 9069.0,43503.0 z\" /></g></svg>"
     },
     "execution_count": 30,
     "metadata": {},
     "output_type": "execute_result"
    }
   ],
   "source": [
    "poly.convex_hull"
   ],
   "metadata": {
    "collapsed": false,
    "pycharm": {
     "name": "#%%\n"
    }
   }
  },
  {
   "cell_type": "code",
   "execution_count": 31,
   "outputs": [
    {
     "data": {
      "text/plain": "<shapely.geometry.polygon.Polygon at 0x24cb1ee8580>",
      "image/svg+xml": "<svg xmlns=\"http://www.w3.org/2000/svg\" xmlns:xlink=\"http://www.w3.org/1999/xlink\" width=\"300\" height=\"300\" viewBox=\"8097.7854084115725 43449.75882270407 1135.1269778307733 433.9416616154049\" preserveAspectRatio=\"xMinYMin meet\"><g transform=\"matrix(1,0,0,-1,0,87333.45930702354)\"><path fill-rule=\"evenodd\" fill=\"#66cc99\" stroke=\"#555555\" stroke-width=\"7.5675131855384885\" opacity=\"0.6\" d=\"M 9190.870646322688,43720.73033537468 L 8166.862191917205,43841.658744399814 L 8139.827148331231,43612.72897164886 L 9163.835602736714,43491.80056262373 L 9190.870646322688,43720.73033537468 z\" /></g></svg>"
     },
     "execution_count": 31,
     "metadata": {},
     "output_type": "execute_result"
    }
   ],
   "source": [
    "poly.minimum_rotated_rectangle"
   ],
   "metadata": {
    "collapsed": false,
    "pycharm": {
     "name": "#%%\n"
    }
   }
  },
  {
   "cell_type": "code",
   "execution_count": null,
   "outputs": [],
   "source": [
    "poly.buffer(1)"
   ],
   "metadata": {
    "collapsed": false,
    "pycharm": {
     "name": "#%%\n"
    }
   }
  }
 ],
 "metadata": {
  "kernelspec": {
   "display_name": "Python 3",
   "language": "python",
   "name": "python3"
  },
  "language_info": {
   "codemirror_mode": {
    "name": "ipython",
    "version": 2
   },
   "file_extension": ".py",
   "mimetype": "text/x-python",
   "name": "python",
   "nbconvert_exporter": "python",
   "pygments_lexer": "ipython2",
   "version": "2.7.6"
  }
 },
 "nbformat": 4,
 "nbformat_minor": 0
}