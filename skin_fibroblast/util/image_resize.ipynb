{
 "cells": [
  {
   "cell_type": "code",
   "execution_count": 1,
   "metadata": {
    "collapsed": true
   },
   "outputs": [],
   "source": [
    "from PIL import Image\n",
    "import os"
   ]
  },
  {
   "cell_type": "code",
   "execution_count": null,
   "outputs": [],
   "source": [
    "imsrc = r''\n",
    "imlist = [os.path.join(imsrc,_) for _ in os.listdir(imsrc) if _.endswith('.tif')]\n",
    "dst = os.path.join(imsrc,'thumbnail')\n",
    "if not os.path.exists(dst):\n",
    "    os.mkdir(dst)\n",
    "\n",
    "rsf = 1/2\n",
    "for im in imlist:\n",
    "    org = Image.open(im)\n",
    "    new = org.resize([(x*rsf,y*rsf) for (x,y) in org.size], Image.NEAREST)\n",
    "    new.save(os.path.join(dst,os.path.basename(im)))"
   ],
   "metadata": {
    "collapsed": false,
    "pycharm": {
     "name": "#%%\n"
    }
   }
  }
 ],
 "metadata": {
  "kernelspec": {
   "display_name": "Python 3",
   "language": "python",
   "name": "python3"
  },
  "language_info": {
   "codemirror_mode": {
    "name": "ipython",
    "version": 2
   },
   "file_extension": ".py",
   "mimetype": "text/x-python",
   "name": "python",
   "nbconvert_exporter": "python",
   "pygments_lexer": "ipython2",
   "version": "2.7.6"
  }
 },
 "nbformat": 4,
 "nbformat_minor": 0
}