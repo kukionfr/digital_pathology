{
 "cells": [
  {
   "cell_type": "code",
   "execution_count": 4,
   "metadata": {
    "collapsed": true
   },
   "outputs": [],
   "source": [
    "import xml.etree.ElementTree as ET\n",
    "from xml.dom import minidom\n",
    "import scipy.io\n",
    "import os"
   ]
  },
  {
   "cell_type": "code",
   "execution_count": 5,
   "outputs": [],
   "source": [
    "dst = r'\\\\babyserverdw3\\ashley kiemen\\PanIN Modelling Package\\Sashank skin analysis\\CellCountVerification\\CellCountSample'\n",
    "filename = '0406L5PD14E4topHchannel.tif'\n",
    "\n",
    "matsrc = dst\n",
    "matfn = 'datapoints.mat'\n",
    "\n",
    "dstfn = filename.replace('tif','xml')\n",
    "\n",
    "mat = scipy.io.loadmat(os.path.join(matsrc,matfn))"
   ],
   "metadata": {
    "collapsed": false,
    "pycharm": {
     "name": "#%%\n"
    }
   }
  },
  {
   "cell_type": "code",
   "execution_count": 6,
   "outputs": [],
   "source": [
    "root = ET.Element(\"CellCounter_Marker_File\")\n",
    "\n",
    "m1 = ET.Element(\"Image_Properties\")\n",
    "b1 = ET.SubElement(m1, \"Image_Filename\")\n",
    "b1.text = filename\n",
    "b2 = ET.SubElement(m1, \"X_Calibration\")\n",
    "b2.text = '0.010416666666666666'\n",
    "b3 = ET.SubElement(m1, \"Z_Calibration\")\n",
    "b3.text = '1.0'\n",
    "b4 = ET.SubElement(m1, \"Calibration_Unit\")\n",
    "b4.text = 'inch'\n",
    "b5 = ET.SubElement(m1, \"Y_Calibration\")\n",
    "b5.text = '0.010416666666666666'\n",
    "root.append(m1)\n",
    "\n",
    "m2 = ET.Element(\"Marker_Data\")\n",
    "c0 = ET.SubElement(m2, \"Current_Type\")\n",
    "c0.text = '1'\n",
    "c1 = ET.SubElement(m2, \"Marker_Type\")\n",
    "d1 = ET.SubElement(c1, \"Type\")\n",
    "d1.text = '1'\n",
    "d2 = ET.SubElement(c1, \"Name\")\n",
    "d2.text = 'Type 1'\n",
    "\n",
    "xs = mat['x']\n",
    "ys = mat['y']\n",
    "\n",
    "for x,y in zip(xs,ys):\n",
    "    e = ET.SubElement(c1, \"Marker\")\n",
    "    fx = ET.SubElement(e, \"MarkerX\")\n",
    "    fx.text = str(x[0])\n",
    "    fy = ET.SubElement(e, \"MarkerY\")\n",
    "    fy.text = str(y[0])\n",
    "    fz = ET.SubElement(e, \"MarkerZ\")\n",
    "    fz.text = str(1)\n",
    "\n",
    "c2 = ET.SubElement(m2, \"Marker_Type\")\n",
    "d1 = ET.SubElement(c2, \"Type\")\n",
    "d1.text = '2'\n",
    "d2 = ET.SubElement(c2, \"Name\")\n",
    "d2.text = 'Type 2'\n",
    "\n",
    "c3 = ET.SubElement(m2, \"Marker_Type\")\n",
    "d1 = ET.SubElement(c3, \"Type\")\n",
    "d1.text = '3'\n",
    "d2 = ET.SubElement(c3, \"Name\")\n",
    "d2.text = 'Type 3'\n",
    "\n",
    "c4 = ET.SubElement(m2, \"Marker_Type\")\n",
    "d1 = ET.SubElement(c4, \"Type\")\n",
    "d1.text = '4'\n",
    "d2 = ET.SubElement(c4, \"Name\")\n",
    "d2.text = 'Type 4'\n",
    "\n",
    "c5 = ET.SubElement(m2, \"Marker_Type\")\n",
    "d1 = ET.SubElement(c5, \"Type\")\n",
    "d1.text = '5'\n",
    "d2 = ET.SubElement(c5, \"Name\")\n",
    "d2.text = 'Type 5'\n",
    "\n",
    "c6 = ET.SubElement(m2, \"Marker_Type\")\n",
    "d1 = ET.SubElement(c6, \"Type\")\n",
    "d1.text = '6'\n",
    "d2 = ET.SubElement(c6, \"Name\")\n",
    "d2.text = 'Type 6'\n",
    "\n",
    "c7 = ET.SubElement(m2, \"Marker_Type\")\n",
    "d1 = ET.SubElement(c7, \"Type\")\n",
    "d1.text = '7'\n",
    "d2 = ET.SubElement(c7, \"Name\")\n",
    "d2.text = 'Type 7'\n",
    "\n",
    "c8 = ET.SubElement(m2, \"Marker_Type\")\n",
    "d1 = ET.SubElement(c8, \"Type\")\n",
    "d1.text = '8'\n",
    "d2 = ET.SubElement(c8, \"Name\")\n",
    "d2.text = 'Type 8'\n",
    "root.append(m2)\n",
    "\n",
    "# with open('test.xml','wb') as f:\n",
    "#     ET.ElementTree(root).write(f)\n",
    "\n",
    "xmlstr = minidom.parseString(ET.tostring(root)).toprettyxml(indent=\"   \")\n",
    "\n",
    "with open(os.path.join(dst,dstfn),'wb') as ff:\n",
    "        ff.write(xmlstr.encode('utf-8'))"
   ],
   "metadata": {
    "collapsed": false,
    "pycharm": {
     "name": "#%%\n"
    }
   }
  }
 ],
 "metadata": {
  "kernelspec": {
   "display_name": "Python 3",
   "language": "python",
   "name": "python3"
  },
  "language_info": {
   "codemirror_mode": {
    "name": "ipython",
    "version": 2
   },
   "file_extension": ".py",
   "mimetype": "text/x-python",
   "name": "python",
   "nbconvert_exporter": "python",
   "pygments_lexer": "ipython2",
   "version": "2.7.6"
  }
 },
 "nbformat": 4,
 "nbformat_minor": 0
}